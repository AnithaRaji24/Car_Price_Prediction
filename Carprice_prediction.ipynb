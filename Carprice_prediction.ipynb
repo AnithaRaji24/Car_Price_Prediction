{
  "nbformat": 4,
  "nbformat_minor": 0,
  "metadata": {
    "colab": {
      "provenance": []
    },
    "kernelspec": {
      "name": "python3",
      "display_name": "Python 3"
    },
    "language_info": {
      "name": "python"
    }
  },
  "cells": [
    {
      "cell_type": "code",
      "execution_count": 3,
      "metadata": {
        "id": "d3h9g0tWQFAI"
      },
      "outputs": [],
      "source": [
        "import pandas as pd\n",
        "import numpy as np\n",
        "import matplotlib.pyplot as plt\n",
        "import seaborn as sns"
      ]
    },
    {
      "cell_type": "code",
      "source": [
        "df = pd.read_csv('/content/car_data.csv')"
      ],
      "metadata": {
        "id": "gnIazSFLQIlf"
      },
      "execution_count": 4,
      "outputs": []
    },
    {
      "cell_type": "code",
      "source": [
        "df.shape"
      ],
      "metadata": {
        "colab": {
          "base_uri": "https://localhost:8080/"
        },
        "id": "7IAYgJuSQIpd",
        "outputId": "af90c54a-8ae4-466b-8498-5dae4a600a31"
      },
      "execution_count": 5,
      "outputs": [
        {
          "output_type": "execute_result",
          "data": {
            "text/plain": [
              "(804, 12)"
            ]
          },
          "metadata": {},
          "execution_count": 5
        }
      ]
    },
    {
      "cell_type": "code",
      "source": [
        "df.head()"
      ],
      "metadata": {
        "colab": {
          "base_uri": "https://localhost:8080/",
          "height": 357
        },
        "id": "jkecNtZgQIsc",
        "outputId": "efcfb78a-ce17-402b-f614-cd9774b122e8"
      },
      "execution_count": 6,
      "outputs": [
        {
          "output_type": "execute_result",
          "data": {
            "text/plain": [
              "          Price  Mileage   Make    Model      Trim   Type  Cylinder  Liter  \\\n",
              "0  17314.103129     8221  Buick  Century  Sedan 4D  Sedan         6    3.1   \n",
              "1  17542.036083     9135  Buick  Century  Sedan 4D  Sedan         6    3.1   \n",
              "2  16218.847862    13196  Buick  Century  Sedan 4D  Sedan         6    3.1   \n",
              "3  16336.913140    16342  Buick  Century  Sedan 4D  Sedan         6    3.1   \n",
              "4  16339.170324    19832  Buick  Century  Sedan 4D  Sedan         6    3.1   \n",
              "\n",
              "   Doors  Cruise  Sound  Leather  \n",
              "0      4       1      1        1  \n",
              "1      4       1      1        0  \n",
              "2      4       1      1        0  \n",
              "3      4       1      0        0  \n",
              "4      4       1      0        1  "
            ],
            "text/html": [
              "\n",
              "  <div id=\"df-98ef70f2-cb57-4326-901b-0df14689d2a6\">\n",
              "    <div class=\"colab-df-container\">\n",
              "      <div>\n",
              "<style scoped>\n",
              "    .dataframe tbody tr th:only-of-type {\n",
              "        vertical-align: middle;\n",
              "    }\n",
              "\n",
              "    .dataframe tbody tr th {\n",
              "        vertical-align: top;\n",
              "    }\n",
              "\n",
              "    .dataframe thead th {\n",
              "        text-align: right;\n",
              "    }\n",
              "</style>\n",
              "<table border=\"1\" class=\"dataframe\">\n",
              "  <thead>\n",
              "    <tr style=\"text-align: right;\">\n",
              "      <th></th>\n",
              "      <th>Price</th>\n",
              "      <th>Mileage</th>\n",
              "      <th>Make</th>\n",
              "      <th>Model</th>\n",
              "      <th>Trim</th>\n",
              "      <th>Type</th>\n",
              "      <th>Cylinder</th>\n",
              "      <th>Liter</th>\n",
              "      <th>Doors</th>\n",
              "      <th>Cruise</th>\n",
              "      <th>Sound</th>\n",
              "      <th>Leather</th>\n",
              "    </tr>\n",
              "  </thead>\n",
              "  <tbody>\n",
              "    <tr>\n",
              "      <th>0</th>\n",
              "      <td>17314.103129</td>\n",
              "      <td>8221</td>\n",
              "      <td>Buick</td>\n",
              "      <td>Century</td>\n",
              "      <td>Sedan 4D</td>\n",
              "      <td>Sedan</td>\n",
              "      <td>6</td>\n",
              "      <td>3.1</td>\n",
              "      <td>4</td>\n",
              "      <td>1</td>\n",
              "      <td>1</td>\n",
              "      <td>1</td>\n",
              "    </tr>\n",
              "    <tr>\n",
              "      <th>1</th>\n",
              "      <td>17542.036083</td>\n",
              "      <td>9135</td>\n",
              "      <td>Buick</td>\n",
              "      <td>Century</td>\n",
              "      <td>Sedan 4D</td>\n",
              "      <td>Sedan</td>\n",
              "      <td>6</td>\n",
              "      <td>3.1</td>\n",
              "      <td>4</td>\n",
              "      <td>1</td>\n",
              "      <td>1</td>\n",
              "      <td>0</td>\n",
              "    </tr>\n",
              "    <tr>\n",
              "      <th>2</th>\n",
              "      <td>16218.847862</td>\n",
              "      <td>13196</td>\n",
              "      <td>Buick</td>\n",
              "      <td>Century</td>\n",
              "      <td>Sedan 4D</td>\n",
              "      <td>Sedan</td>\n",
              "      <td>6</td>\n",
              "      <td>3.1</td>\n",
              "      <td>4</td>\n",
              "      <td>1</td>\n",
              "      <td>1</td>\n",
              "      <td>0</td>\n",
              "    </tr>\n",
              "    <tr>\n",
              "      <th>3</th>\n",
              "      <td>16336.913140</td>\n",
              "      <td>16342</td>\n",
              "      <td>Buick</td>\n",
              "      <td>Century</td>\n",
              "      <td>Sedan 4D</td>\n",
              "      <td>Sedan</td>\n",
              "      <td>6</td>\n",
              "      <td>3.1</td>\n",
              "      <td>4</td>\n",
              "      <td>1</td>\n",
              "      <td>0</td>\n",
              "      <td>0</td>\n",
              "    </tr>\n",
              "    <tr>\n",
              "      <th>4</th>\n",
              "      <td>16339.170324</td>\n",
              "      <td>19832</td>\n",
              "      <td>Buick</td>\n",
              "      <td>Century</td>\n",
              "      <td>Sedan 4D</td>\n",
              "      <td>Sedan</td>\n",
              "      <td>6</td>\n",
              "      <td>3.1</td>\n",
              "      <td>4</td>\n",
              "      <td>1</td>\n",
              "      <td>0</td>\n",
              "      <td>1</td>\n",
              "    </tr>\n",
              "  </tbody>\n",
              "</table>\n",
              "</div>\n",
              "      <button class=\"colab-df-convert\" onclick=\"convertToInteractive('df-98ef70f2-cb57-4326-901b-0df14689d2a6')\"\n",
              "              title=\"Convert this dataframe to an interactive table.\"\n",
              "              style=\"display:none;\">\n",
              "        \n",
              "  <svg xmlns=\"http://www.w3.org/2000/svg\" height=\"24px\"viewBox=\"0 0 24 24\"\n",
              "       width=\"24px\">\n",
              "    <path d=\"M0 0h24v24H0V0z\" fill=\"none\"/>\n",
              "    <path d=\"M18.56 5.44l.94 2.06.94-2.06 2.06-.94-2.06-.94-.94-2.06-.94 2.06-2.06.94zm-11 1L8.5 8.5l.94-2.06 2.06-.94-2.06-.94L8.5 2.5l-.94 2.06-2.06.94zm10 10l.94 2.06.94-2.06 2.06-.94-2.06-.94-.94-2.06-.94 2.06-2.06.94z\"/><path d=\"M17.41 7.96l-1.37-1.37c-.4-.4-.92-.59-1.43-.59-.52 0-1.04.2-1.43.59L10.3 9.45l-7.72 7.72c-.78.78-.78 2.05 0 2.83L4 21.41c.39.39.9.59 1.41.59.51 0 1.02-.2 1.41-.59l7.78-7.78 2.81-2.81c.8-.78.8-2.07 0-2.86zM5.41 20L4 18.59l7.72-7.72 1.47 1.35L5.41 20z\"/>\n",
              "  </svg>\n",
              "      </button>\n",
              "      \n",
              "  <style>\n",
              "    .colab-df-container {\n",
              "      display:flex;\n",
              "      flex-wrap:wrap;\n",
              "      gap: 12px;\n",
              "    }\n",
              "\n",
              "    .colab-df-convert {\n",
              "      background-color: #E8F0FE;\n",
              "      border: none;\n",
              "      border-radius: 50%;\n",
              "      cursor: pointer;\n",
              "      display: none;\n",
              "      fill: #1967D2;\n",
              "      height: 32px;\n",
              "      padding: 0 0 0 0;\n",
              "      width: 32px;\n",
              "    }\n",
              "\n",
              "    .colab-df-convert:hover {\n",
              "      background-color: #E2EBFA;\n",
              "      box-shadow: 0px 1px 2px rgba(60, 64, 67, 0.3), 0px 1px 3px 1px rgba(60, 64, 67, 0.15);\n",
              "      fill: #174EA6;\n",
              "    }\n",
              "\n",
              "    [theme=dark] .colab-df-convert {\n",
              "      background-color: #3B4455;\n",
              "      fill: #D2E3FC;\n",
              "    }\n",
              "\n",
              "    [theme=dark] .colab-df-convert:hover {\n",
              "      background-color: #434B5C;\n",
              "      box-shadow: 0px 1px 3px 1px rgba(0, 0, 0, 0.15);\n",
              "      filter: drop-shadow(0px 1px 2px rgba(0, 0, 0, 0.3));\n",
              "      fill: #FFFFFF;\n",
              "    }\n",
              "  </style>\n",
              "\n",
              "      <script>\n",
              "        const buttonEl =\n",
              "          document.querySelector('#df-98ef70f2-cb57-4326-901b-0df14689d2a6 button.colab-df-convert');\n",
              "        buttonEl.style.display =\n",
              "          google.colab.kernel.accessAllowed ? 'block' : 'none';\n",
              "\n",
              "        async function convertToInteractive(key) {\n",
              "          const element = document.querySelector('#df-98ef70f2-cb57-4326-901b-0df14689d2a6');\n",
              "          const dataTable =\n",
              "            await google.colab.kernel.invokeFunction('convertToInteractive',\n",
              "                                                     [key], {});\n",
              "          if (!dataTable) return;\n",
              "\n",
              "          const docLinkHtml = 'Like what you see? Visit the ' +\n",
              "            '<a target=\"_blank\" href=https://colab.research.google.com/notebooks/data_table.ipynb>data table notebook</a>'\n",
              "            + ' to learn more about interactive tables.';\n",
              "          element.innerHTML = '';\n",
              "          dataTable['output_type'] = 'display_data';\n",
              "          await google.colab.output.renderOutput(dataTable, element);\n",
              "          const docLink = document.createElement('div');\n",
              "          docLink.innerHTML = docLinkHtml;\n",
              "          element.appendChild(docLink);\n",
              "        }\n",
              "      </script>\n",
              "    </div>\n",
              "  </div>\n",
              "  "
            ]
          },
          "metadata": {},
          "execution_count": 6
        }
      ]
    },
    {
      "cell_type": "code",
      "source": [
        "df.dtypes"
      ],
      "metadata": {
        "colab": {
          "base_uri": "https://localhost:8080/"
        },
        "id": "xc1yETC9QIv-",
        "outputId": "ccc1cb9f-74a0-4a9d-a315-bd9e242c4180"
      },
      "execution_count": 7,
      "outputs": [
        {
          "output_type": "execute_result",
          "data": {
            "text/plain": [
              "Price       float64\n",
              "Mileage       int64\n",
              "Make         object\n",
              "Model        object\n",
              "Trim         object\n",
              "Type         object\n",
              "Cylinder      int64\n",
              "Liter       float64\n",
              "Doors         int64\n",
              "Cruise        int64\n",
              "Sound         int64\n",
              "Leather       int64\n",
              "dtype: object"
            ]
          },
          "metadata": {},
          "execution_count": 7
        }
      ]
    },
    {
      "cell_type": "code",
      "source": [
        "df.isnull().sum()"
      ],
      "metadata": {
        "colab": {
          "base_uri": "https://localhost:8080/"
        },
        "id": "kgimz5tTQIzn",
        "outputId": "b7a1b7fb-57e9-462b-c851-e99d7f86a60b"
      },
      "execution_count": 8,
      "outputs": [
        {
          "output_type": "execute_result",
          "data": {
            "text/plain": [
              "Price       0\n",
              "Mileage     0\n",
              "Make        0\n",
              "Model       0\n",
              "Trim        0\n",
              "Type        0\n",
              "Cylinder    0\n",
              "Liter       0\n",
              "Doors       0\n",
              "Cruise      0\n",
              "Sound       0\n",
              "Leather     0\n",
              "dtype: int64"
            ]
          },
          "metadata": {},
          "execution_count": 8
        }
      ]
    },
    {
      "cell_type": "code",
      "source": [
        "df = df.drop_duplicates()\n",
        "df.shape"
      ],
      "metadata": {
        "colab": {
          "base_uri": "https://localhost:8080/"
        },
        "id": "xziZunyBQI3C",
        "outputId": "7ca572c1-130f-4217-cbba-48850f2b144b"
      },
      "execution_count": 9,
      "outputs": [
        {
          "output_type": "execute_result",
          "data": {
            "text/plain": [
              "(804, 12)"
            ]
          },
          "metadata": {},
          "execution_count": 9
        }
      ]
    },
    {
      "cell_type": "code",
      "source": [
        "df.describe()"
      ],
      "metadata": {
        "colab": {
          "base_uri": "https://localhost:8080/",
          "height": 364
        },
        "id": "si04fN6pQI6h",
        "outputId": "8249025d-a741-432a-ad9a-b30268bb1d19"
      },
      "execution_count": 10,
      "outputs": [
        {
          "output_type": "execute_result",
          "data": {
            "text/plain": [
              "              Price       Mileage    Cylinder       Liter       Doors  \\\n",
              "count    804.000000    804.000000  804.000000  804.000000  804.000000   \n",
              "mean   21343.143767  19831.934080    5.268657    3.037313    3.527363   \n",
              "std     9884.852801   8196.319707    1.387531    1.105562    0.850169   \n",
              "min     8638.930895    266.000000    4.000000    1.600000    2.000000   \n",
              "25%    14273.073870  14623.500000    4.000000    2.200000    4.000000   \n",
              "50%    18024.995019  20913.500000    6.000000    2.800000    4.000000   \n",
              "75%    26717.316636  25213.000000    6.000000    3.800000    4.000000   \n",
              "max    70755.466717  50387.000000    8.000000    6.000000    4.000000   \n",
              "\n",
              "           Cruise       Sound     Leather  \n",
              "count  804.000000  804.000000  804.000000  \n",
              "mean     0.752488    0.679104    0.723881  \n",
              "std      0.431836    0.467111    0.447355  \n",
              "min      0.000000    0.000000    0.000000  \n",
              "25%      1.000000    0.000000    0.000000  \n",
              "50%      1.000000    1.000000    1.000000  \n",
              "75%      1.000000    1.000000    1.000000  \n",
              "max      1.000000    1.000000    1.000000  "
            ],
            "text/html": [
              "\n",
              "  <div id=\"df-05c63ade-2417-4846-ae7d-e340535d5828\">\n",
              "    <div class=\"colab-df-container\">\n",
              "      <div>\n",
              "<style scoped>\n",
              "    .dataframe tbody tr th:only-of-type {\n",
              "        vertical-align: middle;\n",
              "    }\n",
              "\n",
              "    .dataframe tbody tr th {\n",
              "        vertical-align: top;\n",
              "    }\n",
              "\n",
              "    .dataframe thead th {\n",
              "        text-align: right;\n",
              "    }\n",
              "</style>\n",
              "<table border=\"1\" class=\"dataframe\">\n",
              "  <thead>\n",
              "    <tr style=\"text-align: right;\">\n",
              "      <th></th>\n",
              "      <th>Price</th>\n",
              "      <th>Mileage</th>\n",
              "      <th>Cylinder</th>\n",
              "      <th>Liter</th>\n",
              "      <th>Doors</th>\n",
              "      <th>Cruise</th>\n",
              "      <th>Sound</th>\n",
              "      <th>Leather</th>\n",
              "    </tr>\n",
              "  </thead>\n",
              "  <tbody>\n",
              "    <tr>\n",
              "      <th>count</th>\n",
              "      <td>804.000000</td>\n",
              "      <td>804.000000</td>\n",
              "      <td>804.000000</td>\n",
              "      <td>804.000000</td>\n",
              "      <td>804.000000</td>\n",
              "      <td>804.000000</td>\n",
              "      <td>804.000000</td>\n",
              "      <td>804.000000</td>\n",
              "    </tr>\n",
              "    <tr>\n",
              "      <th>mean</th>\n",
              "      <td>21343.143767</td>\n",
              "      <td>19831.934080</td>\n",
              "      <td>5.268657</td>\n",
              "      <td>3.037313</td>\n",
              "      <td>3.527363</td>\n",
              "      <td>0.752488</td>\n",
              "      <td>0.679104</td>\n",
              "      <td>0.723881</td>\n",
              "    </tr>\n",
              "    <tr>\n",
              "      <th>std</th>\n",
              "      <td>9884.852801</td>\n",
              "      <td>8196.319707</td>\n",
              "      <td>1.387531</td>\n",
              "      <td>1.105562</td>\n",
              "      <td>0.850169</td>\n",
              "      <td>0.431836</td>\n",
              "      <td>0.467111</td>\n",
              "      <td>0.447355</td>\n",
              "    </tr>\n",
              "    <tr>\n",
              "      <th>min</th>\n",
              "      <td>8638.930895</td>\n",
              "      <td>266.000000</td>\n",
              "      <td>4.000000</td>\n",
              "      <td>1.600000</td>\n",
              "      <td>2.000000</td>\n",
              "      <td>0.000000</td>\n",
              "      <td>0.000000</td>\n",
              "      <td>0.000000</td>\n",
              "    </tr>\n",
              "    <tr>\n",
              "      <th>25%</th>\n",
              "      <td>14273.073870</td>\n",
              "      <td>14623.500000</td>\n",
              "      <td>4.000000</td>\n",
              "      <td>2.200000</td>\n",
              "      <td>4.000000</td>\n",
              "      <td>1.000000</td>\n",
              "      <td>0.000000</td>\n",
              "      <td>0.000000</td>\n",
              "    </tr>\n",
              "    <tr>\n",
              "      <th>50%</th>\n",
              "      <td>18024.995019</td>\n",
              "      <td>20913.500000</td>\n",
              "      <td>6.000000</td>\n",
              "      <td>2.800000</td>\n",
              "      <td>4.000000</td>\n",
              "      <td>1.000000</td>\n",
              "      <td>1.000000</td>\n",
              "      <td>1.000000</td>\n",
              "    </tr>\n",
              "    <tr>\n",
              "      <th>75%</th>\n",
              "      <td>26717.316636</td>\n",
              "      <td>25213.000000</td>\n",
              "      <td>6.000000</td>\n",
              "      <td>3.800000</td>\n",
              "      <td>4.000000</td>\n",
              "      <td>1.000000</td>\n",
              "      <td>1.000000</td>\n",
              "      <td>1.000000</td>\n",
              "    </tr>\n",
              "    <tr>\n",
              "      <th>max</th>\n",
              "      <td>70755.466717</td>\n",
              "      <td>50387.000000</td>\n",
              "      <td>8.000000</td>\n",
              "      <td>6.000000</td>\n",
              "      <td>4.000000</td>\n",
              "      <td>1.000000</td>\n",
              "      <td>1.000000</td>\n",
              "      <td>1.000000</td>\n",
              "    </tr>\n",
              "  </tbody>\n",
              "</table>\n",
              "</div>\n",
              "      <button class=\"colab-df-convert\" onclick=\"convertToInteractive('df-05c63ade-2417-4846-ae7d-e340535d5828')\"\n",
              "              title=\"Convert this dataframe to an interactive table.\"\n",
              "              style=\"display:none;\">\n",
              "        \n",
              "  <svg xmlns=\"http://www.w3.org/2000/svg\" height=\"24px\"viewBox=\"0 0 24 24\"\n",
              "       width=\"24px\">\n",
              "    <path d=\"M0 0h24v24H0V0z\" fill=\"none\"/>\n",
              "    <path d=\"M18.56 5.44l.94 2.06.94-2.06 2.06-.94-2.06-.94-.94-2.06-.94 2.06-2.06.94zm-11 1L8.5 8.5l.94-2.06 2.06-.94-2.06-.94L8.5 2.5l-.94 2.06-2.06.94zm10 10l.94 2.06.94-2.06 2.06-.94-2.06-.94-.94-2.06-.94 2.06-2.06.94z\"/><path d=\"M17.41 7.96l-1.37-1.37c-.4-.4-.92-.59-1.43-.59-.52 0-1.04.2-1.43.59L10.3 9.45l-7.72 7.72c-.78.78-.78 2.05 0 2.83L4 21.41c.39.39.9.59 1.41.59.51 0 1.02-.2 1.41-.59l7.78-7.78 2.81-2.81c.8-.78.8-2.07 0-2.86zM5.41 20L4 18.59l7.72-7.72 1.47 1.35L5.41 20z\"/>\n",
              "  </svg>\n",
              "      </button>\n",
              "      \n",
              "  <style>\n",
              "    .colab-df-container {\n",
              "      display:flex;\n",
              "      flex-wrap:wrap;\n",
              "      gap: 12px;\n",
              "    }\n",
              "\n",
              "    .colab-df-convert {\n",
              "      background-color: #E8F0FE;\n",
              "      border: none;\n",
              "      border-radius: 50%;\n",
              "      cursor: pointer;\n",
              "      display: none;\n",
              "      fill: #1967D2;\n",
              "      height: 32px;\n",
              "      padding: 0 0 0 0;\n",
              "      width: 32px;\n",
              "    }\n",
              "\n",
              "    .colab-df-convert:hover {\n",
              "      background-color: #E2EBFA;\n",
              "      box-shadow: 0px 1px 2px rgba(60, 64, 67, 0.3), 0px 1px 3px 1px rgba(60, 64, 67, 0.15);\n",
              "      fill: #174EA6;\n",
              "    }\n",
              "\n",
              "    [theme=dark] .colab-df-convert {\n",
              "      background-color: #3B4455;\n",
              "      fill: #D2E3FC;\n",
              "    }\n",
              "\n",
              "    [theme=dark] .colab-df-convert:hover {\n",
              "      background-color: #434B5C;\n",
              "      box-shadow: 0px 1px 3px 1px rgba(0, 0, 0, 0.15);\n",
              "      filter: drop-shadow(0px 1px 2px rgba(0, 0, 0, 0.3));\n",
              "      fill: #FFFFFF;\n",
              "    }\n",
              "  </style>\n",
              "\n",
              "      <script>\n",
              "        const buttonEl =\n",
              "          document.querySelector('#df-05c63ade-2417-4846-ae7d-e340535d5828 button.colab-df-convert');\n",
              "        buttonEl.style.display =\n",
              "          google.colab.kernel.accessAllowed ? 'block' : 'none';\n",
              "\n",
              "        async function convertToInteractive(key) {\n",
              "          const element = document.querySelector('#df-05c63ade-2417-4846-ae7d-e340535d5828');\n",
              "          const dataTable =\n",
              "            await google.colab.kernel.invokeFunction('convertToInteractive',\n",
              "                                                     [key], {});\n",
              "          if (!dataTable) return;\n",
              "\n",
              "          const docLinkHtml = 'Like what you see? Visit the ' +\n",
              "            '<a target=\"_blank\" href=https://colab.research.google.com/notebooks/data_table.ipynb>data table notebook</a>'\n",
              "            + ' to learn more about interactive tables.';\n",
              "          element.innerHTML = '';\n",
              "          dataTable['output_type'] = 'display_data';\n",
              "          await google.colab.output.renderOutput(dataTable, element);\n",
              "          const docLink = document.createElement('div');\n",
              "          docLink.innerHTML = docLinkHtml;\n",
              "          element.appendChild(docLink);\n",
              "        }\n",
              "      </script>\n",
              "    </div>\n",
              "  </div>\n",
              "  "
            ]
          },
          "metadata": {},
          "execution_count": 10
        }
      ]
    },
    {
      "cell_type": "code",
      "source": [
        "iqr = df.Mileage.quantile(0.75) - df.Mileage.quantile(0.25)\n",
        "iqr"
      ],
      "metadata": {
        "colab": {
          "base_uri": "https://localhost:8080/"
        },
        "id": "xueKTxF8QI-W",
        "outputId": "95f920a4-c126-46ae-9692-087ea44591d8"
      },
      "execution_count": 11,
      "outputs": [
        {
          "output_type": "execute_result",
          "data": {
            "text/plain": [
              "10589.5"
            ]
          },
          "metadata": {},
          "execution_count": 11
        }
      ]
    },
    {
      "cell_type": "code",
      "source": [
        "upper_threshold = df.Mileage.quantile(0.75) + (1.5 * iqr)\n",
        "upper_threshold"
      ],
      "metadata": {
        "colab": {
          "base_uri": "https://localhost:8080/"
        },
        "id": "py5QqmZFQJAs",
        "outputId": "7e829215-2b65-4a40-bc1f-baf6621631ee"
      },
      "execution_count": 12,
      "outputs": [
        {
          "output_type": "execute_result",
          "data": {
            "text/plain": [
              "41097.25"
            ]
          },
          "metadata": {},
          "execution_count": 12
        }
      ]
    },
    {
      "cell_type": "code",
      "source": [
        "lower_threshold = df.Mileage.quantile(0.25) - (1.5 * iqr)\n",
        "lower_threshold"
      ],
      "metadata": {
        "colab": {
          "base_uri": "https://localhost:8080/"
        },
        "id": "Z-s51qgAQJEJ",
        "outputId": "22d0bc9e-490f-4cc8-a7e2-8f0d666a76d6"
      },
      "execution_count": 13,
      "outputs": [
        {
          "output_type": "execute_result",
          "data": {
            "text/plain": [
              "-1260.75"
            ]
          },
          "metadata": {},
          "execution_count": 13
        }
      ]
    },
    {
      "cell_type": "code",
      "source": [
        "df.Mileage = df.Mileage.clip(-1260.75, 41097.25)"
      ],
      "metadata": {
        "id": "Vt4c88hZQJHW"
      },
      "execution_count": 14,
      "outputs": []
    },
    {
      "cell_type": "code",
      "source": [
        "# Mileage\n",
        "plt.hist(df['Mileage'], bins = 10)\n",
        "plt.title('Distribution of Mileage')\n",
        "plt.xlabel('Mileage')\n",
        "plt.ylabel('Frequency')\n",
        "plt.show()"
      ],
      "metadata": {
        "colab": {
          "base_uri": "https://localhost:8080/",
          "height": 295
        },
        "id": "YbBQmGXoQJKP",
        "outputId": "a2fa2fa5-a0b8-4b9d-f3d4-a0c5bf431401"
      },
      "execution_count": 15,
      "outputs": [
        {
          "output_type": "display_data",
          "data": {
            "text/plain": [
              "<Figure size 432x288 with 1 Axes>"
            ],
            "image/png": "[encoded data removed]"
          },
          "metadata": {
            "needs_background": "light"
          }
        }
      ]
    },
    {
      "cell_type": "code",
      "source": [
        "df.plot(x = 'Mileage', y = 'Price', style = 'o')\n",
        "plt.title('Mileage vs Price')\n",
        "plt.xlabel('Milage')\n",
        "plt.ylabel('Price')\n",
        "plt.show()"
      ],
      "metadata": {
        "colab": {
          "base_uri": "https://localhost:8080/",
          "height": 295
        },
        "id": "e5lkDq3vQJNH",
        "outputId": "24ac18b5-2956-472e-ddcc-8e6a40eb77e2"
      },
      "execution_count": 16,
      "outputs": [
        {
          "output_type": "display_data",
          "data": {
            "text/plain": [
              "<Figure size 432x288 with 1 Axes>"
            ],
            "image/png": "[encoded data removed]"
          },
          "metadata": {
            "needs_background": "light"
          }
        }
      ]
    },
    {
      "cell_type": "code",
      "source": [
        "df[['Mileage', 'Price']].corr()"
      ],
      "metadata": {
        "colab": {
          "base_uri": "https://localhost:8080/",
          "height": 112
        },
        "id": "KmSrnKSWQJQU",
        "outputId": "4e96d776-3b1c-4b45-ad83-eb0df12ac4c3"
      },
      "execution_count": 17,
      "outputs": [
        {
          "output_type": "execute_result",
          "data": {
            "text/plain": [
              "          Mileage     Price\n",
              "Mileage  1.000000 -0.146283\n",
              "Price   -0.146283  1.000000"
            ],
            "text/html": [
              "\n",
              "  <div id=\"df-3c709c14-8602-420a-a771-fd4ee40c992f\">\n",
              "    <div class=\"colab-df-container\">\n",
              "      <div>\n",
              "<style scoped>\n",
              "    .dataframe tbody tr th:only-of-type {\n",
              "        vertical-align: middle;\n",
              "    }\n",
              "\n",
              "    .dataframe tbody tr th {\n",
              "        vertical-align: top;\n",
              "    }\n",
              "\n",
              "    .dataframe thead th {\n",
              "        text-align: right;\n",
              "    }\n",
              "</style>\n",
              "<table border=\"1\" class=\"dataframe\">\n",
              "  <thead>\n",
              "    <tr style=\"text-align: right;\">\n",
              "      <th></th>\n",
              "      <th>Mileage</th>\n",
              "      <th>Price</th>\n",
              "    </tr>\n",
              "  </thead>\n",
              "  <tbody>\n",
              "    <tr>\n",
              "      <th>Mileage</th>\n",
              "      <td>1.000000</td>\n",
              "      <td>-0.146283</td>\n",
              "    </tr>\n",
              "    <tr>\n",
              "      <th>Price</th>\n",
              "      <td>-0.146283</td>\n",
              "      <td>1.000000</td>\n",
              "    </tr>\n",
              "  </tbody>\n",
              "</table>\n",
              "</div>\n",
              "      <button class=\"colab-df-convert\" onclick=\"convertToInteractive('df-3c709c14-8602-420a-a771-fd4ee40c992f')\"\n",
              "              title=\"Convert this dataframe to an interactive table.\"\n",
              "              style=\"display:none;\">\n",
              "        \n",
              "  <svg xmlns=\"http://www.w3.org/2000/svg\" height=\"24px\"viewBox=\"0 0 24 24\"\n",
              "       width=\"24px\">\n",
              "    <path d=\"M0 0h24v24H0V0z\" fill=\"none\"/>\n",
              "    <path d=\"M18.56 5.44l.94 2.06.94-2.06 2.06-.94-2.06-.94-.94-2.06-.94 2.06-2.06.94zm-11 1L8.5 8.5l.94-2.06 2.06-.94-2.06-.94L8.5 2.5l-.94 2.06-2.06.94zm10 10l.94 2.06.94-2.06 2.06-.94-2.06-.94-.94-2.06-.94 2.06-2.06.94z\"/><path d=\"M17.41 7.96l-1.37-1.37c-.4-.4-.92-.59-1.43-.59-.52 0-1.04.2-1.43.59L10.3 9.45l-7.72 7.72c-.78.78-.78 2.05 0 2.83L4 21.41c.39.39.9.59 1.41.59.51 0 1.02-.2 1.41-.59l7.78-7.78 2.81-2.81c.8-.78.8-2.07 0-2.86zM5.41 20L4 18.59l7.72-7.72 1.47 1.35L5.41 20z\"/>\n",
              "  </svg>\n",
              "      </button>\n",
              "      \n",
              "  <style>\n",
              "    .colab-df-container {\n",
              "      display:flex;\n",
              "      flex-wrap:wrap;\n",
              "      gap: 12px;\n",
              "    }\n",
              "\n",
              "    .colab-df-convert {\n",
              "      background-color: #E8F0FE;\n",
              "      border: none;\n",
              "      border-radius: 50%;\n",
              "      cursor: pointer;\n",
              "      display: none;\n",
              "      fill: #1967D2;\n",
              "      height: 32px;\n",
              "      padding: 0 0 0 0;\n",
              "      width: 32px;\n",
              "    }\n",
              "\n",
              "    .colab-df-convert:hover {\n",
              "      background-color: #E2EBFA;\n",
              "      box-shadow: 0px 1px 2px rgba(60, 64, 67, 0.3), 0px 1px 3px 1px rgba(60, 64, 67, 0.15);\n",
              "      fill: #174EA6;\n",
              "    }\n",
              "\n",
              "    [theme=dark] .colab-df-convert {\n",
              "      background-color: #3B4455;\n",
              "      fill: #D2E3FC;\n",
              "    }\n",
              "\n",
              "    [theme=dark] .colab-df-convert:hover {\n",
              "      background-color: #434B5C;\n",
              "      box-shadow: 0px 1px 3px 1px rgba(0, 0, 0, 0.15);\n",
              "      filter: drop-shadow(0px 1px 2px rgba(0, 0, 0, 0.3));\n",
              "      fill: #FFFFFF;\n",
              "    }\n",
              "  </style>\n",
              "\n",
              "      <script>\n",
              "        const buttonEl =\n",
              "          document.querySelector('#df-3c709c14-8602-420a-a771-fd4ee40c992f button.colab-df-convert');\n",
              "        buttonEl.style.display =\n",
              "          google.colab.kernel.accessAllowed ? 'block' : 'none';\n",
              "\n",
              "        async function convertToInteractive(key) {\n",
              "          const element = document.querySelector('#df-3c709c14-8602-420a-a771-fd4ee40c992f');\n",
              "          const dataTable =\n",
              "            await google.colab.kernel.invokeFunction('convertToInteractive',\n",
              "                                                     [key], {});\n",
              "          if (!dataTable) return;\n",
              "\n",
              "          const docLinkHtml = 'Like what you see? Visit the ' +\n",
              "            '<a target=\"_blank\" href=https://colab.research.google.com/notebooks/data_table.ipynb>data table notebook</a>'\n",
              "            + ' to learn more about interactive tables.';\n",
              "          element.innerHTML = '';\n",
              "          dataTable['output_type'] = 'display_data';\n",
              "          await google.colab.output.renderOutput(dataTable, element);\n",
              "          const docLink = document.createElement('div');\n",
              "          docLink.innerHTML = docLinkHtml;\n",
              "          element.appendChild(docLink);\n",
              "        }\n",
              "      </script>\n",
              "    </div>\n",
              "  </div>\n",
              "  "
            ]
          },
          "metadata": {},
          "execution_count": 17
        }
      ]
    },
    {
      "cell_type": "code",
      "source": [
        "X = df[['Mileage']].values\n",
        "y = df['Price'].values"
      ],
      "metadata": {
        "id": "C5q5NSEsQJTM"
      },
      "execution_count": 18,
      "outputs": []
    },
    {
      "cell_type": "code",
      "source": [
        "from sklearn.model_selection import train_test_split \n",
        "X_train, X_test, y_train, y_test = train_test_split(X, y, test_size=0.3, random_state = 50)"
      ],
      "metadata": {
        "id": "wXE1iT4AQJWS"
      },
      "execution_count": 19,
      "outputs": []
    },
    {
      "cell_type": "code",
      "source": [
        "X_train.shape, X_test.shape"
      ],
      "metadata": {
        "colab": {
          "base_uri": "https://localhost:8080/"
        },
        "id": "uEZ-z12LQJZJ",
        "outputId": "cc0b8109-c6d5-445e-e681-9e98b25c220d"
      },
      "execution_count": 20,
      "outputs": [
        {
          "output_type": "execute_result",
          "data": {
            "text/plain": [
              "((562, 1), (242, 1))"
            ]
          },
          "metadata": {},
          "execution_count": 20
        }
      ]
    },
    {
      "cell_type": "code",
      "source": [
        "from sklearn.preprocessing import StandardScaler\n",
        "scaler = StandardScaler()\n",
        "scaler.fit(X_train)\n",
        "X_train_scaled = scaler.transform(X_train)\n",
        "X_test_scaled = scaler.transform(X_test)"
      ],
      "metadata": {
        "id": "rmMMtX7vQJce"
      },
      "execution_count": 21,
      "outputs": []
    },
    {
      "cell_type": "code",
      "source": [
        "from sklearn.linear_model import LinearRegression \n",
        "regressor = LinearRegression() \n",
        "regressor.fit(X_train_scaled, y_train)"
      ],
      "metadata": {
        "colab": {
          "base_uri": "https://localhost:8080/"
        },
        "id": "bm9vQ4scQJfp",
        "outputId": "efaf0d88-68b8-488e-ea4e-6557cf257130"
      },
      "execution_count": 22,
      "outputs": [
        {
          "output_type": "execute_result",
          "data": {
            "text/plain": [
              "LinearRegression()"
            ]
          },
          "metadata": {},
          "execution_count": 22
        }
      ]
    },
    {
      "cell_type": "code",
      "source": [
        "print(regressor.intercept_)"
      ],
      "metadata": {
        "colab": {
          "base_uri": "https://localhost:8080/"
        },
        "id": "TvQGWRnXQJi0",
        "outputId": "e7b3a127-1fb5-4b05-ba0f-490d94e252a1"
      },
      "execution_count": 23,
      "outputs": [
        {
          "output_type": "stream",
          "name": "stdout",
          "text": [
            "21615.782746408076\n"
          ]
        }
      ]
    },
    {
      "cell_type": "code",
      "source": [
        "print(regressor.coef_)"
      ],
      "metadata": {
        "colab": {
          "base_uri": "https://localhost:8080/"
        },
        "id": "KslDqVnlQJl7",
        "outputId": "11063dfc-95ea-45bd-c95f-b9685fc061cd"
      },
      "execution_count": 24,
      "outputs": [
        {
          "output_type": "stream",
          "name": "stdout",
          "text": [
            "[-1854.05086211]\n"
          ]
        }
      ]
    },
    {
      "cell_type": "markdown",
      "source": [
        "**1. Find the linear regression equation for mileage vs price.**"
      ],
      "metadata": {
        "id": "tFud7EsZBzPR"
      }
    },
    {
      "cell_type": "code",
      "source": [
        "print('Linear Regression Equation: y = {:.4f}* x + {:.4f}'.format(regressor.coef_[0], regressor.intercept_))"
      ],
      "metadata": {
        "colab": {
          "base_uri": "https://localhost:8080/"
        },
        "id": "yEMGS-PaQJpV",
        "outputId": "c831a84e-d9fd-4823-9576-5a360b6f847b"
      },
      "execution_count": 25,
      "outputs": [
        {
          "output_type": "stream",
          "name": "stdout",
          "text": [
            "Linear Regression Equation: y = -1854.0509* x + 21615.7827\n"
          ]
        }
      ]
    },
    {
      "cell_type": "code",
      "source": [
        "y_pred = regressor.predict(X_test_scaled)"
      ],
      "metadata": {
        "id": "2mxPewcu2ZLt"
      },
      "execution_count": 26,
      "outputs": []
    },
    {
      "cell_type": "code",
      "source": [
        "df1 = pd.DataFrame({'Actual' : y_test, 'Predicted' : y_pred})\n",
        "df1"
      ],
      "metadata": {
        "colab": {
          "base_uri": "https://localhost:8080/",
          "height": 423
        },
        "id": "RtlsT9Pu2-R_",
        "outputId": "220f8671-f612-491d-dfc5-8137cebfe029"
      },
      "execution_count": 27,
      "outputs": [
        {
          "output_type": "execute_result",
          "data": {
            "text/plain": [
              "           Actual     Predicted\n",
              "0    18311.756302  22124.519142\n",
              "1    12383.402811  20392.964480\n",
              "2    10546.782745  17261.047899\n",
              "3    22470.358430  20947.525051\n",
              "4    30251.018417  19827.961916\n",
              "..            ...           ...\n",
              "237  21646.116924  21643.052514\n",
              "238  19751.041431  21427.856680\n",
              "239  14546.884814  18507.730936\n",
              "240  20952.217802  21507.760619\n",
              "241  32501.245189  22109.310154\n",
              "\n",
              "[242 rows x 2 columns]"
            ],
            "text/html": [
              "\n",
              "  <div id=\"df-7b6cf368-df28-4e30-b708-3a1782a4dc22\">\n",
              "    <div class=\"colab-df-container\">\n",
              "      <div>\n",
              "<style scoped>\n",
              "    .dataframe tbody tr th:only-of-type {\n",
              "        vertical-align: middle;\n",
              "    }\n",
              "\n",
              "    .dataframe tbody tr th {\n",
              "        vertical-align: top;\n",
              "    }\n",
              "\n",
              "    .dataframe thead th {\n",
              "        text-align: right;\n",
              "    }\n",
              "</style>\n",
              "<table border=\"1\" class=\"dataframe\">\n",
              "  <thead>\n",
              "    <tr style=\"text-align: right;\">\n",
              "      <th></th>\n",
              "      <th>Actual</th>\n",
              "      <th>Predicted</th>\n",
              "    </tr>\n",
              "  </thead>\n",
              "  <tbody>\n",
              "    <tr>\n",
              "      <th>0</th>\n",
              "      <td>18311.756302</td>\n",
              "      <td>22124.519142</td>\n",
              "    </tr>\n",
              "    <tr>\n",
              "      <th>1</th>\n",
              "      <td>12383.402811</td>\n",
              "      <td>20392.964480</td>\n",
              "    </tr>\n",
              "    <tr>\n",
              "      <th>2</th>\n",
              "      <td>10546.782745</td>\n",
              "      <td>17261.047899</td>\n",
              "    </tr>\n",
              "    <tr>\n",
              "      <th>3</th>\n",
              "      <td>22470.358430</td>\n",
              "      <td>20947.525051</td>\n",
              "    </tr>\n",
              "    <tr>\n",
              "      <th>4</th>\n",
              "      <td>30251.018417</td>\n",
              "      <td>19827.961916</td>\n",
              "    </tr>\n",
              "    <tr>\n",
              "      <th>...</th>\n",
              "      <td>...</td>\n",
              "      <td>...</td>\n",
              "    </tr>\n",
              "    <tr>\n",
              "      <th>237</th>\n",
              "      <td>21646.116924</td>\n",
              "      <td>21643.052514</td>\n",
              "    </tr>\n",
              "    <tr>\n",
              "      <th>238</th>\n",
              "      <td>19751.041431</td>\n",
              "      <td>21427.856680</td>\n",
              "    </tr>\n",
              "    <tr>\n",
              "      <th>239</th>\n",
              "      <td>14546.884814</td>\n",
              "      <td>18507.730936</td>\n",
              "    </tr>\n",
              "    <tr>\n",
              "      <th>240</th>\n",
              "      <td>20952.217802</td>\n",
              "      <td>21507.760619</td>\n",
              "    </tr>\n",
              "    <tr>\n",
              "      <th>241</th>\n",
              "      <td>32501.245189</td>\n",
              "      <td>22109.310154</td>\n",
              "    </tr>\n",
              "  </tbody>\n",
              "</table>\n",
              "<p>242 rows × 2 columns</p>\n",
              "</div>\n",
              "      <button class=\"colab-df-convert\" onclick=\"convertToInteractive('df-7b6cf368-df28-4e30-b708-3a1782a4dc22')\"\n",
              "              title=\"Convert this dataframe to an interactive table.\"\n",
              "              style=\"display:none;\">\n",
              "        \n",
              "  <svg xmlns=\"http://www.w3.org/2000/svg\" height=\"24px\"viewBox=\"0 0 24 24\"\n",
              "       width=\"24px\">\n",
              "    <path d=\"M0 0h24v24H0V0z\" fill=\"none\"/>\n",
              "    <path d=\"M18.56 5.44l.94 2.06.94-2.06 2.06-.94-2.06-.94-.94-2.06-.94 2.06-2.06.94zm-11 1L8.5 8.5l.94-2.06 2.06-.94-2.06-.94L8.5 2.5l-.94 2.06-2.06.94zm10 10l.94 2.06.94-2.06 2.06-.94-2.06-.94-.94-2.06-.94 2.06-2.06.94z\"/><path d=\"M17.41 7.96l-1.37-1.37c-.4-.4-.92-.59-1.43-.59-.52 0-1.04.2-1.43.59L10.3 9.45l-7.72 7.72c-.78.78-.78 2.05 0 2.83L4 21.41c.39.39.9.59 1.41.59.51 0 1.02-.2 1.41-.59l7.78-7.78 2.81-2.81c.8-.78.8-2.07 0-2.86zM5.41 20L4 18.59l7.72-7.72 1.47 1.35L5.41 20z\"/>\n",
              "  </svg>\n",
              "      </button>\n",
              "      \n",
              "  <style>\n",
              "    .colab-df-container {\n",
              "      display:flex;\n",
              "      flex-wrap:wrap;\n",
              "      gap: 12px;\n",
              "    }\n",
              "\n",
              "    .colab-df-convert {\n",
              "      background-color: #E8F0FE;\n",
              "      border: none;\n",
              "      border-radius: 50%;\n",
              "      cursor: pointer;\n",
              "      display: none;\n",
              "      fill: #1967D2;\n",
              "      height: 32px;\n",
              "      padding: 0 0 0 0;\n",
              "      width: 32px;\n",
              "    }\n",
              "\n",
              "    .colab-df-convert:hover {\n",
              "      background-color: #E2EBFA;\n",
              "      box-shadow: 0px 1px 2px rgba(60, 64, 67, 0.3), 0px 1px 3px 1px rgba(60, 64, 67, 0.15);\n",
              "      fill: #174EA6;\n",
              "    }\n",
              "\n",
              "    [theme=dark] .colab-df-convert {\n",
              "      background-color: #3B4455;\n",
              "      fill: #D2E3FC;\n",
              "    }\n",
              "\n",
              "    [theme=dark] .colab-df-convert:hover {\n",
              "      background-color: #434B5C;\n",
              "      box-shadow: 0px 1px 3px 1px rgba(0, 0, 0, 0.15);\n",
              "      filter: drop-shadow(0px 1px 2px rgba(0, 0, 0, 0.3));\n",
              "      fill: #FFFFFF;\n",
              "    }\n",
              "  </style>\n",
              "\n",
              "      <script>\n",
              "        const buttonEl =\n",
              "          document.querySelector('#df-7b6cf368-df28-4e30-b708-3a1782a4dc22 button.colab-df-convert');\n",
              "        buttonEl.style.display =\n",
              "          google.colab.kernel.accessAllowed ? 'block' : 'none';\n",
              "\n",
              "        async function convertToInteractive(key) {\n",
              "          const element = document.querySelector('#df-7b6cf368-df28-4e30-b708-3a1782a4dc22');\n",
              "          const dataTable =\n",
              "            await google.colab.kernel.invokeFunction('convertToInteractive',\n",
              "                                                     [key], {});\n",
              "          if (!dataTable) return;\n",
              "\n",
              "          const docLinkHtml = 'Like what you see? Visit the ' +\n",
              "            '<a target=\"_blank\" href=https://colab.research.google.com/notebooks/data_table.ipynb>data table notebook</a>'\n",
              "            + ' to learn more about interactive tables.';\n",
              "          element.innerHTML = '';\n",
              "          dataTable['output_type'] = 'display_data';\n",
              "          await google.colab.output.renderOutput(dataTable, element);\n",
              "          const docLink = document.createElement('div');\n",
              "          docLink.innerHTML = docLinkHtml;\n",
              "          element.appendChild(docLink);\n",
              "        }\n",
              "      </script>\n",
              "    </div>\n",
              "  </div>\n",
              "  "
            ]
          },
          "metadata": {},
          "execution_count": 27
        }
      ]
    },
    {
      "cell_type": "markdown",
      "source": [
        "**3. Find the equation's R2 score (use the .score method) to determine whether the equation is a good fit for this data. (0.8 and greater is considered a strong correlation.)**\n"
      ],
      "metadata": {
        "id": "eN0_kPHXBSgC"
      }
    },
    {
      "cell_type": "code",
      "source": [
        "print('R2 Score : ',regressor.score(X_test_scaled,y_test))"
      ],
      "metadata": {
        "colab": {
          "base_uri": "https://localhost:8080/"
        },
        "id": "uA2nzRTw2_PP",
        "outputId": "c0a1b6b6-2efb-4030-d9c0-ffd2257f6250"
      },
      "execution_count": 28,
      "outputs": [
        {
          "output_type": "stream",
          "name": "stdout",
          "text": [
            "R2 Score :  -0.029917303750242707\n"
          ]
        }
      ]
    },
    {
      "cell_type": "markdown",
      "source": [
        "**2. Chart the original data and the equation on the chart.**\n"
      ],
      "metadata": {
        "id": "xxJXizigBi31"
      }
    },
    {
      "cell_type": "code",
      "source": [
        "sns.scatterplot(x = df['Mileage'], y = df['Price'], data = df, color = 'green')\n",
        "plt.plot(X, regressor.predict(X), color = 'red')\n",
        "plt.title('Mileage vs Price')\n",
        "plt.xlabel('Mileage')\n",
        "plt.ylabel('Price')\n",
        "plt.show()\n"
      ],
      "metadata": {
        "colab": {
          "base_uri": "https://localhost:8080/",
          "height": 295
        },
        "id": "rslE4U4z2_S0",
        "outputId": "25b09068-75d9-44d4-fc92-1151e462ff20"
      },
      "execution_count": 29,
      "outputs": [
        {
          "output_type": "display_data",
          "data": {
            "text/plain": [
              "<Figure size 432x288 with 1 Axes>"
            ],
            "image/png": "[encoded data removed]"
          },
          "metadata": {
            "needs_background": "light"
          }
        }
      ]
    },
    {
      "cell_type": "code",
      "source": [
        "# Plotting the distrbution of each features\n",
        "# Plotting the line graph of feature vs the traget variable\n",
        "# Finding the correlation of continuous feature vs the target variable"
      ],
      "metadata": {
        "id": "1P4SMTSE2_Z6"
      },
      "execution_count": 30,
      "outputs": []
    },
    {
      "cell_type": "code",
      "source": [
        "df['Make'].value_counts().plot(kind = 'bar')\n",
        "plt.title('Distribution of Make')\n",
        "plt.xlabel('Make')\n",
        "plt.ylabel('Count')\n",
        "plt.show()"
      ],
      "metadata": {
        "colab": {
          "base_uri": "https://localhost:8080/",
          "height": 333
        },
        "id": "4KE7Z16D2_cq",
        "outputId": "76b8562a-e40e-4380-b5c2-39f93d36db60"
      },
      "execution_count": 31,
      "outputs": [
        {
          "output_type": "display_data",
          "data": {
            "text/plain": [
              "<Figure size 432x288 with 1 Axes>"
            ],
            "image/png": "[encoded data removed]"
          },
          "metadata": {
            "needs_background": "light"
          }
        }
      ]
    },
    {
      "cell_type": "code",
      "source": [
        "df.groupby('Make')['Price'].mean().plot()\n",
        "plt.title('Make vs Price')\n",
        "plt.xlabel('Make')\n",
        "plt.ylabel('Price')\n",
        "plt.show()"
      ],
      "metadata": {
        "colab": {
          "base_uri": "https://localhost:8080/",
          "height": 295
        },
        "id": "pYQKSEvvFBKi",
        "outputId": "a4b1dfe2-416b-45b4-a959-bd3974c3dd10"
      },
      "execution_count": 32,
      "outputs": [
        {
          "output_type": "display_data",
          "data": {
            "text/plain": [
              "<Figure size 432x288 with 1 Axes>"
            ],
            "image/png": "[encoded data removed]"
          },
          "metadata": {
            "needs_background": "light"
          }
        }
      ]
    },
    {
      "cell_type": "code",
      "source": [
        "df['Model'].value_counts().plot(kind = 'bar')\n",
        "plt.title('Distribution of Model')\n",
        "plt.xlabel('Model')\n",
        "plt.ylabel('Count')\n",
        "plt.show()"
      ],
      "metadata": {
        "colab": {
          "base_uri": "https://localhost:8080/",
          "height": 347
        },
        "id": "j_q_eP7R2_ge",
        "outputId": "089b8ce1-ca4a-4623-a306-8cd8e6327311"
      },
      "execution_count": 33,
      "outputs": [
        {
          "output_type": "display_data",
          "data": {
            "text/plain": [
              "<Figure size 432x288 with 1 Axes>"
            ],
            "image/png": "[encoded data removed]"
          },
          "metadata": {
            "needs_background": "light"
          }
        }
      ]
    },
    {
      "cell_type": "code",
      "source": [
        "# Model vs Price\n",
        "df.groupby('Model')['Price'].mean().plot()\n",
        "plt.title('Model vs Price')\n",
        "plt.xlabel('Model')\n",
        "plt.ylabel('Price')\n",
        "plt.show()"
      ],
      "metadata": {
        "colab": {
          "base_uri": "https://localhost:8080/",
          "height": 295
        },
        "id": "WsOYig7BFHjA",
        "outputId": "5bf02d77-b9fd-4ba8-a9b3-5f9a0a529e03"
      },
      "execution_count": 34,
      "outputs": [
        {
          "output_type": "display_data",
          "data": {
            "text/plain": [
              "<Figure size 432x288 with 1 Axes>"
            ],
            "image/png": "[encoded data removed]"
          },
          "metadata": {
            "needs_background": "light"
          }
        }
      ]
    },
    {
      "cell_type": "code",
      "source": [],
      "metadata": {
        "id": "1V1BYVpIFR5p"
      },
      "execution_count": 34,
      "outputs": []
    },
    {
      "cell_type": "code",
      "source": [
        "df['Trim'].value_counts().plot(kind = 'bar')\n",
        "plt.title('Distribution of Trim')\n",
        "plt.xlabel('Trim')\n",
        "plt.ylabel('Count')\n",
        "plt.show()"
      ],
      "metadata": {
        "colab": {
          "base_uri": "https://localhost:8080/",
          "height": 389
        },
        "id": "KZxK8v_l2_iw",
        "outputId": "e9e0ff91-4eaa-4062-cea2-1fc37b664200"
      },
      "execution_count": 35,
      "outputs": [
        {
          "output_type": "display_data",
          "data": {
            "text/plain": [
              "<Figure size 432x288 with 1 Axes>"
            ],
            "image/png": "[encoded data removed]"
          },
          "metadata": {
            "needs_background": "light"
          }
        }
      ]
    },
    {
      "cell_type": "code",
      "source": [
        "# Trim vs Price\n",
        "df.groupby('Trim')['Price'].mean().plot()\n",
        "plt.title('Trim vs Price')\n",
        "plt.xlabel('Trim')\n",
        "plt.ylabel('Price')\n",
        "plt.show()"
      ],
      "metadata": {
        "colab": {
          "base_uri": "https://localhost:8080/",
          "height": 295
        },
        "id": "K8gr6NK5FXGg",
        "outputId": "7f6d07d3-3694-4585-9d28-3efd99ccc9e6"
      },
      "execution_count": 36,
      "outputs": [
        {
          "output_type": "display_data",
          "data": {
            "text/plain": [
              "<Figure size 432x288 with 1 Axes>"
            ],
            "image/png": "[encoded data removed]"
          },
          "metadata": {
            "needs_background": "light"
          }
        }
      ]
    },
    {
      "cell_type": "code",
      "source": [
        "# Type\n",
        "df['Type'].value_counts().plot(kind = 'bar')\n",
        "plt.title('Distribution of Type')\n",
        "plt.xlabel('Type')\n",
        "plt.ylabel('Count')\n",
        "plt.show()"
      ],
      "metadata": {
        "colab": {
          "base_uri": "https://localhost:8080/",
          "height": 343
        },
        "id": "H9hgB6N12_l_",
        "outputId": "8b9b121d-4952-4262-ec5c-ed21e6c67998"
      },
      "execution_count": 37,
      "outputs": [
        {
          "output_type": "display_data",
          "data": {
            "text/plain": [
              "<Figure size 432x288 with 1 Axes>"
            ],
            "image/png": "[encoded data removed]"
          },
          "metadata": {
            "needs_background": "light"
          }
        }
      ]
    },
    {
      "cell_type": "code",
      "source": [
        "# Type vs Price\n",
        "df.groupby('Type')['Price'].mean().plot()\n",
        "plt.title('Type vs Price')\n",
        "plt.xlabel('Type')\n",
        "plt.ylabel('Price')\n",
        "plt.show()"
      ],
      "metadata": {
        "colab": {
          "base_uri": "https://localhost:8080/",
          "height": 295
        },
        "id": "5YdG87hgFcvk",
        "outputId": "cb946432-d604-4064-f137-a78a1b3b5e0f"
      },
      "execution_count": 38,
      "outputs": [
        {
          "output_type": "display_data",
          "data": {
            "text/plain": [
              "<Figure size 432x288 with 1 Axes>"
            ],
            "image/png": "[encoded data removed]"
          },
          "metadata": {
            "needs_background": "light"
          }
        }
      ]
    },
    {
      "cell_type": "code",
      "source": [
        "# Cylinder\n",
        "df['Cylinder'].value_counts().plot(kind = 'bar')\n",
        "plt.title('Distribution of Cylinder')\n",
        "plt.xlabel('Cylinder')\n",
        "plt.ylabel('Frequency')\n",
        "plt.show()"
      ],
      "metadata": {
        "colab": {
          "base_uri": "https://localhost:8080/",
          "height": 292
        },
        "id": "KhqlkHtb2_o2",
        "outputId": "4b5e3583-0974-4717-b246-bbb982402725"
      },
      "execution_count": 39,
      "outputs": [
        {
          "output_type": "display_data",
          "data": {
            "text/plain": [
              "<Figure size 432x288 with 1 Axes>"
            ],
            "image/png": "[encoded data removed]"
          },
          "metadata": {
            "needs_background": "light"
          }
        }
      ]
    },
    {
      "cell_type": "code",
      "source": [
        "# Cylinder vs Price\n",
        "df.groupby('Cylinder')['Price'].mean().plot()\n",
        "plt.title('Cylinder vs Price')\n",
        "plt.xlabel('Cylinder')\n",
        "plt.ylabel('Price')\n",
        "plt.show()"
      ],
      "metadata": {
        "colab": {
          "base_uri": "https://localhost:8080/",
          "height": 295
        },
        "id": "0UNVHwmgFhce",
        "outputId": "458c3e26-f2b4-4692-a69c-80c4c8ce82f5"
      },
      "execution_count": 40,
      "outputs": [
        {
          "output_type": "display_data",
          "data": {
            "text/plain": [
              "<Figure size 432x288 with 1 Axes>"
            ],
            "image/png": "[encoded data removed]"
          },
          "metadata": {
            "needs_background": "light"
          }
        }
      ]
    },
    {
      "cell_type": "code",
      "source": [
        "df[['Cylinder', 'Price']].corr()"
      ],
      "metadata": {
        "colab": {
          "base_uri": "https://localhost:8080/",
          "height": 112
        },
        "id": "M_lf-3kKPZvA",
        "outputId": "76d04992-aba2-4c01-f2ec-3312a75ce771"
      },
      "execution_count": 41,
      "outputs": [
        {
          "output_type": "execute_result",
          "data": {
            "text/plain": [
              "          Cylinder     Price\n",
              "Cylinder  1.000000  0.569086\n",
              "Price     0.569086  1.000000"
            ],
            "text/html": [
              "\n",
              "  <div id=\"df-6db95c4a-356e-4a6c-be4b-a0b1cd6dc260\">\n",
              "    <div class=\"colab-df-container\">\n",
              "      <div>\n",
              "<style scoped>\n",
              "    .dataframe tbody tr th:only-of-type {\n",
              "        vertical-align: middle;\n",
              "    }\n",
              "\n",
              "    .dataframe tbody tr th {\n",
              "        vertical-align: top;\n",
              "    }\n",
              "\n",
              "    .dataframe thead th {\n",
              "        text-align: right;\n",
              "    }\n",
              "</style>\n",
              "<table border=\"1\" class=\"dataframe\">\n",
              "  <thead>\n",
              "    <tr style=\"text-align: right;\">\n",
              "      <th></th>\n",
              "      <th>Cylinder</th>\n",
              "      <th>Price</th>\n",
              "    </tr>\n",
              "  </thead>\n",
              "  <tbody>\n",
              "    <tr>\n",
              "      <th>Cylinder</th>\n",
              "      <td>1.000000</td>\n",
              "      <td>0.569086</td>\n",
              "    </tr>\n",
              "    <tr>\n",
              "      <th>Price</th>\n",
              "      <td>0.569086</td>\n",
              "      <td>1.000000</td>\n",
              "    </tr>\n",
              "  </tbody>\n",
              "</table>\n",
              "</div>\n",
              "      <button class=\"colab-df-convert\" onclick=\"convertToInteractive('df-6db95c4a-356e-4a6c-be4b-a0b1cd6dc260')\"\n",
              "              title=\"Convert this dataframe to an interactive table.\"\n",
              "              style=\"display:none;\">\n",
              "        \n",
              "  <svg xmlns=\"http://www.w3.org/2000/svg\" height=\"24px\"viewBox=\"0 0 24 24\"\n",
              "       width=\"24px\">\n",
              "    <path d=\"M0 0h24v24H0V0z\" fill=\"none\"/>\n",
              "    <path d=\"M18.56 5.44l.94 2.06.94-2.06 2.06-.94-2.06-.94-.94-2.06-.94 2.06-2.06.94zm-11 1L8.5 8.5l.94-2.06 2.06-.94-2.06-.94L8.5 2.5l-.94 2.06-2.06.94zm10 10l.94 2.06.94-2.06 2.06-.94-2.06-.94-.94-2.06-.94 2.06-2.06.94z\"/><path d=\"M17.41 7.96l-1.37-1.37c-.4-.4-.92-.59-1.43-.59-.52 0-1.04.2-1.43.59L10.3 9.45l-7.72 7.72c-.78.78-.78 2.05 0 2.83L4 21.41c.39.39.9.59 1.41.59.51 0 1.02-.2 1.41-.59l7.78-7.78 2.81-2.81c.8-.78.8-2.07 0-2.86zM5.41 20L4 18.59l7.72-7.72 1.47 1.35L5.41 20z\"/>\n",
              "  </svg>\n",
              "      </button>\n",
              "      \n",
              "  <style>\n",
              "    .colab-df-container {\n",
              "      display:flex;\n",
              "      flex-wrap:wrap;\n",
              "      gap: 12px;\n",
              "    }\n",
              "\n",
              "    .colab-df-convert {\n",
              "      background-color: #E8F0FE;\n",
              "      border: none;\n",
              "      border-radius: 50%;\n",
              "      cursor: pointer;\n",
              "      display: none;\n",
              "      fill: #1967D2;\n",
              "      height: 32px;\n",
              "      padding: 0 0 0 0;\n",
              "      width: 32px;\n",
              "    }\n",
              "\n",
              "    .colab-df-convert:hover {\n",
              "      background-color: #E2EBFA;\n",
              "      box-shadow: 0px 1px 2px rgba(60, 64, 67, 0.3), 0px 1px 3px 1px rgba(60, 64, 67, 0.15);\n",
              "      fill: #174EA6;\n",
              "    }\n",
              "\n",
              "    [theme=dark] .colab-df-convert {\n",
              "      background-color: #3B4455;\n",
              "      fill: #D2E3FC;\n",
              "    }\n",
              "\n",
              "    [theme=dark] .colab-df-convert:hover {\n",
              "      background-color: #434B5C;\n",
              "      box-shadow: 0px 1px 3px 1px rgba(0, 0, 0, 0.15);\n",
              "      filter: drop-shadow(0px 1px 2px rgba(0, 0, 0, 0.3));\n",
              "      fill: #FFFFFF;\n",
              "    }\n",
              "  </style>\n",
              "\n",
              "      <script>\n",
              "        const buttonEl =\n",
              "          document.querySelector('#df-6db95c4a-356e-4a6c-be4b-a0b1cd6dc260 button.colab-df-convert');\n",
              "        buttonEl.style.display =\n",
              "          google.colab.kernel.accessAllowed ? 'block' : 'none';\n",
              "\n",
              "        async function convertToInteractive(key) {\n",
              "          const element = document.querySelector('#df-6db95c4a-356e-4a6c-be4b-a0b1cd6dc260');\n",
              "          const dataTable =\n",
              "            await google.colab.kernel.invokeFunction('convertToInteractive',\n",
              "                                                     [key], {});\n",
              "          if (!dataTable) return;\n",
              "\n",
              "          const docLinkHtml = 'Like what you see? Visit the ' +\n",
              "            '<a target=\"_blank\" href=https://colab.research.google.com/notebooks/data_table.ipynb>data table notebook</a>'\n",
              "            + ' to learn more about interactive tables.';\n",
              "          element.innerHTML = '';\n",
              "          dataTable['output_type'] = 'display_data';\n",
              "          await google.colab.output.renderOutput(dataTable, element);\n",
              "          const docLink = document.createElement('div');\n",
              "          docLink.innerHTML = docLinkHtml;\n",
              "          element.appendChild(docLink);\n",
              "        }\n",
              "      </script>\n",
              "    </div>\n",
              "  </div>\n",
              "  "
            ]
          },
          "metadata": {},
          "execution_count": 41
        }
      ]
    },
    {
      "cell_type": "code",
      "source": [
        "# Liter\n",
        "plt.hist(df['Liter'], bins = 10)\n",
        "plt.title('Distribution of Liter')\n",
        "plt.xlabel('Liter')\n",
        "plt.ylabel('Frequency')\n",
        "plt.show()\n"
      ],
      "metadata": {
        "colab": {
          "base_uri": "https://localhost:8080/",
          "height": 295
        },
        "id": "7dThrrXYEQDn",
        "outputId": "676e7bd5-348b-4083-88cf-0d0e676e63c7"
      },
      "execution_count": 42,
      "outputs": [
        {
          "output_type": "display_data",
          "data": {
            "text/plain": [
              "<Figure size 432x288 with 1 Axes>"
            ],
            "image/png": "[encoded data removed]"
          },
          "metadata": {
            "needs_background": "light"
          }
        }
      ]
    },
    {
      "cell_type": "code",
      "source": [
        "# Liter vs Price\n",
        "df.groupby('Liter')['Price'].mean().plot()\n",
        "plt.title('Liter vs Price')\n",
        "plt.xlabel('Liter')\n",
        "plt.ylabel('Price')\n",
        "plt.show()"
      ],
      "metadata": {
        "colab": {
          "base_uri": "https://localhost:8080/",
          "height": 295
        },
        "id": "4uY71tN-Fp66",
        "outputId": "62bd0d9b-e5da-45f6-c01d-275813386118"
      },
      "execution_count": 43,
      "outputs": [
        {
          "output_type": "display_data",
          "data": {
            "text/plain": [
              "<Figure size 432x288 with 1 Axes>"
            ],
            "image/png": "[encoded data removed]"
          },
          "metadata": {
            "needs_background": "light"
          }
        }
      ]
    },
    {
      "cell_type": "code",
      "source": [
        "df[['Liter', 'Price']].corr()"
      ],
      "metadata": {
        "colab": {
          "base_uri": "https://localhost:8080/",
          "height": 112
        },
        "id": "OeNyNB2CPQJn",
        "outputId": "41013881-69f0-403f-9cf3-bd8be287a50b"
      },
      "execution_count": 44,
      "outputs": [
        {
          "output_type": "execute_result",
          "data": {
            "text/plain": [
              "          Liter     Price\n",
              "Liter  1.000000  0.558146\n",
              "Price  0.558146  1.000000"
            ],
            "text/html": [
              "\n",
              "  <div id=\"df-806a1297-6987-4a42-9e6d-81e495c9cca0\">\n",
              "    <div class=\"colab-df-container\">\n",
              "      <div>\n",
              "<style scoped>\n",
              "    .dataframe tbody tr th:only-of-type {\n",
              "        vertical-align: middle;\n",
              "    }\n",
              "\n",
              "    .dataframe tbody tr th {\n",
              "        vertical-align: top;\n",
              "    }\n",
              "\n",
              "    .dataframe thead th {\n",
              "        text-align: right;\n",
              "    }\n",
              "</style>\n",
              "<table border=\"1\" class=\"dataframe\">\n",
              "  <thead>\n",
              "    <tr style=\"text-align: right;\">\n",
              "      <th></th>\n",
              "      <th>Liter</th>\n",
              "      <th>Price</th>\n",
              "    </tr>\n",
              "  </thead>\n",
              "  <tbody>\n",
              "    <tr>\n",
              "      <th>Liter</th>\n",
              "      <td>1.000000</td>\n",
              "      <td>0.558146</td>\n",
              "    </tr>\n",
              "    <tr>\n",
              "      <th>Price</th>\n",
              "      <td>0.558146</td>\n",
              "      <td>1.000000</td>\n",
              "    </tr>\n",
              "  </tbody>\n",
              "</table>\n",
              "</div>\n",
              "      <button class=\"colab-df-convert\" onclick=\"convertToInteractive('df-806a1297-6987-4a42-9e6d-81e495c9cca0')\"\n",
              "              title=\"Convert this dataframe to an interactive table.\"\n",
              "              style=\"display:none;\">\n",
              "        \n",
              "  <svg xmlns=\"http://www.w3.org/2000/svg\" height=\"24px\"viewBox=\"0 0 24 24\"\n",
              "       width=\"24px\">\n",
              "    <path d=\"M0 0h24v24H0V0z\" fill=\"none\"/>\n",
              "    <path d=\"M18.56 5.44l.94 2.06.94-2.06 2.06-.94-2.06-.94-.94-2.06-.94 2.06-2.06.94zm-11 1L8.5 8.5l.94-2.06 2.06-.94-2.06-.94L8.5 2.5l-.94 2.06-2.06.94zm10 10l.94 2.06.94-2.06 2.06-.94-2.06-.94-.94-2.06-.94 2.06-2.06.94z\"/><path d=\"M17.41 7.96l-1.37-1.37c-.4-.4-.92-.59-1.43-.59-.52 0-1.04.2-1.43.59L10.3 9.45l-7.72 7.72c-.78.78-.78 2.05 0 2.83L4 21.41c.39.39.9.59 1.41.59.51 0 1.02-.2 1.41-.59l7.78-7.78 2.81-2.81c.8-.78.8-2.07 0-2.86zM5.41 20L4 18.59l7.72-7.72 1.47 1.35L5.41 20z\"/>\n",
              "  </svg>\n",
              "      </button>\n",
              "      \n",
              "  <style>\n",
              "    .colab-df-container {\n",
              "      display:flex;\n",
              "      flex-wrap:wrap;\n",
              "      gap: 12px;\n",
              "    }\n",
              "\n",
              "    .colab-df-convert {\n",
              "      background-color: #E8F0FE;\n",
              "      border: none;\n",
              "      border-radius: 50%;\n",
              "      cursor: pointer;\n",
              "      display: none;\n",
              "      fill: #1967D2;\n",
              "      height: 32px;\n",
              "      padding: 0 0 0 0;\n",
              "      width: 32px;\n",
              "    }\n",
              "\n",
              "    .colab-df-convert:hover {\n",
              "      background-color: #E2EBFA;\n",
              "      box-shadow: 0px 1px 2px rgba(60, 64, 67, 0.3), 0px 1px 3px 1px rgba(60, 64, 67, 0.15);\n",
              "      fill: #174EA6;\n",
              "    }\n",
              "\n",
              "    [theme=dark] .colab-df-convert {\n",
              "      background-color: #3B4455;\n",
              "      fill: #D2E3FC;\n",
              "    }\n",
              "\n",
              "    [theme=dark] .colab-df-convert:hover {\n",
              "      background-color: #434B5C;\n",
              "      box-shadow: 0px 1px 3px 1px rgba(0, 0, 0, 0.15);\n",
              "      filter: drop-shadow(0px 1px 2px rgba(0, 0, 0, 0.3));\n",
              "      fill: #FFFFFF;\n",
              "    }\n",
              "  </style>\n",
              "\n",
              "      <script>\n",
              "        const buttonEl =\n",
              "          document.querySelector('#df-806a1297-6987-4a42-9e6d-81e495c9cca0 button.colab-df-convert');\n",
              "        buttonEl.style.display =\n",
              "          google.colab.kernel.accessAllowed ? 'block' : 'none';\n",
              "\n",
              "        async function convertToInteractive(key) {\n",
              "          const element = document.querySelector('#df-806a1297-6987-4a42-9e6d-81e495c9cca0');\n",
              "          const dataTable =\n",
              "            await google.colab.kernel.invokeFunction('convertToInteractive',\n",
              "                                                     [key], {});\n",
              "          if (!dataTable) return;\n",
              "\n",
              "          const docLinkHtml = 'Like what you see? Visit the ' +\n",
              "            '<a target=\"_blank\" href=https://colab.research.google.com/notebooks/data_table.ipynb>data table notebook</a>'\n",
              "            + ' to learn more about interactive tables.';\n",
              "          element.innerHTML = '';\n",
              "          dataTable['output_type'] = 'display_data';\n",
              "          await google.colab.output.renderOutput(dataTable, element);\n",
              "          const docLink = document.createElement('div');\n",
              "          docLink.innerHTML = docLinkHtml;\n",
              "          element.appendChild(docLink);\n",
              "        }\n",
              "      </script>\n",
              "    </div>\n",
              "  </div>\n",
              "  "
            ]
          },
          "metadata": {},
          "execution_count": 44
        }
      ]
    },
    {
      "cell_type": "code",
      "source": [
        "# Doors\n",
        "df['Doors'].value_counts().plot(kind = 'bar')\n",
        "plt.title('Distribution of Doors')\n",
        "plt.xlabel('Doors')\n",
        "plt.ylabel('Frequency')\n",
        "plt.show()"
      ],
      "metadata": {
        "colab": {
          "base_uri": "https://localhost:8080/",
          "height": 292
        },
        "id": "ZWTkr_I5EQGp",
        "outputId": "f02abb84-c445-48ff-fb67-ab635baf6a3b"
      },
      "execution_count": 45,
      "outputs": [
        {
          "output_type": "display_data",
          "data": {
            "text/plain": [
              "<Figure size 432x288 with 1 Axes>"
            ],
            "image/png": "[encoded data removed]"
          },
          "metadata": {
            "needs_background": "light"
          }
        }
      ]
    },
    {
      "cell_type": "code",
      "source": [
        "# Doors vs Price\n",
        "df.groupby('Doors')['Price'].mean().plot()\n",
        "plt.title('Doors vs Price')\n",
        "plt.xlabel('Doors')\n",
        "plt.ylabel('Price')\n",
        "plt.show()"
      ],
      "metadata": {
        "colab": {
          "base_uri": "https://localhost:8080/",
          "height": 295
        },
        "id": "8t_XZEtkF8Du",
        "outputId": "33761cbf-4e48-40b4-ee08-64582f7767e8"
      },
      "execution_count": 46,
      "outputs": [
        {
          "output_type": "display_data",
          "data": {
            "text/plain": [
              "<Figure size 432x288 with 1 Axes>"
            ],
            "image/png": "[encoded data removed]"
          },
          "metadata": {
            "needs_background": "light"
          }
        }
      ]
    },
    {
      "cell_type": "code",
      "source": [
        "df[['Doors', 'Price']].corr()"
      ],
      "metadata": {
        "colab": {
          "base_uri": "https://localhost:8080/",
          "height": 112
        },
        "id": "GNlbCehxPJhc",
        "outputId": "a7a97be3-0cc0-4959-fa44-aa3c1d5e11e9"
      },
      "execution_count": 47,
      "outputs": [
        {
          "output_type": "execute_result",
          "data": {
            "text/plain": [
              "         Doors    Price\n",
              "Doors  1.00000 -0.13875\n",
              "Price -0.13875  1.00000"
            ],
            "text/html": [
              "\n",
              "  <div id=\"df-397c5b25-16a5-4d81-91e8-6ea224872254\">\n",
              "    <div class=\"colab-df-container\">\n",
              "      <div>\n",
              "<style scoped>\n",
              "    .dataframe tbody tr th:only-of-type {\n",
              "        vertical-align: middle;\n",
              "    }\n",
              "\n",
              "    .dataframe tbody tr th {\n",
              "        vertical-align: top;\n",
              "    }\n",
              "\n",
              "    .dataframe thead th {\n",
              "        text-align: right;\n",
              "    }\n",
              "</style>\n",
              "<table border=\"1\" class=\"dataframe\">\n",
              "  <thead>\n",
              "    <tr style=\"text-align: right;\">\n",
              "      <th></th>\n",
              "      <th>Doors</th>\n",
              "      <th>Price</th>\n",
              "    </tr>\n",
              "  </thead>\n",
              "  <tbody>\n",
              "    <tr>\n",
              "      <th>Doors</th>\n",
              "      <td>1.00000</td>\n",
              "      <td>-0.13875</td>\n",
              "    </tr>\n",
              "    <tr>\n",
              "      <th>Price</th>\n",
              "      <td>-0.13875</td>\n",
              "      <td>1.00000</td>\n",
              "    </tr>\n",
              "  </tbody>\n",
              "</table>\n",
              "</div>\n",
              "      <button class=\"colab-df-convert\" onclick=\"convertToInteractive('df-397c5b25-16a5-4d81-91e8-6ea224872254')\"\n",
              "              title=\"Convert this dataframe to an interactive table.\"\n",
              "              style=\"display:none;\">\n",
              "        \n",
              "  <svg xmlns=\"http://www.w3.org/2000/svg\" height=\"24px\"viewBox=\"0 0 24 24\"\n",
              "       width=\"24px\">\n",
              "    <path d=\"M0 0h24v24H0V0z\" fill=\"none\"/>\n",
              "    <path d=\"M18.56 5.44l.94 2.06.94-2.06 2.06-.94-2.06-.94-.94-2.06-.94 2.06-2.06.94zm-11 1L8.5 8.5l.94-2.06 2.06-.94-2.06-.94L8.5 2.5l-.94 2.06-2.06.94zm10 10l.94 2.06.94-2.06 2.06-.94-2.06-.94-.94-2.06-.94 2.06-2.06.94z\"/><path d=\"M17.41 7.96l-1.37-1.37c-.4-.4-.92-.59-1.43-.59-.52 0-1.04.2-1.43.59L10.3 9.45l-7.72 7.72c-.78.78-.78 2.05 0 2.83L4 21.41c.39.39.9.59 1.41.59.51 0 1.02-.2 1.41-.59l7.78-7.78 2.81-2.81c.8-.78.8-2.07 0-2.86zM5.41 20L4 18.59l7.72-7.72 1.47 1.35L5.41 20z\"/>\n",
              "  </svg>\n",
              "      </button>\n",
              "      \n",
              "  <style>\n",
              "    .colab-df-container {\n",
              "      display:flex;\n",
              "      flex-wrap:wrap;\n",
              "      gap: 12px;\n",
              "    }\n",
              "\n",
              "    .colab-df-convert {\n",
              "      background-color: #E8F0FE;\n",
              "      border: none;\n",
              "      border-radius: 50%;\n",
              "      cursor: pointer;\n",
              "      display: none;\n",
              "      fill: #1967D2;\n",
              "      height: 32px;\n",
              "      padding: 0 0 0 0;\n",
              "      width: 32px;\n",
              "    }\n",
              "\n",
              "    .colab-df-convert:hover {\n",
              "      background-color: #E2EBFA;\n",
              "      box-shadow: 0px 1px 2px rgba(60, 64, 67, 0.3), 0px 1px 3px 1px rgba(60, 64, 67, 0.15);\n",
              "      fill: #174EA6;\n",
              "    }\n",
              "\n",
              "    [theme=dark] .colab-df-convert {\n",
              "      background-color: #3B4455;\n",
              "      fill: #D2E3FC;\n",
              "    }\n",
              "\n",
              "    [theme=dark] .colab-df-convert:hover {\n",
              "      background-color: #434B5C;\n",
              "      box-shadow: 0px 1px 3px 1px rgba(0, 0, 0, 0.15);\n",
              "      filter: drop-shadow(0px 1px 2px rgba(0, 0, 0, 0.3));\n",
              "      fill: #FFFFFF;\n",
              "    }\n",
              "  </style>\n",
              "\n",
              "      <script>\n",
              "        const buttonEl =\n",
              "          document.querySelector('#df-397c5b25-16a5-4d81-91e8-6ea224872254 button.colab-df-convert');\n",
              "        buttonEl.style.display =\n",
              "          google.colab.kernel.accessAllowed ? 'block' : 'none';\n",
              "\n",
              "        async function convertToInteractive(key) {\n",
              "          const element = document.querySelector('#df-397c5b25-16a5-4d81-91e8-6ea224872254');\n",
              "          const dataTable =\n",
              "            await google.colab.kernel.invokeFunction('convertToInteractive',\n",
              "                                                     [key], {});\n",
              "          if (!dataTable) return;\n",
              "\n",
              "          const docLinkHtml = 'Like what you see? Visit the ' +\n",
              "            '<a target=\"_blank\" href=https://colab.research.google.com/notebooks/data_table.ipynb>data table notebook</a>'\n",
              "            + ' to learn more about interactive tables.';\n",
              "          element.innerHTML = '';\n",
              "          dataTable['output_type'] = 'display_data';\n",
              "          await google.colab.output.renderOutput(dataTable, element);\n",
              "          const docLink = document.createElement('div');\n",
              "          docLink.innerHTML = docLinkHtml;\n",
              "          element.appendChild(docLink);\n",
              "        }\n",
              "      </script>\n",
              "    </div>\n",
              "  </div>\n",
              "  "
            ]
          },
          "metadata": {},
          "execution_count": 47
        }
      ]
    },
    {
      "cell_type": "code",
      "source": [
        "# Cruise\n",
        "df['Cruise'].value_counts().plot(kind = 'bar')\n",
        "plt.title('Distribution of Cruise')\n",
        "plt.xlabel('Cruise')\n",
        "plt.ylabel('Frequency')\n",
        "plt.show()"
      ],
      "metadata": {
        "colab": {
          "base_uri": "https://localhost:8080/",
          "height": 292
        },
        "id": "VtaiCLQ_EQJu",
        "outputId": "253a290c-164a-4b46-e275-ea458991f9f6"
      },
      "execution_count": 48,
      "outputs": [
        {
          "output_type": "display_data",
          "data": {
            "text/plain": [
              "<Figure size 432x288 with 1 Axes>"
            ],
            "image/png": "[encoded data removed]"
          },
          "metadata": {
            "needs_background": "light"
          }
        }
      ]
    },
    {
      "cell_type": "code",
      "source": [
        "# Cruise vs Price\n",
        "df.groupby('Cruise')['Price'].mean().plot()\n",
        "plt.title('Cruise vs Price')\n",
        "plt.xlabel('Cruise')\n",
        "plt.ylabel('Price')\n",
        "plt.show()"
      ],
      "metadata": {
        "colab": {
          "base_uri": "https://localhost:8080/",
          "height": 295
        },
        "id": "XbxYAZl6GCwB",
        "outputId": "f5890f74-9c67-431c-f14e-85b235a7b0bc"
      },
      "execution_count": 49,
      "outputs": [
        {
          "output_type": "display_data",
          "data": {
            "text/plain": [
              "<Figure size 432x288 with 1 Axes>"
            ],
            "image/png": "[encoded data removed]"
          },
          "metadata": {
            "needs_background": "light"
          }
        }
      ]
    },
    {
      "cell_type": "code",
      "source": [
        "df[['Sound', 'Price']].corr()"
      ],
      "metadata": {
        "colab": {
          "base_uri": "https://localhost:8080/",
          "height": 112
        },
        "id": "NR9QD1W5PEyk",
        "outputId": "6b57b9fb-ffad-4b92-a322-a293a38e4ec8"
      },
      "execution_count": 50,
      "outputs": [
        {
          "output_type": "execute_result",
          "data": {
            "text/plain": [
              "          Sound     Price\n",
              "Sound  1.000000 -0.124348\n",
              "Price -0.124348  1.000000"
            ],
            "text/html": [
              "\n",
              "  <div id=\"df-d1de07d6-70b7-4b78-b8a8-654e18424cae\">\n",
              "    <div class=\"colab-df-container\">\n",
              "      <div>\n",
              "<style scoped>\n",
              "    .dataframe tbody tr th:only-of-type {\n",
              "        vertical-align: middle;\n",
              "    }\n",
              "\n",
              "    .dataframe tbody tr th {\n",
              "        vertical-align: top;\n",
              "    }\n",
              "\n",
              "    .dataframe thead th {\n",
              "        text-align: right;\n",
              "    }\n",
              "</style>\n",
              "<table border=\"1\" class=\"dataframe\">\n",
              "  <thead>\n",
              "    <tr style=\"text-align: right;\">\n",
              "      <th></th>\n",
              "      <th>Sound</th>\n",
              "      <th>Price</th>\n",
              "    </tr>\n",
              "  </thead>\n",
              "  <tbody>\n",
              "    <tr>\n",
              "      <th>Sound</th>\n",
              "      <td>1.000000</td>\n",
              "      <td>-0.124348</td>\n",
              "    </tr>\n",
              "    <tr>\n",
              "      <th>Price</th>\n",
              "      <td>-0.124348</td>\n",
              "      <td>1.000000</td>\n",
              "    </tr>\n",
              "  </tbody>\n",
              "</table>\n",
              "</div>\n",
              "      <button class=\"colab-df-convert\" onclick=\"convertToInteractive('df-d1de07d6-70b7-4b78-b8a8-654e18424cae')\"\n",
              "              title=\"Convert this dataframe to an interactive table.\"\n",
              "              style=\"display:none;\">\n",
              "        \n",
              "  <svg xmlns=\"http://www.w3.org/2000/svg\" height=\"24px\"viewBox=\"0 0 24 24\"\n",
              "       width=\"24px\">\n",
              "    <path d=\"M0 0h24v24H0V0z\" fill=\"none\"/>\n",
              "    <path d=\"M18.56 5.44l.94 2.06.94-2.06 2.06-.94-2.06-.94-.94-2.06-.94 2.06-2.06.94zm-11 1L8.5 8.5l.94-2.06 2.06-.94-2.06-.94L8.5 2.5l-.94 2.06-2.06.94zm10 10l.94 2.06.94-2.06 2.06-.94-2.06-.94-.94-2.06-.94 2.06-2.06.94z\"/><path d=\"M17.41 7.96l-1.37-1.37c-.4-.4-.92-.59-1.43-.59-.52 0-1.04.2-1.43.59L10.3 9.45l-7.72 7.72c-.78.78-.78 2.05 0 2.83L4 21.41c.39.39.9.59 1.41.59.51 0 1.02-.2 1.41-.59l7.78-7.78 2.81-2.81c.8-.78.8-2.07 0-2.86zM5.41 20L4 18.59l7.72-7.72 1.47 1.35L5.41 20z\"/>\n",
              "  </svg>\n",
              "      </button>\n",
              "      \n",
              "  <style>\n",
              "    .colab-df-container {\n",
              "      display:flex;\n",
              "      flex-wrap:wrap;\n",
              "      gap: 12px;\n",
              "    }\n",
              "\n",
              "    .colab-df-convert {\n",
              "      background-color: #E8F0FE;\n",
              "      border: none;\n",
              "      border-radius: 50%;\n",
              "      cursor: pointer;\n",
              "      display: none;\n",
              "      fill: #1967D2;\n",
              "      height: 32px;\n",
              "      padding: 0 0 0 0;\n",
              "      width: 32px;\n",
              "    }\n",
              "\n",
              "    .colab-df-convert:hover {\n",
              "      background-color: #E2EBFA;\n",
              "      box-shadow: 0px 1px 2px rgba(60, 64, 67, 0.3), 0px 1px 3px 1px rgba(60, 64, 67, 0.15);\n",
              "      fill: #174EA6;\n",
              "    }\n",
              "\n",
              "    [theme=dark] .colab-df-convert {\n",
              "      background-color: #3B4455;\n",
              "      fill: #D2E3FC;\n",
              "    }\n",
              "\n",
              "    [theme=dark] .colab-df-convert:hover {\n",
              "      background-color: #434B5C;\n",
              "      box-shadow: 0px 1px 3px 1px rgba(0, 0, 0, 0.15);\n",
              "      filter: drop-shadow(0px 1px 2px rgba(0, 0, 0, 0.3));\n",
              "      fill: #FFFFFF;\n",
              "    }\n",
              "  </style>\n",
              "\n",
              "      <script>\n",
              "        const buttonEl =\n",
              "          document.querySelector('#df-d1de07d6-70b7-4b78-b8a8-654e18424cae button.colab-df-convert');\n",
              "        buttonEl.style.display =\n",
              "          google.colab.kernel.accessAllowed ? 'block' : 'none';\n",
              "\n",
              "        async function convertToInteractive(key) {\n",
              "          const element = document.querySelector('#df-d1de07d6-70b7-4b78-b8a8-654e18424cae');\n",
              "          const dataTable =\n",
              "            await google.colab.kernel.invokeFunction('convertToInteractive',\n",
              "                                                     [key], {});\n",
              "          if (!dataTable) return;\n",
              "\n",
              "          const docLinkHtml = 'Like what you see? Visit the ' +\n",
              "            '<a target=\"_blank\" href=https://colab.research.google.com/notebooks/data_table.ipynb>data table notebook</a>'\n",
              "            + ' to learn more about interactive tables.';\n",
              "          element.innerHTML = '';\n",
              "          dataTable['output_type'] = 'display_data';\n",
              "          await google.colab.output.renderOutput(dataTable, element);\n",
              "          const docLink = document.createElement('div');\n",
              "          docLink.innerHTML = docLinkHtml;\n",
              "          element.appendChild(docLink);\n",
              "        }\n",
              "      </script>\n",
              "    </div>\n",
              "  </div>\n",
              "  "
            ]
          },
          "metadata": {},
          "execution_count": 50
        }
      ]
    },
    {
      "cell_type": "code",
      "source": [
        "# Sound\n",
        "df['Sound'].value_counts().plot(kind = 'bar')\n",
        "plt.title('Distribution of Sound')\n",
        "plt.xlabel('Sound')\n",
        "plt.ylabel('Frequency')\n",
        "plt.show()"
      ],
      "metadata": {
        "colab": {
          "base_uri": "https://localhost:8080/",
          "height": 292
        },
        "id": "aEI2lf0qEQM7",
        "outputId": "7ce87b13-4d49-4177-eb8a-9ca811f758e3"
      },
      "execution_count": 51,
      "outputs": [
        {
          "output_type": "display_data",
          "data": {
            "text/plain": [
              "<Figure size 432x288 with 1 Axes>"
            ],
            "image/png": "[encoded data removed]"
          },
          "metadata": {
            "needs_background": "light"
          }
        }
      ]
    },
    {
      "cell_type": "code",
      "source": [
        "# Sound vs Price\n",
        "df.groupby('Sound')['Price'].mean().plot()\n",
        "plt.title('Sound vs Price')\n",
        "plt.xlabel('Sound')\n",
        "plt.ylabel('Price')\n",
        "plt.show()"
      ],
      "metadata": {
        "colab": {
          "base_uri": "https://localhost:8080/",
          "height": 295
        },
        "id": "XgItIL-MGJD5",
        "outputId": "2507421d-7fd7-4c35-ed06-b88ba81f4418"
      },
      "execution_count": 52,
      "outputs": [
        {
          "output_type": "display_data",
          "data": {
            "text/plain": [
              "<Figure size 432x288 with 1 Axes>"
            ],
            "image/png": "[encoded data removed]"
          },
          "metadata": {
            "needs_background": "light"
          }
        }
      ]
    },
    {
      "cell_type": "code",
      "source": [
        "df[['Sound', 'Price']].corr()"
      ],
      "metadata": {
        "colab": {
          "base_uri": "https://localhost:8080/",
          "height": 112
        },
        "id": "BkmuNph2G-ZS",
        "outputId": "afd70f13-6745-466f-fe76-42a9e606f30d"
      },
      "execution_count": 53,
      "outputs": [
        {
          "output_type": "execute_result",
          "data": {
            "text/plain": [
              "          Sound     Price\n",
              "Sound  1.000000 -0.124348\n",
              "Price -0.124348  1.000000"
            ],
            "text/html": [
              "\n",
              "  <div id=\"df-aa789da1-4e6b-4c2e-8566-bf99557125bc\">\n",
              "    <div class=\"colab-df-container\">\n",
              "      <div>\n",
              "<style scoped>\n",
              "    .dataframe tbody tr th:only-of-type {\n",
              "        vertical-align: middle;\n",
              "    }\n",
              "\n",
              "    .dataframe tbody tr th {\n",
              "        vertical-align: top;\n",
              "    }\n",
              "\n",
              "    .dataframe thead th {\n",
              "        text-align: right;\n",
              "    }\n",
              "</style>\n",
              "<table border=\"1\" class=\"dataframe\">\n",
              "  <thead>\n",
              "    <tr style=\"text-align: right;\">\n",
              "      <th></th>\n",
              "      <th>Sound</th>\n",
              "      <th>Price</th>\n",
              "    </tr>\n",
              "  </thead>\n",
              "  <tbody>\n",
              "    <tr>\n",
              "      <th>Sound</th>\n",
              "      <td>1.000000</td>\n",
              "      <td>-0.124348</td>\n",
              "    </tr>\n",
              "    <tr>\n",
              "      <th>Price</th>\n",
              "      <td>-0.124348</td>\n",
              "      <td>1.000000</td>\n",
              "    </tr>\n",
              "  </tbody>\n",
              "</table>\n",
              "</div>\n",
              "      <button class=\"colab-df-convert\" onclick=\"convertToInteractive('df-aa789da1-4e6b-4c2e-8566-bf99557125bc')\"\n",
              "              title=\"Convert this dataframe to an interactive table.\"\n",
              "              style=\"display:none;\">\n",
              "        \n",
              "  <svg xmlns=\"http://www.w3.org/2000/svg\" height=\"24px\"viewBox=\"0 0 24 24\"\n",
              "       width=\"24px\">\n",
              "    <path d=\"M0 0h24v24H0V0z\" fill=\"none\"/>\n",
              "    <path d=\"M18.56 5.44l.94 2.06.94-2.06 2.06-.94-2.06-.94-.94-2.06-.94 2.06-2.06.94zm-11 1L8.5 8.5l.94-2.06 2.06-.94-2.06-.94L8.5 2.5l-.94 2.06-2.06.94zm10 10l.94 2.06.94-2.06 2.06-.94-2.06-.94-.94-2.06-.94 2.06-2.06.94z\"/><path d=\"M17.41 7.96l-1.37-1.37c-.4-.4-.92-.59-1.43-.59-.52 0-1.04.2-1.43.59L10.3 9.45l-7.72 7.72c-.78.78-.78 2.05 0 2.83L4 21.41c.39.39.9.59 1.41.59.51 0 1.02-.2 1.41-.59l7.78-7.78 2.81-2.81c.8-.78.8-2.07 0-2.86zM5.41 20L4 18.59l7.72-7.72 1.47 1.35L5.41 20z\"/>\n",
              "  </svg>\n",
              "      </button>\n",
              "      \n",
              "  <style>\n",
              "    .colab-df-container {\n",
              "      display:flex;\n",
              "      flex-wrap:wrap;\n",
              "      gap: 12px;\n",
              "    }\n",
              "\n",
              "    .colab-df-convert {\n",
              "      background-color: #E8F0FE;\n",
              "      border: none;\n",
              "      border-radius: 50%;\n",
              "      cursor: pointer;\n",
              "      display: none;\n",
              "      fill: #1967D2;\n",
              "      height: 32px;\n",
              "      padding: 0 0 0 0;\n",
              "      width: 32px;\n",
              "    }\n",
              "\n",
              "    .colab-df-convert:hover {\n",
              "      background-color: #E2EBFA;\n",
              "      box-shadow: 0px 1px 2px rgba(60, 64, 67, 0.3), 0px 1px 3px 1px rgba(60, 64, 67, 0.15);\n",
              "      fill: #174EA6;\n",
              "    }\n",
              "\n",
              "    [theme=dark] .colab-df-convert {\n",
              "      background-color: #3B4455;\n",
              "      fill: #D2E3FC;\n",
              "    }\n",
              "\n",
              "    [theme=dark] .colab-df-convert:hover {\n",
              "      background-color: #434B5C;\n",
              "      box-shadow: 0px 1px 3px 1px rgba(0, 0, 0, 0.15);\n",
              "      filter: drop-shadow(0px 1px 2px rgba(0, 0, 0, 0.3));\n",
              "      fill: #FFFFFF;\n",
              "    }\n",
              "  </style>\n",
              "\n",
              "      <script>\n",
              "        const buttonEl =\n",
              "          document.querySelector('#df-aa789da1-4e6b-4c2e-8566-bf99557125bc button.colab-df-convert');\n",
              "        buttonEl.style.display =\n",
              "          google.colab.kernel.accessAllowed ? 'block' : 'none';\n",
              "\n",
              "        async function convertToInteractive(key) {\n",
              "          const element = document.querySelector('#df-aa789da1-4e6b-4c2e-8566-bf99557125bc');\n",
              "          const dataTable =\n",
              "            await google.colab.kernel.invokeFunction('convertToInteractive',\n",
              "                                                     [key], {});\n",
              "          if (!dataTable) return;\n",
              "\n",
              "          const docLinkHtml = 'Like what you see? Visit the ' +\n",
              "            '<a target=\"_blank\" href=https://colab.research.google.com/notebooks/data_table.ipynb>data table notebook</a>'\n",
              "            + ' to learn more about interactive tables.';\n",
              "          element.innerHTML = '';\n",
              "          dataTable['output_type'] = 'display_data';\n",
              "          await google.colab.output.renderOutput(dataTable, element);\n",
              "          const docLink = document.createElement('div');\n",
              "          docLink.innerHTML = docLinkHtml;\n",
              "          element.appendChild(docLink);\n",
              "        }\n",
              "      </script>\n",
              "    </div>\n",
              "  </div>\n",
              "  "
            ]
          },
          "metadata": {},
          "execution_count": 53
        }
      ]
    },
    {
      "cell_type": "code",
      "source": [
        "# Leather\n",
        "df['Leather'].value_counts().plot(kind = 'bar')\n",
        "plt.title('Distribution of Leather')\n",
        "plt.xlabel('Leather')\n",
        "plt.ylabel('Frequency')\n",
        "plt.show()"
      ],
      "metadata": {
        "colab": {
          "base_uri": "https://localhost:8080/",
          "height": 292
        },
        "id": "ZG_rWXWXEQQn",
        "outputId": "cba6dc9e-59d4-4ce3-dff4-31c6e547017a"
      },
      "execution_count": 54,
      "outputs": [
        {
          "output_type": "display_data",
          "data": {
            "text/plain": [
              "<Figure size 432x288 with 1 Axes>"
            ],
            "image/png": "[encoded data removed]"
          },
          "metadata": {
            "needs_background": "light"
          }
        }
      ]
    },
    {
      "cell_type": "code",
      "source": [
        "# Leather vs Price\n",
        "df.groupby('Leather')['Price'].mean().plot()\n",
        "plt.title('Leather vs Price')\n",
        "plt.xlabel('Leather')\n",
        "plt.ylabel('Price')\n",
        "plt.show()"
      ],
      "metadata": {
        "colab": {
          "base_uri": "https://localhost:8080/",
          "height": 295
        },
        "id": "JiE1eVH9GOu5",
        "outputId": "79b1e39e-cdaa-4cf9-e011-e95a25dbf127"
      },
      "execution_count": 55,
      "outputs": [
        {
          "output_type": "display_data",
          "data": {
            "text/plain": [
              "<Figure size 432x288 with 1 Axes>"
            ],
            "image/png": "[encoded data removed]"
          },
          "metadata": {
            "needs_background": "light"
          }
        }
      ]
    },
    {
      "cell_type": "code",
      "source": [
        "df[['Leather', 'Price']].corr()"
      ],
      "metadata": {
        "colab": {
          "base_uri": "https://localhost:8080/",
          "height": 112
        },
        "id": "_J4r3fZ3EQSw",
        "outputId": "5e9b49f2-5e37-47f5-c528-29900261ab86"
      },
      "execution_count": 56,
      "outputs": [
        {
          "output_type": "execute_result",
          "data": {
            "text/plain": [
              "          Leather     Price\n",
              "Leather  1.000000  0.157197\n",
              "Price    0.157197  1.000000"
            ],
            "text/html": [
              "\n",
              "  <div id=\"df-7e84a5c9-1761-4bd4-95ed-6e57e6c20186\">\n",
              "    <div class=\"colab-df-container\">\n",
              "      <div>\n",
              "<style scoped>\n",
              "    .dataframe tbody tr th:only-of-type {\n",
              "        vertical-align: middle;\n",
              "    }\n",
              "\n",
              "    .dataframe tbody tr th {\n",
              "        vertical-align: top;\n",
              "    }\n",
              "\n",
              "    .dataframe thead th {\n",
              "        text-align: right;\n",
              "    }\n",
              "</style>\n",
              "<table border=\"1\" class=\"dataframe\">\n",
              "  <thead>\n",
              "    <tr style=\"text-align: right;\">\n",
              "      <th></th>\n",
              "      <th>Leather</th>\n",
              "      <th>Price</th>\n",
              "    </tr>\n",
              "  </thead>\n",
              "  <tbody>\n",
              "    <tr>\n",
              "      <th>Leather</th>\n",
              "      <td>1.000000</td>\n",
              "      <td>0.157197</td>\n",
              "    </tr>\n",
              "    <tr>\n",
              "      <th>Price</th>\n",
              "      <td>0.157197</td>\n",
              "      <td>1.000000</td>\n",
              "    </tr>\n",
              "  </tbody>\n",
              "</table>\n",
              "</div>\n",
              "      <button class=\"colab-df-convert\" onclick=\"convertToInteractive('df-7e84a5c9-1761-4bd4-95ed-6e57e6c20186')\"\n",
              "              title=\"Convert this dataframe to an interactive table.\"\n",
              "              style=\"display:none;\">\n",
              "        \n",
              "  <svg xmlns=\"http://www.w3.org/2000/svg\" height=\"24px\"viewBox=\"0 0 24 24\"\n",
              "       width=\"24px\">\n",
              "    <path d=\"M0 0h24v24H0V0z\" fill=\"none\"/>\n",
              "    <path d=\"M18.56 5.44l.94 2.06.94-2.06 2.06-.94-2.06-.94-.94-2.06-.94 2.06-2.06.94zm-11 1L8.5 8.5l.94-2.06 2.06-.94-2.06-.94L8.5 2.5l-.94 2.06-2.06.94zm10 10l.94 2.06.94-2.06 2.06-.94-2.06-.94-.94-2.06-.94 2.06-2.06.94z\"/><path d=\"M17.41 7.96l-1.37-1.37c-.4-.4-.92-.59-1.43-.59-.52 0-1.04.2-1.43.59L10.3 9.45l-7.72 7.72c-.78.78-.78 2.05 0 2.83L4 21.41c.39.39.9.59 1.41.59.51 0 1.02-.2 1.41-.59l7.78-7.78 2.81-2.81c.8-.78.8-2.07 0-2.86zM5.41 20L4 18.59l7.72-7.72 1.47 1.35L5.41 20z\"/>\n",
              "  </svg>\n",
              "      </button>\n",
              "      \n",
              "  <style>\n",
              "    .colab-df-container {\n",
              "      display:flex;\n",
              "      flex-wrap:wrap;\n",
              "      gap: 12px;\n",
              "    }\n",
              "\n",
              "    .colab-df-convert {\n",
              "      background-color: #E8F0FE;\n",
              "      border: none;\n",
              "      border-radius: 50%;\n",
              "      cursor: pointer;\n",
              "      display: none;\n",
              "      fill: #1967D2;\n",
              "      height: 32px;\n",
              "      padding: 0 0 0 0;\n",
              "      width: 32px;\n",
              "    }\n",
              "\n",
              "    .colab-df-convert:hover {\n",
              "      background-color: #E2EBFA;\n",
              "      box-shadow: 0px 1px 2px rgba(60, 64, 67, 0.3), 0px 1px 3px 1px rgba(60, 64, 67, 0.15);\n",
              "      fill: #174EA6;\n",
              "    }\n",
              "\n",
              "    [theme=dark] .colab-df-convert {\n",
              "      background-color: #3B4455;\n",
              "      fill: #D2E3FC;\n",
              "    }\n",
              "\n",
              "    [theme=dark] .colab-df-convert:hover {\n",
              "      background-color: #434B5C;\n",
              "      box-shadow: 0px 1px 3px 1px rgba(0, 0, 0, 0.15);\n",
              "      filter: drop-shadow(0px 1px 2px rgba(0, 0, 0, 0.3));\n",
              "      fill: #FFFFFF;\n",
              "    }\n",
              "  </style>\n",
              "\n",
              "      <script>\n",
              "        const buttonEl =\n",
              "          document.querySelector('#df-7e84a5c9-1761-4bd4-95ed-6e57e6c20186 button.colab-df-convert');\n",
              "        buttonEl.style.display =\n",
              "          google.colab.kernel.accessAllowed ? 'block' : 'none';\n",
              "\n",
              "        async function convertToInteractive(key) {\n",
              "          const element = document.querySelector('#df-7e84a5c9-1761-4bd4-95ed-6e57e6c20186');\n",
              "          const dataTable =\n",
              "            await google.colab.kernel.invokeFunction('convertToInteractive',\n",
              "                                                     [key], {});\n",
              "          if (!dataTable) return;\n",
              "\n",
              "          const docLinkHtml = 'Like what you see? Visit the ' +\n",
              "            '<a target=\"_blank\" href=https://colab.research.google.com/notebooks/data_table.ipynb>data table notebook</a>'\n",
              "            + ' to learn more about interactive tables.';\n",
              "          element.innerHTML = '';\n",
              "          dataTable['output_type'] = 'display_data';\n",
              "          await google.colab.output.renderOutput(dataTable, element);\n",
              "          const docLink = document.createElement('div');\n",
              "          docLink.innerHTML = docLinkHtml;\n",
              "          element.appendChild(docLink);\n",
              "        }\n",
              "      </script>\n",
              "    </div>\n",
              "  </div>\n",
              "  "
            ]
          },
          "metadata": {},
          "execution_count": 56
        }
      ]
    },
    {
      "cell_type": "code",
      "source": [
        "df.corr()"
      ],
      "metadata": {
        "colab": {
          "base_uri": "https://localhost:8080/",
          "height": 364
        },
        "id": "HmfGgudFEQWZ",
        "outputId": "3cf13c67-4c49-49b5-fce3-876649a330ac"
      },
      "execution_count": 57,
      "outputs": [
        {
          "output_type": "execute_result",
          "data": {
            "text/plain": [
              "             Price   Mileage  Cylinder     Liter     Doors    Cruise  \\\n",
              "Price     1.000000 -0.146283  0.569086  0.558146 -0.138750  0.430851   \n",
              "Mileage  -0.146283  1.000000 -0.028069 -0.016878 -0.015384  0.023516   \n",
              "Cylinder  0.569086 -0.028069  1.000000  0.957897  0.002206  0.354285   \n",
              "Liter     0.558146 -0.016878  0.957897  1.000000 -0.079259  0.377509   \n",
              "Doors    -0.138750 -0.015384  0.002206 -0.079259  1.000000 -0.047674   \n",
              "Cruise    0.430851  0.023516  0.354285  0.377509 -0.047674  1.000000   \n",
              "Sound    -0.124348 -0.025447 -0.089704 -0.065527 -0.062530 -0.091730   \n",
              "Leather   0.157197 -0.000876  0.075520  0.087332 -0.061969 -0.070573   \n",
              "\n",
              "             Sound   Leather  \n",
              "Price    -0.124348  0.157197  \n",
              "Mileage  -0.025447 -0.000876  \n",
              "Cylinder -0.089704  0.075520  \n",
              "Liter    -0.065527  0.087332  \n",
              "Doors    -0.062530 -0.061969  \n",
              "Cruise   -0.091730 -0.070573  \n",
              "Sound     1.000000  0.165444  \n",
              "Leather   0.165444  1.000000  "
            ],
            "text/html": [
              "\n",
              "  <div id=\"df-5880ef93-60f6-48ad-a391-cfca04b2b27c\">\n",
              "    <div class=\"colab-df-container\">\n",
              "      <div>\n",
              "<style scoped>\n",
              "    .dataframe tbody tr th:only-of-type {\n",
              "        vertical-align: middle;\n",
              "    }\n",
              "\n",
              "    .dataframe tbody tr th {\n",
              "        vertical-align: top;\n",
              "    }\n",
              "\n",
              "    .dataframe thead th {\n",
              "        text-align: right;\n",
              "    }\n",
              "</style>\n",
              "<table border=\"1\" class=\"dataframe\">\n",
              "  <thead>\n",
              "    <tr style=\"text-align: right;\">\n",
              "      <th></th>\n",
              "      <th>Price</th>\n",
              "      <th>Mileage</th>\n",
              "      <th>Cylinder</th>\n",
              "      <th>Liter</th>\n",
              "      <th>Doors</th>\n",
              "      <th>Cruise</th>\n",
              "      <th>Sound</th>\n",
              "      <th>Leather</th>\n",
              "    </tr>\n",
              "  </thead>\n",
              "  <tbody>\n",
              "    <tr>\n",
              "      <th>Price</th>\n",
              "      <td>1.000000</td>\n",
              "      <td>-0.146283</td>\n",
              "      <td>0.569086</td>\n",
              "      <td>0.558146</td>\n",
              "      <td>-0.138750</td>\n",
              "      <td>0.430851</td>\n",
              "      <td>-0.124348</td>\n",
              "      <td>0.157197</td>\n",
              "    </tr>\n",
              "    <tr>\n",
              "      <th>Mileage</th>\n",
              "      <td>-0.146283</td>\n",
              "      <td>1.000000</td>\n",
              "      <td>-0.028069</td>\n",
              "      <td>-0.016878</td>\n",
              "      <td>-0.015384</td>\n",
              "      <td>0.023516</td>\n",
              "      <td>-0.025447</td>\n",
              "      <td>-0.000876</td>\n",
              "    </tr>\n",
              "    <tr>\n",
              "      <th>Cylinder</th>\n",
              "      <td>0.569086</td>\n",
              "      <td>-0.028069</td>\n",
              "      <td>1.000000</td>\n",
              "      <td>0.957897</td>\n",
              "      <td>0.002206</td>\n",
              "      <td>0.354285</td>\n",
              "      <td>-0.089704</td>\n",
              "      <td>0.075520</td>\n",
              "    </tr>\n",
              "    <tr>\n",
              "      <th>Liter</th>\n",
              "      <td>0.558146</td>\n",
              "      <td>-0.016878</td>\n",
              "      <td>0.957897</td>\n",
              "      <td>1.000000</td>\n",
              "      <td>-0.079259</td>\n",
              "      <td>0.377509</td>\n",
              "      <td>-0.065527</td>\n",
              "      <td>0.087332</td>\n",
              "    </tr>\n",
              "    <tr>\n",
              "      <th>Doors</th>\n",
              "      <td>-0.138750</td>\n",
              "      <td>-0.015384</td>\n",
              "      <td>0.002206</td>\n",
              "      <td>-0.079259</td>\n",
              "      <td>1.000000</td>\n",
              "      <td>-0.047674</td>\n",
              "      <td>-0.062530</td>\n",
              "      <td>-0.061969</td>\n",
              "    </tr>\n",
              "    <tr>\n",
              "      <th>Cruise</th>\n",
              "      <td>0.430851</td>\n",
              "      <td>0.023516</td>\n",
              "      <td>0.354285</td>\n",
              "      <td>0.377509</td>\n",
              "      <td>-0.047674</td>\n",
              "      <td>1.000000</td>\n",
              "      <td>-0.091730</td>\n",
              "      <td>-0.070573</td>\n",
              "    </tr>\n",
              "    <tr>\n",
              "      <th>Sound</th>\n",
              "      <td>-0.124348</td>\n",
              "      <td>-0.025447</td>\n",
              "      <td>-0.089704</td>\n",
              "      <td>-0.065527</td>\n",
              "      <td>-0.062530</td>\n",
              "      <td>-0.091730</td>\n",
              "      <td>1.000000</td>\n",
              "      <td>0.165444</td>\n",
              "    </tr>\n",
              "    <tr>\n",
              "      <th>Leather</th>\n",
              "      <td>0.157197</td>\n",
              "      <td>-0.000876</td>\n",
              "      <td>0.075520</td>\n",
              "      <td>0.087332</td>\n",
              "      <td>-0.061969</td>\n",
              "      <td>-0.070573</td>\n",
              "      <td>0.165444</td>\n",
              "      <td>1.000000</td>\n",
              "    </tr>\n",
              "  </tbody>\n",
              "</table>\n",
              "</div>\n",
              "      <button class=\"colab-df-convert\" onclick=\"convertToInteractive('df-5880ef93-60f6-48ad-a391-cfca04b2b27c')\"\n",
              "              title=\"Convert this dataframe to an interactive table.\"\n",
              "              style=\"display:none;\">\n",
              "        \n",
              "  <svg xmlns=\"http://www.w3.org/2000/svg\" height=\"24px\"viewBox=\"0 0 24 24\"\n",
              "       width=\"24px\">\n",
              "    <path d=\"M0 0h24v24H0V0z\" fill=\"none\"/>\n",
              "    <path d=\"M18.56 5.44l.94 2.06.94-2.06 2.06-.94-2.06-.94-.94-2.06-.94 2.06-2.06.94zm-11 1L8.5 8.5l.94-2.06 2.06-.94-2.06-.94L8.5 2.5l-.94 2.06-2.06.94zm10 10l.94 2.06.94-2.06 2.06-.94-2.06-.94-.94-2.06-.94 2.06-2.06.94z\"/><path d=\"M17.41 7.96l-1.37-1.37c-.4-.4-.92-.59-1.43-.59-.52 0-1.04.2-1.43.59L10.3 9.45l-7.72 7.72c-.78.78-.78 2.05 0 2.83L4 21.41c.39.39.9.59 1.41.59.51 0 1.02-.2 1.41-.59l7.78-7.78 2.81-2.81c.8-.78.8-2.07 0-2.86zM5.41 20L4 18.59l7.72-7.72 1.47 1.35L5.41 20z\"/>\n",
              "  </svg>\n",
              "      </button>\n",
              "      \n",
              "  <style>\n",
              "    .colab-df-container {\n",
              "      display:flex;\n",
              "      flex-wrap:wrap;\n",
              "      gap: 12px;\n",
              "    }\n",
              "\n",
              "    .colab-df-convert {\n",
              "      background-color: #E8F0FE;\n",
              "      border: none;\n",
              "      border-radius: 50%;\n",
              "      cursor: pointer;\n",
              "      display: none;\n",
              "      fill: #1967D2;\n",
              "      height: 32px;\n",
              "      padding: 0 0 0 0;\n",
              "      width: 32px;\n",
              "    }\n",
              "\n",
              "    .colab-df-convert:hover {\n",
              "      background-color: #E2EBFA;\n",
              "      box-shadow: 0px 1px 2px rgba(60, 64, 67, 0.3), 0px 1px 3px 1px rgba(60, 64, 67, 0.15);\n",
              "      fill: #174EA6;\n",
              "    }\n",
              "\n",
              "    [theme=dark] .colab-df-convert {\n",
              "      background-color: #3B4455;\n",
              "      fill: #D2E3FC;\n",
              "    }\n",
              "\n",
              "    [theme=dark] .colab-df-convert:hover {\n",
              "      background-color: #434B5C;\n",
              "      box-shadow: 0px 1px 3px 1px rgba(0, 0, 0, 0.15);\n",
              "      filter: drop-shadow(0px 1px 2px rgba(0, 0, 0, 0.3));\n",
              "      fill: #FFFFFF;\n",
              "    }\n",
              "  </style>\n",
              "\n",
              "      <script>\n",
              "        const buttonEl =\n",
              "          document.querySelector('#df-5880ef93-60f6-48ad-a391-cfca04b2b27c button.colab-df-convert');\n",
              "        buttonEl.style.display =\n",
              "          google.colab.kernel.accessAllowed ? 'block' : 'none';\n",
              "\n",
              "        async function convertToInteractive(key) {\n",
              "          const element = document.querySelector('#df-5880ef93-60f6-48ad-a391-cfca04b2b27c');\n",
              "          const dataTable =\n",
              "            await google.colab.kernel.invokeFunction('convertToInteractive',\n",
              "                                                     [key], {});\n",
              "          if (!dataTable) return;\n",
              "\n",
              "          const docLinkHtml = 'Like what you see? Visit the ' +\n",
              "            '<a target=\"_blank\" href=https://colab.research.google.com/notebooks/data_table.ipynb>data table notebook</a>'\n",
              "            + ' to learn more about interactive tables.';\n",
              "          element.innerHTML = '';\n",
              "          dataTable['output_type'] = 'display_data';\n",
              "          await google.colab.output.renderOutput(dataTable, element);\n",
              "          const docLink = document.createElement('div');\n",
              "          docLink.innerHTML = docLinkHtml;\n",
              "          element.appendChild(docLink);\n",
              "        }\n",
              "      </script>\n",
              "    </div>\n",
              "  </div>\n",
              "  "
            ]
          },
          "metadata": {},
          "execution_count": 57
        }
      ]
    },
    {
      "cell_type": "code",
      "source": [
        "sns.heatmap(df.corr(), annot = True)\n",
        "plt.show()"
      ],
      "metadata": {
        "colab": {
          "base_uri": "https://localhost:8080/",
          "height": 301
        },
        "id": "18W2y-yC2_sN",
        "outputId": "a0366dbf-e0b2-4fff-eed2-0a3ab8e4cf15"
      },
      "execution_count": 58,
      "outputs": [
        {
          "output_type": "display_data",
          "data": {
            "text/plain": [
              "<Figure size 432x288 with 2 Axes>"
            ],
            "image/png": "[encoded data removed]"
          },
          "metadata": {
            "needs_background": "light"
          }
        }
      ]
    },
    {
      "cell_type": "code",
      "source": [
        "# From the above table and heatmap, we can infer that only CYLINDER, LITER and CRUISE have positive correlation with the target variable PRICE. Thus these are the important features for building  the model."
      ],
      "metadata": {
        "id": "GmuLTj4EP3Rl"
      },
      "execution_count": 59,
      "outputs": []
    },
    {
      "cell_type": "markdown",
      "source": [
        "## TASK 2"
      ],
      "metadata": {
        "id": "czDka0G7YkXI"
      }
    },
    {
      "cell_type": "code",
      "source": [
        "X = df[['Mileage', 'Cylinder', 'Liter', 'Doors', 'Cruise', 'Sound', 'Leather']].values\n",
        "y = df['Price'].values"
      ],
      "metadata": {
        "id": "ZVhIYCUBP8x8"
      },
      "execution_count": 60,
      "outputs": []
    },
    {
      "cell_type": "code",
      "source": [
        "from sklearn.model_selection import train_test_split \n",
        "X_train, X_test, y_train, y_test = train_test_split(X, y, test_size=0.3, random_state = 285)"
      ],
      "metadata": {
        "id": "IFFQPOIPP94S"
      },
      "execution_count": 61,
      "outputs": []
    },
    {
      "cell_type": "code",
      "source": [
        "X_train.shape, X_test.shape"
      ],
      "metadata": {
        "colab": {
          "base_uri": "https://localhost:8080/"
        },
        "id": "aihWM-8jQt7k",
        "outputId": "c3869b80-899e-47ea-aed1-3529c810a1db"
      },
      "execution_count": 62,
      "outputs": [
        {
          "output_type": "execute_result",
          "data": {
            "text/plain": [
              "((562, 7), (242, 7))"
            ]
          },
          "metadata": {},
          "execution_count": 62
        }
      ]
    },
    {
      "cell_type": "code",
      "source": [
        "from sklearn.preprocessing import StandardScaler\n",
        "scaler = StandardScaler()\n",
        "scaler.fit(X_train)\n",
        "X_train_scaled = scaler.transform(X_train)\n",
        "X_test_scaled = scaler.transform(X_test)"
      ],
      "metadata": {
        "id": "jFpsA28gQxQv"
      },
      "execution_count": 63,
      "outputs": []
    },
    {
      "cell_type": "code",
      "source": [
        "from sklearn.linear_model import LinearRegression \n",
        "regressor = LinearRegression() \n",
        "regressor.fit(X_train_scaled, y_train)"
      ],
      "metadata": {
        "colab": {
          "base_uri": "https://localhost:8080/"
        },
        "id": "x-hD8auSQzsG",
        "outputId": "0501d497-7157-461c-eaaf-c93acbc4bc20"
      },
      "execution_count": 64,
      "outputs": [
        {
          "output_type": "execute_result",
          "data": {
            "text/plain": [
              "LinearRegression()"
            ]
          },
          "metadata": {},
          "execution_count": 64
        }
      ]
    },
    {
      "cell_type": "code",
      "source": [
        "print(regressor.intercept_)"
      ],
      "metadata": {
        "colab": {
          "base_uri": "https://localhost:8080/"
        },
        "id": "7OhE2xCxQ2gt",
        "outputId": "ccb6faae-92ce-4252-ec41-1e38896cf4d5"
      },
      "execution_count": 65,
      "outputs": [
        {
          "output_type": "stream",
          "name": "stdout",
          "text": [
            "21742.158389192442\n"
          ]
        }
      ]
    },
    {
      "cell_type": "code",
      "source": [
        "print(regressor.coef_)"
      ],
      "metadata": {
        "colab": {
          "base_uri": "https://localhost:8080/"
        },
        "id": "Xt4cVrglQ5ph",
        "outputId": "028da34f-b829-409d-aead-5cb1149e8423"
      },
      "execution_count": 66,
      "outputs": [
        {
          "output_type": "stream",
          "name": "stdout",
          "text": [
            "[-1540.0301315   6063.21969251 -1376.12506698 -1601.76858802\n",
            "  2485.74163113 -1141.43363286  1463.12581626]\n"
          ]
        }
      ]
    },
    {
      "cell_type": "code",
      "source": [
        "coef = pd.DataFrame(regressor.coef_, ['Mileage', 'Cylinder', 'Liter', 'Doors', 'Cruise', 'Sound', 'Leather'], columns = ['coefficient'])\n",
        "coef"
      ],
      "metadata": {
        "colab": {
          "base_uri": "https://localhost:8080/",
          "height": 269
        },
        "id": "xk6CHc0tQ897",
        "outputId": "9cdd7acc-e7c4-445c-e21a-cef49a14929b"
      },
      "execution_count": 67,
      "outputs": [
        {
          "output_type": "execute_result",
          "data": {
            "text/plain": [
              "          coefficient\n",
              "Mileage  -1540.030132\n",
              "Cylinder  6063.219693\n",
              "Liter    -1376.125067\n",
              "Doors    -1601.768588\n",
              "Cruise    2485.741631\n",
              "Sound    -1141.433633\n",
              "Leather   1463.125816"
            ],
            "text/html": [
              "\n",
              "  <div id=\"df-81e633bc-b9d3-43a0-9f5c-2052a4382bec\">\n",
              "    <div class=\"colab-df-container\">\n",
              "      <div>\n",
              "<style scoped>\n",
              "    .dataframe tbody tr th:only-of-type {\n",
              "        vertical-align: middle;\n",
              "    }\n",
              "\n",
              "    .dataframe tbody tr th {\n",
              "        vertical-align: top;\n",
              "    }\n",
              "\n",
              "    .dataframe thead th {\n",
              "        text-align: right;\n",
              "    }\n",
              "</style>\n",
              "<table border=\"1\" class=\"dataframe\">\n",
              "  <thead>\n",
              "    <tr style=\"text-align: right;\">\n",
              "      <th></th>\n",
              "      <th>coefficient</th>\n",
              "    </tr>\n",
              "  </thead>\n",
              "  <tbody>\n",
              "    <tr>\n",
              "      <th>Mileage</th>\n",
              "      <td>-1540.030132</td>\n",
              "    </tr>\n",
              "    <tr>\n",
              "      <th>Cylinder</th>\n",
              "      <td>6063.219693</td>\n",
              "    </tr>\n",
              "    <tr>\n",
              "      <th>Liter</th>\n",
              "      <td>-1376.125067</td>\n",
              "    </tr>\n",
              "    <tr>\n",
              "      <th>Doors</th>\n",
              "      <td>-1601.768588</td>\n",
              "    </tr>\n",
              "    <tr>\n",
              "      <th>Cruise</th>\n",
              "      <td>2485.741631</td>\n",
              "    </tr>\n",
              "    <tr>\n",
              "      <th>Sound</th>\n",
              "      <td>-1141.433633</td>\n",
              "    </tr>\n",
              "    <tr>\n",
              "      <th>Leather</th>\n",
              "      <td>1463.125816</td>\n",
              "    </tr>\n",
              "  </tbody>\n",
              "</table>\n",
              "</div>\n",
              "      <button class=\"colab-df-convert\" onclick=\"convertToInteractive('df-81e633bc-b9d3-43a0-9f5c-2052a4382bec')\"\n",
              "              title=\"Convert this dataframe to an interactive table.\"\n",
              "              style=\"display:none;\">\n",
              "        \n",
              "  <svg xmlns=\"http://www.w3.org/2000/svg\" height=\"24px\"viewBox=\"0 0 24 24\"\n",
              "       width=\"24px\">\n",
              "    <path d=\"M0 0h24v24H0V0z\" fill=\"none\"/>\n",
              "    <path d=\"M18.56 5.44l.94 2.06.94-2.06 2.06-.94-2.06-.94-.94-2.06-.94 2.06-2.06.94zm-11 1L8.5 8.5l.94-2.06 2.06-.94-2.06-.94L8.5 2.5l-.94 2.06-2.06.94zm10 10l.94 2.06.94-2.06 2.06-.94-2.06-.94-.94-2.06-.94 2.06-2.06.94z\"/><path d=\"M17.41 7.96l-1.37-1.37c-.4-.4-.92-.59-1.43-.59-.52 0-1.04.2-1.43.59L10.3 9.45l-7.72 7.72c-.78.78-.78 2.05 0 2.83L4 21.41c.39.39.9.59 1.41.59.51 0 1.02-.2 1.41-.59l7.78-7.78 2.81-2.81c.8-.78.8-2.07 0-2.86zM5.41 20L4 18.59l7.72-7.72 1.47 1.35L5.41 20z\"/>\n",
              "  </svg>\n",
              "      </button>\n",
              "      \n",
              "  <style>\n",
              "    .colab-df-container {\n",
              "      display:flex;\n",
              "      flex-wrap:wrap;\n",
              "      gap: 12px;\n",
              "    }\n",
              "\n",
              "    .colab-df-convert {\n",
              "      background-color: #E8F0FE;\n",
              "      border: none;\n",
              "      border-radius: 50%;\n",
              "      cursor: pointer;\n",
              "      display: none;\n",
              "      fill: #1967D2;\n",
              "      height: 32px;\n",
              "      padding: 0 0 0 0;\n",
              "      width: 32px;\n",
              "    }\n",
              "\n",
              "    .colab-df-convert:hover {\n",
              "      background-color: #E2EBFA;\n",
              "      box-shadow: 0px 1px 2px rgba(60, 64, 67, 0.3), 0px 1px 3px 1px rgba(60, 64, 67, 0.15);\n",
              "      fill: #174EA6;\n",
              "    }\n",
              "\n",
              "    [theme=dark] .colab-df-convert {\n",
              "      background-color: #3B4455;\n",
              "      fill: #D2E3FC;\n",
              "    }\n",
              "\n",
              "    [theme=dark] .colab-df-convert:hover {\n",
              "      background-color: #434B5C;\n",
              "      box-shadow: 0px 1px 3px 1px rgba(0, 0, 0, 0.15);\n",
              "      filter: drop-shadow(0px 1px 2px rgba(0, 0, 0, 0.3));\n",
              "      fill: #FFFFFF;\n",
              "    }\n",
              "  </style>\n",
              "\n",
              "      <script>\n",
              "        const buttonEl =\n",
              "          document.querySelector('#df-81e633bc-b9d3-43a0-9f5c-2052a4382bec button.colab-df-convert');\n",
              "        buttonEl.style.display =\n",
              "          google.colab.kernel.accessAllowed ? 'block' : 'none';\n",
              "\n",
              "        async function convertToInteractive(key) {\n",
              "          const element = document.querySelector('#df-81e633bc-b9d3-43a0-9f5c-2052a4382bec');\n",
              "          const dataTable =\n",
              "            await google.colab.kernel.invokeFunction('convertToInteractive',\n",
              "                                                     [key], {});\n",
              "          if (!dataTable) return;\n",
              "\n",
              "          const docLinkHtml = 'Like what you see? Visit the ' +\n",
              "            '<a target=\"_blank\" href=https://colab.research.google.com/notebooks/data_table.ipynb>data table notebook</a>'\n",
              "            + ' to learn more about interactive tables.';\n",
              "          element.innerHTML = '';\n",
              "          dataTable['output_type'] = 'display_data';\n",
              "          await google.colab.output.renderOutput(dataTable, element);\n",
              "          const docLink = document.createElement('div');\n",
              "          docLink.innerHTML = docLinkHtml;\n",
              "          element.appendChild(docLink);\n",
              "        }\n",
              "      </script>\n",
              "    </div>\n",
              "  </div>\n",
              "  "
            ]
          },
          "metadata": {},
          "execution_count": 67
        }
      ]
    },
    {
      "cell_type": "markdown",
      "source": [
        "**1. Use mileage, cylinders, liters, doors, cruise, sound, and leather to find the linear regression equation.**"
      ],
      "metadata": {
        "id": "DBVcE5MSXXrl"
      }
    },
    {
      "cell_type": "code",
      "source": [
        "print('Linear Regression Equation: y = {:.4f}*Mileage + {:.4f}*Cylinder + {:.4f}*Liter + {:.4f}*Doors + {:.4f}*Cruise + {:.4f}*Sound + {:.4f}*Leather + {:.4f}'\n",
        "      .format(regressor.coef_[0], regressor.coef_[1], regressor.coef_[2], regressor.coef_[3], regressor.coef_[4], regressor.coef_[5], regressor.coef_[6],regressor.intercept_))"
      ],
      "metadata": {
        "colab": {
          "base_uri": "https://localhost:8080/"
        },
        "id": "scJvKPuTRAIX",
        "outputId": "e4bfef31-11f2-4718-d346-793c830b4528"
      },
      "execution_count": 68,
      "outputs": [
        {
          "output_type": "stream",
          "name": "stdout",
          "text": [
            "Linear Regression Equation: y = -1540.0301*Mileage + 6063.2197*Cylinder + -1376.1251*Liter + -1601.7686*Doors + 2485.7416*Cruise + -1141.4336*Sound + 1463.1258*Leather + 21742.1584\n"
          ]
        }
      ]
    },
    {
      "cell_type": "code",
      "source": [
        "y_pred = regressor.predict(X_test_scaled)"
      ],
      "metadata": {
        "id": "EDv1QrKZRElt"
      },
      "execution_count": 69,
      "outputs": []
    },
    {
      "cell_type": "code",
      "source": [
        "df1 = pd.DataFrame({'Actual': y_test, 'Predicted': y_pred})\n",
        "df1"
      ],
      "metadata": {
        "colab": {
          "base_uri": "https://localhost:8080/",
          "height": 423
        },
        "id": "QBaKcdPMRa_2",
        "outputId": "0715e8ec-6e25-482d-fd79-48fcd5da34a5"
      },
      "execution_count": 70,
      "outputs": [
        {
          "output_type": "execute_result",
          "data": {
            "text/plain": [
              "           Actual     Predicted\n",
              "0    15554.283129  21709.427012\n",
              "1     9789.037676  11710.210453\n",
              "2    17463.046081  26281.988286\n",
              "3    11137.045655  11806.343299\n",
              "4    11343.054010  18258.250594\n",
              "..            ...           ...\n",
              "237  12045.920705  15426.992277\n",
              "238  16536.743875  23826.004705\n",
              "239  31849.307947  20454.100814\n",
              "240  18490.983029  27589.434152\n",
              "241  14255.747682  12131.646639\n",
              "\n",
              "[242 rows x 2 columns]"
            ],
            "text/html": [
              "\n",
              "  <div id=\"df-8f7f54df-cd78-46cf-95fe-a6d468d4446a\">\n",
              "    <div class=\"colab-df-container\">\n",
              "      <div>\n",
              "<style scoped>\n",
              "    .dataframe tbody tr th:only-of-type {\n",
              "        vertical-align: middle;\n",
              "    }\n",
              "\n",
              "    .dataframe tbody tr th {\n",
              "        vertical-align: top;\n",
              "    }\n",
              "\n",
              "    .dataframe thead th {\n",
              "        text-align: right;\n",
              "    }\n",
              "</style>\n",
              "<table border=\"1\" class=\"dataframe\">\n",
              "  <thead>\n",
              "    <tr style=\"text-align: right;\">\n",
              "      <th></th>\n",
              "      <th>Actual</th>\n",
              "      <th>Predicted</th>\n",
              "    </tr>\n",
              "  </thead>\n",
              "  <tbody>\n",
              "    <tr>\n",
              "      <th>0</th>\n",
              "      <td>15554.283129</td>\n",
              "      <td>21709.427012</td>\n",
              "    </tr>\n",
              "    <tr>\n",
              "      <th>1</th>\n",
              "      <td>9789.037676</td>\n",
              "      <td>11710.210453</td>\n",
              "    </tr>\n",
              "    <tr>\n",
              "      <th>2</th>\n",
              "      <td>17463.046081</td>\n",
              "      <td>26281.988286</td>\n",
              "    </tr>\n",
              "    <tr>\n",
              "      <th>3</th>\n",
              "      <td>11137.045655</td>\n",
              "      <td>11806.343299</td>\n",
              "    </tr>\n",
              "    <tr>\n",
              "      <th>4</th>\n",
              "      <td>11343.054010</td>\n",
              "      <td>18258.250594</td>\n",
              "    </tr>\n",
              "    <tr>\n",
              "      <th>...</th>\n",
              "      <td>...</td>\n",
              "      <td>...</td>\n",
              "    </tr>\n",
              "    <tr>\n",
              "      <th>237</th>\n",
              "      <td>12045.920705</td>\n",
              "      <td>15426.992277</td>\n",
              "    </tr>\n",
              "    <tr>\n",
              "      <th>238</th>\n",
              "      <td>16536.743875</td>\n",
              "      <td>23826.004705</td>\n",
              "    </tr>\n",
              "    <tr>\n",
              "      <th>239</th>\n",
              "      <td>31849.307947</td>\n",
              "      <td>20454.100814</td>\n",
              "    </tr>\n",
              "    <tr>\n",
              "      <th>240</th>\n",
              "      <td>18490.983029</td>\n",
              "      <td>27589.434152</td>\n",
              "    </tr>\n",
              "    <tr>\n",
              "      <th>241</th>\n",
              "      <td>14255.747682</td>\n",
              "      <td>12131.646639</td>\n",
              "    </tr>\n",
              "  </tbody>\n",
              "</table>\n",
              "<p>242 rows × 2 columns</p>\n",
              "</div>\n",
              "      <button class=\"colab-df-convert\" onclick=\"convertToInteractive('df-8f7f54df-cd78-46cf-95fe-a6d468d4446a')\"\n",
              "              title=\"Convert this dataframe to an interactive table.\"\n",
              "              style=\"display:none;\">\n",
              "        \n",
              "  <svg xmlns=\"http://www.w3.org/2000/svg\" height=\"24px\"viewBox=\"0 0 24 24\"\n",
              "       width=\"24px\">\n",
              "    <path d=\"M0 0h24v24H0V0z\" fill=\"none\"/>\n",
              "    <path d=\"M18.56 5.44l.94 2.06.94-2.06 2.06-.94-2.06-.94-.94-2.06-.94 2.06-2.06.94zm-11 1L8.5 8.5l.94-2.06 2.06-.94-2.06-.94L8.5 2.5l-.94 2.06-2.06.94zm10 10l.94 2.06.94-2.06 2.06-.94-2.06-.94-.94-2.06-.94 2.06-2.06.94z\"/><path d=\"M17.41 7.96l-1.37-1.37c-.4-.4-.92-.59-1.43-.59-.52 0-1.04.2-1.43.59L10.3 9.45l-7.72 7.72c-.78.78-.78 2.05 0 2.83L4 21.41c.39.39.9.59 1.41.59.51 0 1.02-.2 1.41-.59l7.78-7.78 2.81-2.81c.8-.78.8-2.07 0-2.86zM5.41 20L4 18.59l7.72-7.72 1.47 1.35L5.41 20z\"/>\n",
              "  </svg>\n",
              "      </button>\n",
              "      \n",
              "  <style>\n",
              "    .colab-df-container {\n",
              "      display:flex;\n",
              "      flex-wrap:wrap;\n",
              "      gap: 12px;\n",
              "    }\n",
              "\n",
              "    .colab-df-convert {\n",
              "      background-color: #E8F0FE;\n",
              "      border: none;\n",
              "      border-radius: 50%;\n",
              "      cursor: pointer;\n",
              "      display: none;\n",
              "      fill: #1967D2;\n",
              "      height: 32px;\n",
              "      padding: 0 0 0 0;\n",
              "      width: 32px;\n",
              "    }\n",
              "\n",
              "    .colab-df-convert:hover {\n",
              "      background-color: #E2EBFA;\n",
              "      box-shadow: 0px 1px 2px rgba(60, 64, 67, 0.3), 0px 1px 3px 1px rgba(60, 64, 67, 0.15);\n",
              "      fill: #174EA6;\n",
              "    }\n",
              "\n",
              "    [theme=dark] .colab-df-convert {\n",
              "      background-color: #3B4455;\n",
              "      fill: #D2E3FC;\n",
              "    }\n",
              "\n",
              "    [theme=dark] .colab-df-convert:hover {\n",
              "      background-color: #434B5C;\n",
              "      box-shadow: 0px 1px 3px 1px rgba(0, 0, 0, 0.15);\n",
              "      filter: drop-shadow(0px 1px 2px rgba(0, 0, 0, 0.3));\n",
              "      fill: #FFFFFF;\n",
              "    }\n",
              "  </style>\n",
              "\n",
              "      <script>\n",
              "        const buttonEl =\n",
              "          document.querySelector('#df-8f7f54df-cd78-46cf-95fe-a6d468d4446a button.colab-df-convert');\n",
              "        buttonEl.style.display =\n",
              "          google.colab.kernel.accessAllowed ? 'block' : 'none';\n",
              "\n",
              "        async function convertToInteractive(key) {\n",
              "          const element = document.querySelector('#df-8f7f54df-cd78-46cf-95fe-a6d468d4446a');\n",
              "          const dataTable =\n",
              "            await google.colab.kernel.invokeFunction('convertToInteractive',\n",
              "                                                     [key], {});\n",
              "          if (!dataTable) return;\n",
              "\n",
              "          const docLinkHtml = 'Like what you see? Visit the ' +\n",
              "            '<a target=\"_blank\" href=https://colab.research.google.com/notebooks/data_table.ipynb>data table notebook</a>'\n",
              "            + ' to learn more about interactive tables.';\n",
              "          element.innerHTML = '';\n",
              "          dataTable['output_type'] = 'display_data';\n",
              "          await google.colab.output.renderOutput(dataTable, element);\n",
              "          const docLink = document.createElement('div');\n",
              "          docLink.innerHTML = docLinkHtml;\n",
              "          element.appendChild(docLink);\n",
              "        }\n",
              "      </script>\n",
              "    </div>\n",
              "  </div>\n",
              "  "
            ]
          },
          "metadata": {},
          "execution_count": 70
        }
      ]
    },
    {
      "cell_type": "markdown",
      "source": [
        "**2. Find the equation's R2 score (use the .score method) to determine whether the equation is a good fit for this data. (0.8 and greater is considered a strong correlation.)**"
      ],
      "metadata": {
        "id": "ql98kWG4X9I8"
      }
    },
    {
      "cell_type": "code",
      "source": [
        "print('R2 Score : ', regressor.score(X_test_scaled,y_test))"
      ],
      "metadata": {
        "colab": {
          "base_uri": "https://localhost:8080/"
        },
        "id": "xKobKdIZRdw9",
        "outputId": "1b99d0d2-d149-4ac1-bde9-4f5a9f82edb5"
      },
      "execution_count": 71,
      "outputs": [
        {
          "output_type": "stream",
          "name": "stdout",
          "text": [
            "R2 Score :  0.3989678532969194\n"
          ]
        }
      ]
    },
    {
      "cell_type": "markdown",
      "source": [
        "**3. Find the combination of the factors that is the best predictor for price.**"
      ],
      "metadata": {
        "id": "9ZXhX5EjY29F"
      }
    },
    {
      "cell_type": "code",
      "source": [
        "from itertools import combinations"
      ],
      "metadata": {
        "id": "7qmgDIVTY63z"
      },
      "execution_count": 72,
      "outputs": []
    },
    {
      "cell_type": "code",
      "source": [
        "from sklearn.model_selection import train_test_split \n",
        "from sklearn.preprocessing import StandardScaler\n",
        "from sklearn.linear_model import LinearRegression"
      ],
      "metadata": {
        "id": "-tHhf8qRanto"
      },
      "execution_count": 73,
      "outputs": []
    },
    {
      "cell_type": "markdown",
      "source": [
        "### **2** **Combinations**"
      ],
      "metadata": {
        "id": "gbatrNXQfMWa"
      }
    },
    {
      "cell_type": "code",
      "source": [
        "for i in list(combinations(['Mileage', 'Cylinder', 'Liter', 'Doors', 'Cruise', 'Sound', 'Leather'],2)):\n",
        "  # feature and target\n",
        "  X = df[list(i)].values\n",
        "  y = df['Price'].values\n",
        "  \n",
        "  # splitting\n",
        "  X_train, X_test, y_train, y_test = train_test_split(X, y, test_size=0.3, random_state = 52)\n",
        "  \n",
        "  # scaling\n",
        "  scaler = StandardScaler()\n",
        "  scaler.fit(X_train)\n",
        "  X_train_scaled = scaler.transform(X_train)\n",
        "  X_test_scaled = scaler.transform(X_test)\n",
        "  \n",
        "  # model\n",
        "  regressor = LinearRegression() \n",
        "  regressor.fit(X_train_scaled, y_train)\n",
        "  \n",
        "  # print('Co-efficient :', regressor.coef_ , 'Intercept :', regressor.intercept_)\n",
        "  \n",
        "  # Predict\n",
        "  y_pred = regressor.predict(X_test_scaled)\n",
        " \n",
        "  # Evaluation\n",
        "  print(i, 'R2 Score : ', regressor.score(X_test_scaled,y_test))"
      ],
      "metadata": {
        "colab": {
          "base_uri": "https://localhost:8080/"
        },
        "id": "H24iXWLoeX4w",
        "outputId": "7b8bb412-f268-4703-bf8f-4c8864a5f0ee"
      },
      "execution_count": 74,
      "outputs": [
        {
          "output_type": "stream",
          "name": "stdout",
          "text": [
            "('Mileage', 'Cylinder') R2 Score :  0.2682309079478623\n",
            "('Mileage', 'Liter') R2 Score :  0.2668392215561721\n",
            "('Mileage', 'Doors') R2 Score :  0.0169685137757678\n",
            "('Mileage', 'Cruise') R2 Score :  0.1889587764115911\n",
            "('Mileage', 'Sound') R2 Score :  -0.03798714260219915\n",
            "('Mileage', 'Leather') R2 Score :  0.0195913701411794\n",
            "('Cylinder', 'Liter') R2 Score :  0.26355067476227845\n",
            "('Cylinder', 'Doors') R2 Score :  0.2930608769074492\n",
            "('Cylinder', 'Cruise') R2 Score :  0.3128932753783562\n",
            "('Cylinder', 'Sound') R2 Score :  0.2585390346757652\n",
            "('Cylinder', 'Leather') R2 Score :  0.28639488711168626\n",
            "('Liter', 'Doors') R2 Score :  0.2774425540033407\n",
            "('Liter', 'Cruise') R2 Score :  0.3066595577034521\n",
            "('Liter', 'Sound') R2 Score :  0.2582828475081378\n",
            "('Liter', 'Leather') R2 Score :  0.28330055045865643\n",
            "('Doors', 'Cruise') R2 Score :  0.2096989797484402\n",
            "('Doors', 'Sound') R2 Score :  0.011971406700320486\n",
            "('Doors', 'Leather') R2 Score :  0.04578868657478452\n",
            "('Cruise', 'Sound') R2 Score :  0.1704364785535205\n",
            "('Cruise', 'Leather') R2 Score :  0.2287106535026956\n",
            "('Sound', 'Leather') R2 Score :  -0.0002615925072473324\n"
          ]
        }
      ]
    },
    {
      "cell_type": "markdown",
      "source": [
        "Of all the above combinations of 2 features, we infer that the combination of Cyliner and Cruise has the highest R2 score of 0.3128"
      ],
      "metadata": {
        "id": "Mwc2J4Weggdn"
      }
    },
    {
      "cell_type": "markdown",
      "source": [
        "### **3** **Combinations**"
      ],
      "metadata": {
        "id": "x67NrHYHfBBC"
      }
    },
    {
      "cell_type": "code",
      "source": [
        "for i in list(combinations(['Mileage', 'Cylinder', 'Liter', 'Doors', 'Cruise', 'Sound', 'Leather'],3)):\n",
        "  # feature and target\n",
        "  X = df[list(i)].values\n",
        "  y = df['Price'].values\n",
        " \n",
        "  # splitting\n",
        "  X_train, X_test, y_train, y_test = train_test_split(X, y, test_size=0.3, random_state = 52)\n",
        "  \n",
        "  # scaling\n",
        "  scaler = StandardScaler()\n",
        "  scaler.fit(X_train)\n",
        "  X_train_scaled = scaler.transform(X_train)\n",
        "  X_test_scaled = scaler.transform(X_test)\n",
        "  \n",
        "  # model\n",
        "  regressor = LinearRegression() \n",
        "  regressor.fit(X_train_scaled, y_train)\n",
        "  \n",
        "  # print('Co-efficient :', regressor.coef_ , 'Intercept :', regressor.intercept_)\n",
        "  \n",
        "  # Predict\n",
        "  y_pred = regressor.predict(X_test_scaled)\n",
        " \n",
        "  # Evaluation\n",
        "  print(i, 'R2 Score : ', regressor.score(X_test_scaled,y_test))"
      ],
      "metadata": {
        "colab": {
          "base_uri": "https://localhost:8080/"
        },
        "id": "ElpEFLrzfZCM",
        "outputId": "027f71e9-b1e4-428b-a0e2-99ef307a88e3"
      },
      "execution_count": 75,
      "outputs": [
        {
          "output_type": "stream",
          "name": "stdout",
          "text": [
            "('Mileage', 'Cylinder', 'Liter') R2 Score :  0.272839346113791\n",
            "('Mileage', 'Cylinder', 'Doors') R2 Score :  0.3016137048312425\n",
            "('Mileage', 'Cylinder', 'Cruise') R2 Score :  0.32357817258096755\n",
            "('Mileage', 'Cylinder', 'Sound') R2 Score :  0.2641375805170513\n",
            "('Mileage', 'Cylinder', 'Leather') R2 Score :  0.2966781744465473\n",
            "('Mileage', 'Liter', 'Doors') R2 Score :  0.2849666123572333\n",
            "('Mileage', 'Liter', 'Cruise') R2 Score :  0.3157221081364854\n",
            "('Mileage', 'Liter', 'Sound') R2 Score :  0.2616529787128854\n",
            "('Mileage', 'Liter', 'Leather') R2 Score :  0.29235217482703724\n",
            "('Mileage', 'Doors', 'Cruise') R2 Score :  0.21218103718742753\n",
            "('Mileage', 'Doors', 'Sound') R2 Score :  0.0031032826955871284\n",
            "('Mileage', 'Doors', 'Leather') R2 Score :  0.05102998048833851\n",
            "('Mileage', 'Cruise', 'Sound') R2 Score :  0.16717974972778293\n",
            "('Mileage', 'Cruise', 'Leather') R2 Score :  0.24074925539649616\n",
            "('Mileage', 'Sound', 'Leather') R2 Score :  0.00022877586777136916\n",
            "('Cylinder', 'Liter', 'Doors') R2 Score :  0.29302276586025044\n",
            "('Cylinder', 'Liter', 'Cruise') R2 Score :  0.3131103108910599\n",
            "('Cylinder', 'Liter', 'Sound') R2 Score :  0.26341490997792105\n",
            "('Cylinder', 'Liter', 'Leather') R2 Score :  0.289562761177968\n",
            "('Cylinder', 'Doors', 'Cruise') R2 Score :  0.33940468939476043\n",
            "('Cylinder', 'Doors', 'Sound') R2 Score :  0.2956865975400734\n",
            "('Cylinder', 'Doors', 'Leather') R2 Score :  0.3165730166108597\n",
            "('Cylinder', 'Cruise', 'Sound') R2 Score :  0.3101609033198699\n",
            "('Cylinder', 'Cruise', 'Leather') R2 Score :  0.3504777692465286\n",
            "('Cylinder', 'Sound', 'Leather') R2 Score :  0.2897197896687016\n",
            "('Liter', 'Doors', 'Cruise') R2 Score :  0.32225474747353766\n",
            "('Liter', 'Doors', 'Sound') R2 Score :  0.2791055839112053\n",
            "('Liter', 'Doors', 'Leather') R2 Score :  0.29917106709307484\n",
            "('Liter', 'Cruise', 'Sound') R2 Score :  0.3031162043707444\n",
            "('Liter', 'Cruise', 'Leather') R2 Score :  0.34074571887652094\n",
            "('Liter', 'Sound', 'Leather') R2 Score :  0.28620680473624827\n",
            "('Doors', 'Cruise', 'Sound') R2 Score :  0.19810406515782242\n",
            "('Doors', 'Cruise', 'Leather') R2 Score :  0.24889344716366701\n",
            "('Doors', 'Sound', 'Leather') R2 Score :  0.0378611395752787\n",
            "('Cruise', 'Sound', 'Leather') R2 Score :  0.20916156315102585\n"
          ]
        }
      ]
    },
    {
      "cell_type": "markdown",
      "source": [
        "Of all the above combinations of 3 features, we infer that the combination of Cyliner, Cruise and Leather has the highest R2 score of 0.3504"
      ],
      "metadata": {
        "id": "1F_GU3d3glcz"
      }
    },
    {
      "cell_type": "code",
      "source": [
        "for i in list(combinations(['Mileage', 'Cylinder', 'Liter', 'Doors', 'Cruise', 'Sound', 'Leather'],4)):\n",
        "  # feature and target\n",
        "  X = df[list(i)].values\n",
        "  y = df['Price'].values\n",
        "  # split\n",
        "  X_train, X_test, y_train, y_test = train_test_split(X, y, test_size=0.3, random_state = 52)\n",
        "  # scale\n",
        "  scaler = StandardScaler()\n",
        "  scaler.fit(X_train)\n",
        "  X_train_scaled = scaler.transform(X_train)\n",
        "  X_test_scaled = scaler.transform(X_test)\n",
        "  # model\n",
        "  regressor = LinearRegression() \n",
        "  regressor.fit(X_train_scaled, y_train)\n",
        "  # print('Co-efficient :', regressor.coef_ , 'Intercept :', regressor.intercept_)\n",
        "  # Predict\n",
        "  y_pred = regressor.predict(X_test_scaled)\n",
        "  # Evaluation\n",
        "  print(i, 'R2 Score : ', regressor.score(X_test_scaled,y_test))"
      ],
      "metadata": {
        "colab": {
          "base_uri": "https://localhost:8080/"
        },
        "id": "21T--x7ofceM",
        "outputId": "8316e3a1-3e12-4e10-b520-00d1ef52790b"
      },
      "execution_count": 76,
      "outputs": [
        {
          "output_type": "stream",
          "name": "stdout",
          "text": [
            "('Mileage', 'Cylinder', 'Liter', 'Doors') R2 Score :  0.3018431407832973\n",
            "('Mileage', 'Cylinder', 'Liter', 'Cruise') R2 Score :  0.32407946993613157\n",
            "('Mileage', 'Cylinder', 'Liter', 'Sound') R2 Score :  0.2691593478880949\n",
            "('Mileage', 'Cylinder', 'Liter', 'Leather') R2 Score :  0.300124344277907\n",
            "('Mileage', 'Cylinder', 'Doors', 'Cruise') R2 Score :  0.34948907402052287\n",
            "('Mileage', 'Cylinder', 'Doors', 'Sound') R2 Score :  0.30111004542333053\n",
            "('Mileage', 'Cylinder', 'Doors', 'Leather') R2 Score :  0.32623731794292166\n",
            "('Mileage', 'Cylinder', 'Cruise', 'Sound') R2 Score :  0.31754836064512215\n",
            "('Mileage', 'Cylinder', 'Cruise', 'Leather') R2 Score :  0.3641910165823684\n",
            "('Mileage', 'Cylinder', 'Sound', 'Leather') R2 Score :  0.29772248271244073\n",
            "('Mileage', 'Liter', 'Doors', 'Cruise') R2 Score :  0.3312019651230599\n",
            "('Mileage', 'Liter', 'Doors', 'Sound') R2 Score :  0.28269560977120967\n",
            "('Mileage', 'Liter', 'Doors', 'Leather') R2 Score :  0.30820598049557646\n",
            "('Mileage', 'Liter', 'Cruise', 'Sound') R2 Score :  0.30819117736677826\n",
            "('Mileage', 'Liter', 'Cruise', 'Leather') R2 Score :  0.3532194583592523\n",
            "('Mileage', 'Liter', 'Sound', 'Leather') R2 Score :  0.292488474089039\n",
            "('Mileage', 'Doors', 'Cruise', 'Sound') R2 Score :  0.19419998957733198\n",
            "('Mileage', 'Doors', 'Cruise', 'Leather') R2 Score :  0.2602201755457636\n",
            "('Mileage', 'Doors', 'Sound', 'Leather') R2 Score :  0.038105789097961806\n",
            "('Mileage', 'Cruise', 'Sound', 'Leather') R2 Score :  0.21627605298079755\n",
            "('Cylinder', 'Liter', 'Doors', 'Cruise') R2 Score :  0.3392677277970113\n",
            "('Cylinder', 'Liter', 'Doors', 'Sound') R2 Score :  0.2959314367462259\n",
            "('Cylinder', 'Liter', 'Doors', 'Leather') R2 Score :  0.31648983157447497\n",
            "('Cylinder', 'Liter', 'Cruise', 'Sound') R2 Score :  0.3107159128559632\n",
            "('Cylinder', 'Liter', 'Cruise', 'Leather') R2 Score :  0.3503847374207937\n",
            "('Cylinder', 'Liter', 'Sound', 'Leather') R2 Score :  0.2935158492818395\n",
            "('Cylinder', 'Doors', 'Cruise', 'Sound') R2 Score :  0.3393410526963092\n",
            "('Cylinder', 'Doors', 'Cruise', 'Leather') R2 Score :  0.3731107741431485\n",
            "('Cylinder', 'Doors', 'Sound', 'Leather') R2 Score :  0.32391717469298964\n",
            "('Cylinder', 'Cruise', 'Sound', 'Leather') R2 Score :  0.3499083984436001\n",
            "('Liter', 'Doors', 'Cruise', 'Sound') R2 Score :  0.32094448764764316\n",
            "('Liter', 'Doors', 'Cruise', 'Leather') R2 Score :  0.3538648744535011\n",
            "('Liter', 'Doors', 'Sound', 'Leather') R2 Score :  0.3050819179140266\n",
            "('Liter', 'Cruise', 'Sound', 'Leather') R2 Score :  0.3391859527417893\n",
            "('Doors', 'Cruise', 'Sound', 'Leather') R2 Score :  0.23377067321560463\n"
          ]
        }
      ]
    },
    {
      "cell_type": "markdown",
      "source": [
        "Of all the above combinations of 4 features, we infer that the combination of Liter, Doors, Cruise, Leather has the highest R2 score of 0.35386"
      ],
      "metadata": {
        "id": "qpQ4ZxBzh9cj"
      }
    },
    {
      "cell_type": "code",
      "source": [
        "for i in list(combinations(['Mileage', 'Cylinder', 'Liter', 'Doors', 'Cruise', 'Sound', 'Leather'],5)):\n",
        "  # feature and target\n",
        "  X = df[list(i)].values\n",
        "  y = df['Price'].values\n",
        "  # split\n",
        "  X_train, X_test, y_train, y_test = train_test_split(X, y, test_size=0.3, random_state = 52)\n",
        "  # scale\n",
        "  scaler = StandardScaler()\n",
        "  scaler.fit(X_train)\n",
        "  X_train_scaled = scaler.transform(X_train)\n",
        "  X_test_scaled = scaler.transform(X_test)\n",
        "  # model\n",
        "  regressor = LinearRegression() \n",
        "  regressor.fit(X_train_scaled, y_train)\n",
        "  # print('Co-efficient :', regressor.coef_ , 'Intercept :', regressor.intercept_)\n",
        "  # Predict\n",
        "  y_pred = regressor.predict(X_test_scaled)\n",
        "  # Evaluation\n",
        "  print(i, 'R2 - SCORE : ', regressor.score(X_test_scaled,y_test))"
      ],
      "metadata": {
        "colab": {
          "base_uri": "https://localhost:8080/"
        },
        "id": "EV97bR_jh2AS",
        "outputId": "ca7bf46f-4fd0-4f5e-df62-91d6358f40c4"
      },
      "execution_count": 77,
      "outputs": [
        {
          "output_type": "stream",
          "name": "stdout",
          "text": [
            "('Mileage', 'Cylinder', 'Liter', 'Doors', 'Cruise') R2 - SCORE :  0.3495981245399231\n",
            "('Mileage', 'Cylinder', 'Liter', 'Doors', 'Sound') R2 - SCORE :  0.30148691824764495\n",
            "('Mileage', 'Cylinder', 'Liter', 'Doors', 'Leather') R2 - SCORE :  0.32634223024107534\n",
            "('Mileage', 'Cylinder', 'Liter', 'Cruise', 'Sound') R2 - SCORE :  0.3182351365356988\n",
            "('Mileage', 'Cylinder', 'Liter', 'Cruise', 'Leather') R2 - SCORE :  0.3642667910566617\n",
            "('Mileage', 'Cylinder', 'Liter', 'Sound', 'Leather') R2 - SCORE :  0.30158340006733886\n",
            "('Mileage', 'Cylinder', 'Doors', 'Cruise', 'Sound') R2 - SCORE :  0.34628031372799994\n",
            "('Mileage', 'Cylinder', 'Doors', 'Cruise', 'Leather') R2 - SCORE :  0.3860178262863857\n",
            "('Mileage', 'Cylinder', 'Doors', 'Sound', 'Leather') R2 - SCORE :  0.33156125682771953\n",
            "('Mileage', 'Cylinder', 'Cruise', 'Sound', 'Leather') R2 - SCORE :  0.36109441886023064\n",
            "('Mileage', 'Liter', 'Doors', 'Cruise', 'Sound') R2 - SCORE :  0.32600670231732154\n",
            "('Mileage', 'Liter', 'Doors', 'Cruise', 'Leather') R2 - SCORE :  0.36615964300069204\n",
            "('Mileage', 'Liter', 'Doors', 'Sound', 'Leather') R2 - SCORE :  0.3115469574564238\n",
            "('Mileage', 'Liter', 'Cruise', 'Sound', 'Leather') R2 - SCORE :  0.34869426796530667\n",
            "('Mileage', 'Doors', 'Cruise', 'Sound', 'Leather') R2 - SCORE :  0.24040016659611285\n",
            "('Cylinder', 'Liter', 'Doors', 'Cruise', 'Sound') R2 - SCORE :  0.3394241839309454\n",
            "('Cylinder', 'Liter', 'Doors', 'Cruise', 'Leather') R2 - SCORE :  0.3738034665508726\n",
            "('Cylinder', 'Liter', 'Doors', 'Sound', 'Leather') R2 - SCORE :  0.32404388852045374\n",
            "('Cylinder', 'Liter', 'Cruise', 'Sound', 'Leather') R2 - SCORE :  0.3500368840963588\n",
            "('Cylinder', 'Doors', 'Cruise', 'Sound', 'Leather') R2 - SCORE :  0.37594665712818054\n",
            "('Liter', 'Doors', 'Cruise', 'Sound', 'Leather') R2 - SCORE :  0.3548831043470727\n"
          ]
        }
      ]
    },
    {
      "cell_type": "markdown",
      "source": [
        "Of all the above combinations of 5 features, we infer that the combination of Mileage, Cylinder, Doors, Cruise, Leather has the highest R2 score of 0.3860"
      ],
      "metadata": {
        "id": "ZSTCQTTgiq_B"
      }
    },
    {
      "cell_type": "code",
      "source": [
        "for i in list(combinations(['Mileage', 'Cylinder', 'Liter', 'Doors', 'Cruise', 'Sound', 'Leather'],6)):\n",
        "  # feature and target\n",
        "  X = df[list(i)].values\n",
        "  y = df['Price'].values\n",
        "  # split\n",
        "  X_train, X_test, y_train, y_test = train_test_split(X, y, test_size=0.3, random_state = 52)\n",
        "  # scale\n",
        "  scaler = StandardScaler()\n",
        "  scaler.fit(X_train)\n",
        "  X_train_scaled = scaler.transform(X_train)\n",
        "  X_test_scaled = scaler.transform(X_test)\n",
        "  # model\n",
        "  regressor = LinearRegression() \n",
        "  regressor.fit(X_train_scaled, y_train)\n",
        "  # print('Co-efficient :', regressor.coef_ , 'Intercept :', regressor.intercept_)\n",
        "  # Predict\n",
        "  y_pred = regressor.predict(X_test_scaled)\n",
        "  # Evaluation\n",
        "  print(i, 'R2 - SCORE : ', regressor.score(X_test_scaled,y_test))"
      ],
      "metadata": {
        "colab": {
          "base_uri": "https://localhost:8080/"
        },
        "id": "ZqeBsNovilD_",
        "outputId": "4e5feb86-691a-48b0-eb53-893629ab7184"
      },
      "execution_count": 78,
      "outputs": [
        {
          "output_type": "stream",
          "name": "stdout",
          "text": [
            "('Mileage', 'Cylinder', 'Liter', 'Doors', 'Cruise', 'Sound') R2 - SCORE :  0.34659377296216276\n",
            "('Mileage', 'Cylinder', 'Liter', 'Doors', 'Cruise', 'Leather') R2 - SCORE :  0.38684402479288527\n",
            "('Mileage', 'Cylinder', 'Liter', 'Doors', 'Sound', 'Leather') R2 - SCORE :  0.3317205681189134\n",
            "('Mileage', 'Cylinder', 'Liter', 'Cruise', 'Sound', 'Leather') R2 - SCORE :  0.36123589563726377\n",
            "('Mileage', 'Cylinder', 'Doors', 'Cruise', 'Sound', 'Leather') R2 - SCORE :  0.38656713509519935\n",
            "('Mileage', 'Liter', 'Doors', 'Cruise', 'Sound', 'Leather') R2 - SCORE :  0.3643915971826487\n",
            "('Cylinder', 'Liter', 'Doors', 'Cruise', 'Sound', 'Leather') R2 - SCORE :  0.3767724271166658\n"
          ]
        }
      ]
    },
    {
      "cell_type": "markdown",
      "source": [
        "Of all the above combinations of 6 features, we infer that the combination of Mileage, Cylinder, Liter, Doors, Cruise, Leather has the highest R2 score of 0.3868"
      ],
      "metadata": {
        "id": "0ppjzPjvjauR"
      }
    },
    {
      "cell_type": "markdown",
      "source": [
        "**From all the above set of combinations, we can conclude that as the number of features increases, the R2 score also increases**"
      ],
      "metadata": {
        "id": "v4fKt3N8qySK"
      }
    },
    {
      "cell_type": "markdown",
      "source": [
        "### **TASK** **3**"
      ],
      "metadata": {
        "id": "P-J65zFVqyLc"
      }
    },
    {
      "cell_type": "markdown",
      "source": [
        "**1. Research dummy variables in scikit-learn to see how to use the make, model, and body type.**\n"
      ],
      "metadata": {
        "id": "-ee-W-NesYie"
      }
    },
    {
      "cell_type": "code",
      "source": [
        "df.head()"
      ],
      "metadata": {
        "colab": {
          "base_uri": "https://localhost:8080/",
          "height": 357
        },
        "id": "f2vTO0BTseX0",
        "outputId": "88a5894c-0dae-4348-b2e0-c723f1b351f0"
      },
      "execution_count": 79,
      "outputs": [
        {
          "output_type": "execute_result",
          "data": {
            "text/plain": [
              "          Price  Mileage   Make    Model      Trim   Type  Cylinder  Liter  \\\n",
              "0  17314.103129   8221.0  Buick  Century  Sedan 4D  Sedan         6    3.1   \n",
              "1  17542.036083   9135.0  Buick  Century  Sedan 4D  Sedan         6    3.1   \n",
              "2  16218.847862  13196.0  Buick  Century  Sedan 4D  Sedan         6    3.1   \n",
              "3  16336.913140  16342.0  Buick  Century  Sedan 4D  Sedan         6    3.1   \n",
              "4  16339.170324  19832.0  Buick  Century  Sedan 4D  Sedan         6    3.1   \n",
              "\n",
              "   Doors  Cruise  Sound  Leather  \n",
              "0      4       1      1        1  \n",
              "1      4       1      1        0  \n",
              "2      4       1      1        0  \n",
              "3      4       1      0        0  \n",
              "4      4       1      0        1  "
            ],
            "text/html": [
              "\n",
              "  <div id=\"df-9f376bb9-7318-4962-8801-1733658f6c2c\">\n",
              "    <div class=\"colab-df-container\">\n",
              "      <div>\n",
              "<style scoped>\n",
              "    .dataframe tbody tr th:only-of-type {\n",
              "        vertical-align: middle;\n",
              "    }\n",
              "\n",
              "    .dataframe tbody tr th {\n",
              "        vertical-align: top;\n",
              "    }\n",
              "\n",
              "    .dataframe thead th {\n",
              "        text-align: right;\n",
              "    }\n",
              "</style>\n",
              "<table border=\"1\" class=\"dataframe\">\n",
              "  <thead>\n",
              "    <tr style=\"text-align: right;\">\n",
              "      <th></th>\n",
              "      <th>Price</th>\n",
              "      <th>Mileage</th>\n",
              "      <th>Make</th>\n",
              "      <th>Model</th>\n",
              "      <th>Trim</th>\n",
              "      <th>Type</th>\n",
              "      <th>Cylinder</th>\n",
              "      <th>Liter</th>\n",
              "      <th>Doors</th>\n",
              "      <th>Cruise</th>\n",
              "      <th>Sound</th>\n",
              "      <th>Leather</th>\n",
              "    </tr>\n",
              "  </thead>\n",
              "  <tbody>\n",
              "    <tr>\n",
              "      <th>0</th>\n",
              "      <td>17314.103129</td>\n",
              "      <td>8221.0</td>\n",
              "      <td>Buick</td>\n",
              "      <td>Century</td>\n",
              "      <td>Sedan 4D</td>\n",
              "      <td>Sedan</td>\n",
              "      <td>6</td>\n",
              "      <td>3.1</td>\n",
              "      <td>4</td>\n",
              "      <td>1</td>\n",
              "      <td>1</td>\n",
              "      <td>1</td>\n",
              "    </tr>\n",
              "    <tr>\n",
              "      <th>1</th>\n",
              "      <td>17542.036083</td>\n",
              "      <td>9135.0</td>\n",
              "      <td>Buick</td>\n",
              "      <td>Century</td>\n",
              "      <td>Sedan 4D</td>\n",
              "      <td>Sedan</td>\n",
              "      <td>6</td>\n",
              "      <td>3.1</td>\n",
              "      <td>4</td>\n",
              "      <td>1</td>\n",
              "      <td>1</td>\n",
              "      <td>0</td>\n",
              "    </tr>\n",
              "    <tr>\n",
              "      <th>2</th>\n",
              "      <td>16218.847862</td>\n",
              "      <td>13196.0</td>\n",
              "      <td>Buick</td>\n",
              "      <td>Century</td>\n",
              "      <td>Sedan 4D</td>\n",
              "      <td>Sedan</td>\n",
              "      <td>6</td>\n",
              "      <td>3.1</td>\n",
              "      <td>4</td>\n",
              "      <td>1</td>\n",
              "      <td>1</td>\n",
              "      <td>0</td>\n",
              "    </tr>\n",
              "    <tr>\n",
              "      <th>3</th>\n",
              "      <td>16336.913140</td>\n",
              "      <td>16342.0</td>\n",
              "      <td>Buick</td>\n",
              "      <td>Century</td>\n",
              "      <td>Sedan 4D</td>\n",
              "      <td>Sedan</td>\n",
              "      <td>6</td>\n",
              "      <td>3.1</td>\n",
              "      <td>4</td>\n",
              "      <td>1</td>\n",
              "      <td>0</td>\n",
              "      <td>0</td>\n",
              "    </tr>\n",
              "    <tr>\n",
              "      <th>4</th>\n",
              "      <td>16339.170324</td>\n",
              "      <td>19832.0</td>\n",
              "      <td>Buick</td>\n",
              "      <td>Century</td>\n",
              "      <td>Sedan 4D</td>\n",
              "      <td>Sedan</td>\n",
              "      <td>6</td>\n",
              "      <td>3.1</td>\n",
              "      <td>4</td>\n",
              "      <td>1</td>\n",
              "      <td>0</td>\n",
              "      <td>1</td>\n",
              "    </tr>\n",
              "  </tbody>\n",
              "</table>\n",
              "</div>\n",
              "      <button class=\"colab-df-convert\" onclick=\"convertToInteractive('df-9f376bb9-7318-4962-8801-1733658f6c2c')\"\n",
              "              title=\"Convert this dataframe to an interactive table.\"\n",
              "              style=\"display:none;\">\n",
              "        \n",
              "  <svg xmlns=\"http://www.w3.org/2000/svg\" height=\"24px\"viewBox=\"0 0 24 24\"\n",
              "       width=\"24px\">\n",
              "    <path d=\"M0 0h24v24H0V0z\" fill=\"none\"/>\n",
              "    <path d=\"M18.56 5.44l.94 2.06.94-2.06 2.06-.94-2.06-.94-.94-2.06-.94 2.06-2.06.94zm-11 1L8.5 8.5l.94-2.06 2.06-.94-2.06-.94L8.5 2.5l-.94 2.06-2.06.94zm10 10l.94 2.06.94-2.06 2.06-.94-2.06-.94-.94-2.06-.94 2.06-2.06.94z\"/><path d=\"M17.41 7.96l-1.37-1.37c-.4-.4-.92-.59-1.43-.59-.52 0-1.04.2-1.43.59L10.3 9.45l-7.72 7.72c-.78.78-.78 2.05 0 2.83L4 21.41c.39.39.9.59 1.41.59.51 0 1.02-.2 1.41-.59l7.78-7.78 2.81-2.81c.8-.78.8-2.07 0-2.86zM5.41 20L4 18.59l7.72-7.72 1.47 1.35L5.41 20z\"/>\n",
              "  </svg>\n",
              "      </button>\n",
              "      \n",
              "  <style>\n",
              "    .colab-df-container {\n",
              "      display:flex;\n",
              "      flex-wrap:wrap;\n",
              "      gap: 12px;\n",
              "    }\n",
              "\n",
              "    .colab-df-convert {\n",
              "      background-color: #E8F0FE;\n",
              "      border: none;\n",
              "      border-radius: 50%;\n",
              "      cursor: pointer;\n",
              "      display: none;\n",
              "      fill: #1967D2;\n",
              "      height: 32px;\n",
              "      padding: 0 0 0 0;\n",
              "      width: 32px;\n",
              "    }\n",
              "\n",
              "    .colab-df-convert:hover {\n",
              "      background-color: #E2EBFA;\n",
              "      box-shadow: 0px 1px 2px rgba(60, 64, 67, 0.3), 0px 1px 3px 1px rgba(60, 64, 67, 0.15);\n",
              "      fill: #174EA6;\n",
              "    }\n",
              "\n",
              "    [theme=dark] .colab-df-convert {\n",
              "      background-color: #3B4455;\n",
              "      fill: #D2E3FC;\n",
              "    }\n",
              "\n",
              "    [theme=dark] .colab-df-convert:hover {\n",
              "      background-color: #434B5C;\n",
              "      box-shadow: 0px 1px 3px 1px rgba(0, 0, 0, 0.15);\n",
              "      filter: drop-shadow(0px 1px 2px rgba(0, 0, 0, 0.3));\n",
              "      fill: #FFFFFF;\n",
              "    }\n",
              "  </style>\n",
              "\n",
              "      <script>\n",
              "        const buttonEl =\n",
              "          document.querySelector('#df-9f376bb9-7318-4962-8801-1733658f6c2c button.colab-df-convert');\n",
              "        buttonEl.style.display =\n",
              "          google.colab.kernel.accessAllowed ? 'block' : 'none';\n",
              "\n",
              "        async function convertToInteractive(key) {\n",
              "          const element = document.querySelector('#df-9f376bb9-7318-4962-8801-1733658f6c2c');\n",
              "          const dataTable =\n",
              "            await google.colab.kernel.invokeFunction('convertToInteractive',\n",
              "                                                     [key], {});\n",
              "          if (!dataTable) return;\n",
              "\n",
              "          const docLinkHtml = 'Like what you see? Visit the ' +\n",
              "            '<a target=\"_blank\" href=https://colab.research.google.com/notebooks/data_table.ipynb>data table notebook</a>'\n",
              "            + ' to learn more about interactive tables.';\n",
              "          element.innerHTML = '';\n",
              "          dataTable['output_type'] = 'display_data';\n",
              "          await google.colab.output.renderOutput(dataTable, element);\n",
              "          const docLink = document.createElement('div');\n",
              "          docLink.innerHTML = docLinkHtml;\n",
              "          element.appendChild(docLink);\n",
              "        }\n",
              "      </script>\n",
              "    </div>\n",
              "  </div>\n",
              "  "
            ]
          },
          "metadata": {},
          "execution_count": 79
        }
      ]
    },
    {
      "cell_type": "markdown",
      "source": [
        "The features: Make, Model, Trim, Type are categorical in nature, so we are going to perform One hot encoding and find the R2 scores."
      ],
      "metadata": {
        "id": "tLByrRlRt4XO"
      }
    },
    {
      "cell_type": "code",
      "source": [
        "df['Make'].value_counts()"
      ],
      "metadata": {
        "colab": {
          "base_uri": "https://localhost:8080/"
        },
        "id": "Y2tNfKxEs7z3",
        "outputId": "bd4e65e7-a94b-4993-d35d-6c08d1f69385"
      },
      "execution_count": 80,
      "outputs": [
        {
          "output_type": "execute_result",
          "data": {
            "text/plain": [
              "Chevrolet    320\n",
              "Pontiac      150\n",
              "SAAB         114\n",
              "Buick         80\n",
              "Cadillac      80\n",
              "Saturn        60\n",
              "Name: Make, dtype: int64"
            ]
          },
          "metadata": {},
          "execution_count": 80
        }
      ]
    },
    {
      "cell_type": "code",
      "source": [
        "df['Model'].value_counts()"
      ],
      "metadata": {
        "colab": {
          "base_uri": "https://localhost:8080/"
        },
        "id": "BKXGehBEs7wA",
        "outputId": "79ddfd09-25d6-4372-f104-1a73b1e02de6"
      },
      "execution_count": 81,
      "outputs": [
        {
          "output_type": "execute_result",
          "data": {
            "text/plain": [
              "Malibu         60\n",
              "AVEO           60\n",
              "Cavalier       60\n",
              "Ion            50\n",
              "Cobalt         50\n",
              "9_3 HO         40\n",
              "Vibe           30\n",
              "Bonneville     30\n",
              "Monte Carlo    30\n",
              "Lacrosse       30\n",
              "Impala         30\n",
              "Grand Prix     30\n",
              "9_5            30\n",
              "Deville        30\n",
              "Lesabre        20\n",
              "Corvette       20\n",
              "9_3            20\n",
              "9_5 HO         20\n",
              "G6             20\n",
              "Grand Am       20\n",
              "Park Avenue    20\n",
              "Sunfire        10\n",
              "Century        10\n",
              "GTO            10\n",
              "Classic        10\n",
              "XLR-V8         10\n",
              "STS-V8         10\n",
              "STS-V6         10\n",
              "CTS            10\n",
              "CST-V          10\n",
              "L Series       10\n",
              "9-2X AWD        4\n",
              "Name: Model, dtype: int64"
            ]
          },
          "metadata": {},
          "execution_count": 81
        }
      ]
    },
    {
      "cell_type": "code",
      "source": [
        "df['Trim'].value_counts()"
      ],
      "metadata": {
        "colab": {
          "base_uri": "https://localhost:8080/"
        },
        "id": "DlcGa1_is7tc",
        "outputId": "d057f883-3782-4800-d8c3-41607952fab6"
      },
      "execution_count": 82,
      "outputs": [
        {
          "output_type": "execute_result",
          "data": {
            "text/plain": [
              "Sedan 4D               170\n",
              "Coupe 2D                50\n",
              "LS Sedan 4D             50\n",
              "LT Sedan 4D             30\n",
              "LS Coupe 2D             30\n",
              "Quad Coupe 2D           20\n",
              "SE Sedan 4D             20\n",
              "Arc Sedan 4D            20\n",
              "GT Sedan 4D             20\n",
              "Aero Sedan 4D           20\n",
              "Linear Wagon 4D         14\n",
              "SLE Sedan 4D            10\n",
              "GT Coupe 2D             10\n",
              "GTP Sedan 4D            10\n",
              "AWD Sportwagon 4D       10\n",
              "Linear Conv 2D          10\n",
              "GT Sportwagon           10\n",
              "Sportwagon 4D           10\n",
              "SS Coupe 2D             10\n",
              "Linear Sedan 4D         10\n",
              "Aero Conv 2D            10\n",
              "Arc Conv 2D             10\n",
              "Arc Wagon 4D            10\n",
              "Aero Wagon 4D           10\n",
              "GXP Sedan 4D            10\n",
              "LT MAXX Hback 4D        10\n",
              "LT Coupe 2D             10\n",
              "LS Hatchback 4D         10\n",
              "CXL Sedan 4D            10\n",
              "CXS Sedan 4D            10\n",
              "Custom Sedan 4D         10\n",
              "Limited Sedan 4D        10\n",
              "Special Ed Ultra 4D     10\n",
              "DHS Sedan 4D            10\n",
              "DTS Sedan 4D            10\n",
              "Hardtop Conv 2D         10\n",
              "LT Hatchback 4D         10\n",
              "MAXX Hback 4D           10\n",
              "SVM Hatchback 4D        10\n",
              "SVM Sedan 4D            10\n",
              "LS Sport Coupe 2D       10\n",
              "LS Sport Sedan 4D       10\n",
              "Conv 2D                 10\n",
              "SS Sedan 4D             10\n",
              "LS MAXX Hback 4D        10\n",
              "CX Sedan 4D             10\n",
              "L300 Sedan 4D           10\n",
              "Name: Trim, dtype: int64"
            ]
          },
          "metadata": {},
          "execution_count": 82
        }
      ]
    },
    {
      "cell_type": "code",
      "source": [
        "df['Type'].value_counts()"
      ],
      "metadata": {
        "colab": {
          "base_uri": "https://localhost:8080/"
        },
        "id": "q3l3PHc4s7rl",
        "outputId": "7b3e3fec-a70b-4e4d-d804-11f44b6e7d28"
      },
      "execution_count": 83,
      "outputs": [
        {
          "output_type": "execute_result",
          "data": {
            "text/plain": [
              "Sedan          490\n",
              "Coupe          140\n",
              "Wagon           64\n",
              "Hatchback       60\n",
              "Convertible     50\n",
              "Name: Type, dtype: int64"
            ]
          },
          "metadata": {},
          "execution_count": 83
        }
      ]
    },
    {
      "cell_type": "code",
      "source": [
        "# Now we are going to One hot encode by using: get dummies and find the combinations of features."
      ],
      "metadata": {
        "id": "0i8KX3UWs7ps"
      },
      "execution_count": 84,
      "outputs": []
    },
    {
      "cell_type": "markdown",
      "source": [
        "MAKE"
      ],
      "metadata": {
        "id": "Rr_C_wyT-JjL"
      }
    },
    {
      "cell_type": "code",
      "source": [
        "df1 = pd.get_dummies(df['Make'])"
      ],
      "metadata": {
        "id": "_btMTLSys7oJ"
      },
      "execution_count": 85,
      "outputs": []
    },
    {
      "cell_type": "code",
      "source": [
        "df1.head()"
      ],
      "metadata": {
        "colab": {
          "base_uri": "https://localhost:8080/",
          "height": 206
        },
        "id": "UC8DeFwos7mU",
        "outputId": "263d07d1-f699-4404-a6ea-99739217b931"
      },
      "execution_count": 86,
      "outputs": [
        {
          "output_type": "execute_result",
          "data": {
            "text/plain": [
              "   Buick  Cadillac  Chevrolet  Pontiac  SAAB  Saturn\n",
              "0      1         0          0        0     0       0\n",
              "1      1         0          0        0     0       0\n",
              "2      1         0          0        0     0       0\n",
              "3      1         0          0        0     0       0\n",
              "4      1         0          0        0     0       0"
            ],
            "text/html": [
              "\n",
              "  <div id=\"df-2b6eb928-694d-4772-b538-7910a780e2d0\">\n",
              "    <div class=\"colab-df-container\">\n",
              "      <div>\n",
              "<style scoped>\n",
              "    .dataframe tbody tr th:only-of-type {\n",
              "        vertical-align: middle;\n",
              "    }\n",
              "\n",
              "    .dataframe tbody tr th {\n",
              "        vertical-align: top;\n",
              "    }\n",
              "\n",
              "    .dataframe thead th {\n",
              "        text-align: right;\n",
              "    }\n",
              "</style>\n",
              "<table border=\"1\" class=\"dataframe\">\n",
              "  <thead>\n",
              "    <tr style=\"text-align: right;\">\n",
              "      <th></th>\n",
              "      <th>Buick</th>\n",
              "      <th>Cadillac</th>\n",
              "      <th>Chevrolet</th>\n",
              "      <th>Pontiac</th>\n",
              "      <th>SAAB</th>\n",
              "      <th>Saturn</th>\n",
              "    </tr>\n",
              "  </thead>\n",
              "  <tbody>\n",
              "    <tr>\n",
              "      <th>0</th>\n",
              "      <td>1</td>\n",
              "      <td>0</td>\n",
              "      <td>0</td>\n",
              "      <td>0</td>\n",
              "      <td>0</td>\n",
              "      <td>0</td>\n",
              "    </tr>\n",
              "    <tr>\n",
              "      <th>1</th>\n",
              "      <td>1</td>\n",
              "      <td>0</td>\n",
              "      <td>0</td>\n",
              "      <td>0</td>\n",
              "      <td>0</td>\n",
              "      <td>0</td>\n",
              "    </tr>\n",
              "    <tr>\n",
              "      <th>2</th>\n",
              "      <td>1</td>\n",
              "      <td>0</td>\n",
              "      <td>0</td>\n",
              "      <td>0</td>\n",
              "      <td>0</td>\n",
              "      <td>0</td>\n",
              "    </tr>\n",
              "    <tr>\n",
              "      <th>3</th>\n",
              "      <td>1</td>\n",
              "      <td>0</td>\n",
              "      <td>0</td>\n",
              "      <td>0</td>\n",
              "      <td>0</td>\n",
              "      <td>0</td>\n",
              "    </tr>\n",
              "    <tr>\n",
              "      <th>4</th>\n",
              "      <td>1</td>\n",
              "      <td>0</td>\n",
              "      <td>0</td>\n",
              "      <td>0</td>\n",
              "      <td>0</td>\n",
              "      <td>0</td>\n",
              "    </tr>\n",
              "  </tbody>\n",
              "</table>\n",
              "</div>\n",
              "      <button class=\"colab-df-convert\" onclick=\"convertToInteractive('df-2b6eb928-694d-4772-b538-7910a780e2d0')\"\n",
              "              title=\"Convert this dataframe to an interactive table.\"\n",
              "              style=\"display:none;\">\n",
              "        \n",
              "  <svg xmlns=\"http://www.w3.org/2000/svg\" height=\"24px\"viewBox=\"0 0 24 24\"\n",
              "       width=\"24px\">\n",
              "    <path d=\"M0 0h24v24H0V0z\" fill=\"none\"/>\n",
              "    <path d=\"M18.56 5.44l.94 2.06.94-2.06 2.06-.94-2.06-.94-.94-2.06-.94 2.06-2.06.94zm-11 1L8.5 8.5l.94-2.06 2.06-.94-2.06-.94L8.5 2.5l-.94 2.06-2.06.94zm10 10l.94 2.06.94-2.06 2.06-.94-2.06-.94-.94-2.06-.94 2.06-2.06.94z\"/><path d=\"M17.41 7.96l-1.37-1.37c-.4-.4-.92-.59-1.43-.59-.52 0-1.04.2-1.43.59L10.3 9.45l-7.72 7.72c-.78.78-.78 2.05 0 2.83L4 21.41c.39.39.9.59 1.41.59.51 0 1.02-.2 1.41-.59l7.78-7.78 2.81-2.81c.8-.78.8-2.07 0-2.86zM5.41 20L4 18.59l7.72-7.72 1.47 1.35L5.41 20z\"/>\n",
              "  </svg>\n",
              "      </button>\n",
              "      \n",
              "  <style>\n",
              "    .colab-df-container {\n",
              "      display:flex;\n",
              "      flex-wrap:wrap;\n",
              "      gap: 12px;\n",
              "    }\n",
              "\n",
              "    .colab-df-convert {\n",
              "      background-color: #E8F0FE;\n",
              "      border: none;\n",
              "      border-radius: 50%;\n",
              "      cursor: pointer;\n",
              "      display: none;\n",
              "      fill: #1967D2;\n",
              "      height: 32px;\n",
              "      padding: 0 0 0 0;\n",
              "      width: 32px;\n",
              "    }\n",
              "\n",
              "    .colab-df-convert:hover {\n",
              "      background-color: #E2EBFA;\n",
              "      box-shadow: 0px 1px 2px rgba(60, 64, 67, 0.3), 0px 1px 3px 1px rgba(60, 64, 67, 0.15);\n",
              "      fill: #174EA6;\n",
              "    }\n",
              "\n",
              "    [theme=dark] .colab-df-convert {\n",
              "      background-color: #3B4455;\n",
              "      fill: #D2E3FC;\n",
              "    }\n",
              "\n",
              "    [theme=dark] .colab-df-convert:hover {\n",
              "      background-color: #434B5C;\n",
              "      box-shadow: 0px 1px 3px 1px rgba(0, 0, 0, 0.15);\n",
              "      filter: drop-shadow(0px 1px 2px rgba(0, 0, 0, 0.3));\n",
              "      fill: #FFFFFF;\n",
              "    }\n",
              "  </style>\n",
              "\n",
              "      <script>\n",
              "        const buttonEl =\n",
              "          document.querySelector('#df-2b6eb928-694d-4772-b538-7910a780e2d0 button.colab-df-convert');\n",
              "        buttonEl.style.display =\n",
              "          google.colab.kernel.accessAllowed ? 'block' : 'none';\n",
              "\n",
              "        async function convertToInteractive(key) {\n",
              "          const element = document.querySelector('#df-2b6eb928-694d-4772-b538-7910a780e2d0');\n",
              "          const dataTable =\n",
              "            await google.colab.kernel.invokeFunction('convertToInteractive',\n",
              "                                                     [key], {});\n",
              "          if (!dataTable) return;\n",
              "\n",
              "          const docLinkHtml = 'Like what you see? Visit the ' +\n",
              "            '<a target=\"_blank\" href=https://colab.research.google.com/notebooks/data_table.ipynb>data table notebook</a>'\n",
              "            + ' to learn more about interactive tables.';\n",
              "          element.innerHTML = '';\n",
              "          dataTable['output_type'] = 'display_data';\n",
              "          await google.colab.output.renderOutput(dataTable, element);\n",
              "          const docLink = document.createElement('div');\n",
              "          docLink.innerHTML = docLinkHtml;\n",
              "          element.appendChild(docLink);\n",
              "        }\n",
              "      </script>\n",
              "    </div>\n",
              "  </div>\n",
              "  "
            ]
          },
          "metadata": {},
          "execution_count": 86
        }
      ]
    },
    {
      "cell_type": "code",
      "source": [
        "for i in list(combinations(['Chevrolet', 'Pontiac', 'SAAB', 'Buick', 'Cadillac', 'Saturn'],2)):\n",
        "  # feature and target\n",
        "  X = df1[list(i)].values\n",
        "  y = df['Price'].values\n",
        " \n",
        "  # splitting\n",
        "  X_train, X_test, y_train, y_test = train_test_split(X, y, test_size=0.3, random_state = 285)\n",
        "  \n",
        "  # scaling\n",
        "  scaler = StandardScaler()\n",
        "  scaler.fit(X_train)\n",
        "  X_train_scaled = scaler.transform(X_train)\n",
        "  X_test_scaled = scaler.transform(X_test)\n",
        " \n",
        "  # model\n",
        "  regressor = LinearRegression() \n",
        "  regressor.fit(X_train_scaled, y_train)\n",
        "  \n",
        "  # print('Co-efficient :', regressor.coef_ , 'Intercept :', regressor.intercept_)\n",
        "  \n",
        "  # Predict\n",
        "  y_pred = regressor.predict(X_test_scaled)\n",
        "  \n",
        "  # Evaluation\n",
        "  print(i, 'R2 score : ', regressor.score(X_test_scaled,y_test))"
      ],
      "metadata": {
        "colab": {
          "base_uri": "https://localhost:8080/"
        },
        "id": "zJk8ZGA0s7fE",
        "outputId": "e48e9aea-17ba-4be8-cac1-521cf63e1ba7"
      },
      "execution_count": 87,
      "outputs": [
        {
          "output_type": "stream",
          "name": "stdout",
          "text": [
            "('Chevrolet', 'Pontiac') R2 score :  0.3441838585500796\n",
            "('Chevrolet', 'SAAB') R2 score :  0.30503279750684575\n",
            "('Chevrolet', 'Buick') R2 score :  0.270626162644382\n",
            "('Chevrolet', 'Cadillac') R2 score :  0.531951075318669\n",
            "('Chevrolet', 'Saturn') R2 score :  0.3751111103403466\n",
            "('Pontiac', 'SAAB') R2 score :  0.12146823129567041\n",
            "('Pontiac', 'Buick') R2 score :  -0.03844828289107949\n",
            "('Pontiac', 'Cadillac') R2 score :  0.4153618368467392\n",
            "('Pontiac', 'Saturn') R2 score :  0.009037861021896743\n",
            "('SAAB', 'Buick') R2 score :  0.13957227269676464\n",
            "('SAAB', 'Cadillac') R2 score :  0.6697958116094151\n",
            "('SAAB', 'Saturn') R2 score :  0.15703544472606146\n",
            "('Buick', 'Cadillac') R2 score :  0.42858202104740806\n",
            "('Buick', 'Saturn') R2 score :  0.012115807316348759\n",
            "('Cadillac', 'Saturn') R2 score :  0.43859827639603344\n"
          ]
        }
      ]
    },
    {
      "cell_type": "code",
      "source": [
        "# A combination of Chevrolet and Cadillac has the highest R2 score of 0.5319"
      ],
      "metadata": {
        "id": "OB4w4SQXw3pc"
      },
      "execution_count": 88,
      "outputs": []
    },
    {
      "cell_type": "code",
      "source": [
        "for i in list(combinations(['Chevrolet', 'Pontiac', 'SAAB', 'Buick', 'Cadillac', 'Saturn'],3)):\n",
        "  # feature and target\n",
        "  X = df1[list(i)].values\n",
        "  y = df['Price'].values\n",
        " \n",
        "  # split\n",
        "  X_train, X_test, y_train, y_test = train_test_split(X, y, test_size=0.3, random_state = 285)\n",
        " \n",
        "  # scale\n",
        "  scaler = StandardScaler()\n",
        "  scaler.fit(X_train)\n",
        "  X_train_scaled = scaler.transform(X_train)\n",
        "  X_test_scaled = scaler.transform(X_test)\n",
        "  \n",
        "  # model\n",
        "  regressor = LinearRegression() \n",
        "  regressor.fit(X_train_scaled, y_train)\n",
        " \n",
        "  # print('Co-efficient :', regressor.coef_ , 'Intercept :', regressor.intercept_)\n",
        " \n",
        "  # Predict\n",
        "  y_pred = regressor.predict(X_test_scaled)\n",
        " \n",
        "  # Evaluation\n",
        "  print(i, 'R2 Score : ', regressor.score(X_test_scaled,y_test))"
      ],
      "metadata": {
        "colab": {
          "base_uri": "https://localhost:8080/"
        },
        "id": "hWbPD4wWs7cd",
        "outputId": "1fa060ec-755b-4324-a332-4dda7a565b57"
      },
      "execution_count": 89,
      "outputs": [
        {
          "output_type": "stream",
          "name": "stdout",
          "text": [
            "('Chevrolet', 'Pontiac', 'SAAB') R2 Score :  0.35724580062723643\n",
            "('Chevrolet', 'Pontiac', 'Buick') R2 Score :  0.3773697710860223\n",
            "('Chevrolet', 'Pontiac', 'Cadillac') R2 Score :  0.5582139942102149\n",
            "('Chevrolet', 'Pontiac', 'Saturn') R2 Score :  0.5397930414021572\n",
            "('Chevrolet', 'SAAB', 'Buick') R2 Score :  0.3100060893129901\n",
            "('Chevrolet', 'SAAB', 'Cadillac') R2 Score :  0.6834997178137052\n",
            "('Chevrolet', 'SAAB', 'Saturn') R2 Score :  0.39492551387665287\n",
            "('Chevrolet', 'Buick', 'Cadillac') R2 Score :  0.5327250548693268\n",
            "('Chevrolet', 'Buick', 'Saturn') R2 Score :  0.41013473751712703\n",
            "('Chevrolet', 'Cadillac', 'Saturn') R2 Score :  0.5931734200152428\n",
            "('Pontiac', 'SAAB', 'Buick') R2 Score :  0.11874542854046288\n",
            "('Pontiac', 'SAAB', 'Cadillac') R2 Score :  0.6777169058867842\n",
            "('Pontiac', 'SAAB', 'Saturn') R2 Score :  0.13730234185927703\n",
            "('Pontiac', 'Buick', 'Cadillac') R2 Score :  0.4210451078032754\n",
            "('Pontiac', 'Buick', 'Saturn') R2 Score :  -0.002770816153458311\n",
            "('Pontiac', 'Cadillac', 'Saturn') R2 Score :  0.42899369700179113\n",
            "('SAAB', 'Buick', 'Cadillac') R2 Score :  0.693096380429514\n",
            "('SAAB', 'Buick', 'Saturn') R2 Score :  0.1554561828624057\n",
            "('SAAB', 'Cadillac', 'Saturn') R2 Score :  0.6705893136851803\n",
            "('Buick', 'Cadillac', 'Saturn') R2 Score :  0.44211478063593457\n"
          ]
        }
      ]
    },
    {
      "cell_type": "code",
      "source": [
        "# A combination of 'SAAB', 'Buick' and 'Cadillac has the highest R2 score of 0.6930"
      ],
      "metadata": {
        "id": "wbghmWd6s7Zj"
      },
      "execution_count": 90,
      "outputs": []
    },
    {
      "cell_type": "code",
      "source": [
        "for i in list(combinations(['Chevrolet', 'Pontiac', 'SAAB', 'Buick', 'Cadillac', 'Saturn'],4)):\n",
        "  # feature and target\n",
        "  X = df1[list(i)].values\n",
        "  y = df['Price'].values\n",
        "  \n",
        "  # split\n",
        "  X_train, X_test, y_train, y_test = train_test_split(X, y, test_size=0.3, random_state = 285)\n",
        " \n",
        "  # scale\n",
        "  scaler = StandardScaler()\n",
        "  scaler.fit(X_train)\n",
        "  X_train_scaled = scaler.transform(X_train)\n",
        "  X_test_scaled = scaler.transform(X_test)\n",
        "  \n",
        "  # model\n",
        "  regressor = LinearRegression() \n",
        "  regressor.fit(X_train_scaled, y_train)\n",
        "  \n",
        "  # print('Co-efficient :', regressor.coef_ , 'Intercept :', regressor.intercept_)\n",
        "  \n",
        "  # Predict\n",
        "  y_pred = regressor.predict(X_test_scaled)\n",
        "  \n",
        "  # Evaluation\n",
        "  print(i, 'R2 Score : ', regressor.score(X_test_scaled,y_test))"
      ],
      "metadata": {
        "colab": {
          "base_uri": "https://localhost:8080/"
        },
        "id": "etdA4i8Byti4",
        "outputId": "55049b6e-3563-40b8-e941-758a25908007"
      },
      "execution_count": 91,
      "outputs": [
        {
          "output_type": "stream",
          "name": "stdout",
          "text": [
            "('Chevrolet', 'Pontiac', 'SAAB', 'Buick') R2 Score :  0.37573479259991516\n",
            "('Chevrolet', 'Pontiac', 'SAAB', 'Cadillac') R2 Score :  0.684057826776765\n",
            "('Chevrolet', 'Pontiac', 'SAAB', 'Saturn') R2 Score :  0.542805015832423\n",
            "('Chevrolet', 'Pontiac', 'Buick', 'Cadillac') R2 Score :  0.5650520828682031\n",
            "('Chevrolet', 'Pontiac', 'Buick', 'Saturn') R2 Score :  0.6324871898735955\n",
            "('Chevrolet', 'Pontiac', 'Cadillac', 'Saturn') R2 Score :  0.6606718550993116\n",
            "('Chevrolet', 'SAAB', 'Buick', 'Cadillac') R2 Score :  0.6924181649108052\n",
            "('Chevrolet', 'SAAB', 'Buick', 'Saturn') R2 Score :  0.41767716995779947\n",
            "('Chevrolet', 'SAAB', 'Cadillac', 'Saturn') R2 Score :  0.7009235089615966\n",
            "('Chevrolet', 'Buick', 'Cadillac', 'Saturn') R2 Score :  0.6001677025654417\n",
            "('Pontiac', 'SAAB', 'Buick', 'Cadillac') R2 Score :  0.7103539881028231\n",
            "('Pontiac', 'SAAB', 'Buick', 'Saturn') R2 Score :  0.1276374049497243\n",
            "('Pontiac', 'SAAB', 'Cadillac', 'Saturn') R2 Score :  0.6734867695510213\n",
            "('Pontiac', 'Buick', 'Cadillac', 'Saturn') R2 Score :  0.43055738978489644\n",
            "('SAAB', 'Buick', 'Cadillac', 'Saturn') R2 Score :  0.6913879025657383\n"
          ]
        }
      ]
    },
    {
      "cell_type": "code",
      "source": [
        "#  A combination of 'Pontiac', 'SAAB', 'Buick', 'Cadillac' has the highest R2 score of 0.7103"
      ],
      "metadata": {
        "id": "Kul3Zyviytf7"
      },
      "execution_count": 92,
      "outputs": []
    },
    {
      "cell_type": "code",
      "source": [
        "for i in list(combinations(['Chevrolet', 'Pontiac', 'SAAB', 'Buick', 'Cadillac', 'Saturn'],5)):\n",
        "  # feature and target\n",
        "  X = df1[list(i)].values\n",
        "  y = df['Price'].values\n",
        " \n",
        "  # split\n",
        "  X_train, X_test, y_train, y_test = train_test_split(X, y, test_size=0.3, random_state = 285)\n",
        "  \n",
        "  # scale\n",
        "  scaler = StandardScaler()\n",
        "  scaler.fit(X_train)\n",
        "  X_train_scaled = scaler.transform(X_train)\n",
        "  X_test_scaled = scaler.transform(X_test)\n",
        "  \n",
        "  # model\n",
        "  regressor = LinearRegression() \n",
        "  regressor.fit(X_train_scaled, y_train)\n",
        "  \n",
        "  # print('Co-efficient :', regressor.coef_ , 'Intercept :', regressor.intercept_)\n",
        "  \n",
        "  # Predict\n",
        "  y_pred = regressor.predict(X_test_scaled)\n",
        "  \n",
        "  # Evaluation\n",
        "  print(i, 'R2 Score : ', regressor.score(X_test_scaled,y_test))"
      ],
      "metadata": {
        "colab": {
          "base_uri": "https://localhost:8080/"
        },
        "id": "vm-GrhJFytd-",
        "outputId": "bbef8288-7e7a-45a5-ef36-ff6049611e62"
      },
      "execution_count": 93,
      "outputs": [
        {
          "output_type": "stream",
          "name": "stdout",
          "text": [
            "('Chevrolet', 'Pontiac', 'SAAB', 'Buick', 'Cadillac') R2 Score :  0.703469349093203\n",
            "('Chevrolet', 'Pontiac', 'SAAB', 'Buick', 'Saturn') R2 Score :  0.7034693490932026\n",
            "('Chevrolet', 'Pontiac', 'SAAB', 'Cadillac', 'Saturn') R2 Score :  0.7034693490932029\n",
            "('Chevrolet', 'Pontiac', 'Buick', 'Cadillac', 'Saturn') R2 Score :  0.7034693490932027\n",
            "('Chevrolet', 'SAAB', 'Buick', 'Cadillac', 'Saturn') R2 Score :  0.703469349093203\n",
            "('Pontiac', 'SAAB', 'Buick', 'Cadillac', 'Saturn') R2 Score :  0.703469349093203\n"
          ]
        }
      ]
    },
    {
      "cell_type": "code",
      "source": [
        "# We see that all the combinations of these 5 features give the same R2 score of 0.7034"
      ],
      "metadata": {
        "id": "OY77aeJAytbd"
      },
      "execution_count": 94,
      "outputs": []
    },
    {
      "cell_type": "markdown",
      "source": [
        "MODEL"
      ],
      "metadata": {
        "id": "lvz1AUHY4YJL"
      }
    },
    {
      "cell_type": "code",
      "source": [
        "df2 = pd.get_dummies(df['Model'])"
      ],
      "metadata": {
        "id": "VIC5MDLYytVs"
      },
      "execution_count": 95,
      "outputs": []
    },
    {
      "cell_type": "code",
      "source": [
        "df2.head()"
      ],
      "metadata": {
        "colab": {
          "base_uri": "https://localhost:8080/",
          "height": 334
        },
        "id": "PJcs5NFpytTn",
        "outputId": "de7cbf6a-c739-4ed4-a449-14faade9784a"
      },
      "execution_count": 96,
      "outputs": [
        {
          "output_type": "execute_result",
          "data": {
            "text/plain": [
              "   9-2X AWD  9_3  9_3 HO  9_5  9_5 HO  AVEO  Bonneville  CST-V  CTS  Cavalier  \\\n",
              "0         0    0       0    0       0     0           0      0    0         0   \n",
              "1         0    0       0    0       0     0           0      0    0         0   \n",
              "2         0    0       0    0       0     0           0      0    0         0   \n",
              "3         0    0       0    0       0     0           0      0    0         0   \n",
              "4         0    0       0    0       0     0           0      0    0         0   \n",
              "\n",
              "   ...  Lacrosse  Lesabre  Malibu  Monte Carlo  Park Avenue  STS-V6  STS-V8  \\\n",
              "0  ...         0        0       0            0            0       0       0   \n",
              "1  ...         0        0       0            0            0       0       0   \n",
              "2  ...         0        0       0            0            0       0       0   \n",
              "3  ...         0        0       0            0            0       0       0   \n",
              "4  ...         0        0       0            0            0       0       0   \n",
              "\n",
              "   Sunfire  Vibe  XLR-V8  \n",
              "0        0     0       0  \n",
              "1        0     0       0  \n",
              "2        0     0       0  \n",
              "3        0     0       0  \n",
              "4        0     0       0  \n",
              "\n",
              "[5 rows x 32 columns]"
            ],
            "text/html": [
              "\n",
              "  <div id=\"df-291e329f-28fb-4bfb-9bb8-0c5e949b362d\">\n",
              "    <div class=\"colab-df-container\">\n",
              "      <div>\n",
              "<style scoped>\n",
              "    .dataframe tbody tr th:only-of-type {\n",
              "        vertical-align: middle;\n",
              "    }\n",
              "\n",
              "    .dataframe tbody tr th {\n",
              "        vertical-align: top;\n",
              "    }\n",
              "\n",
              "    .dataframe thead th {\n",
              "        text-align: right;\n",
              "    }\n",
              "</style>\n",
              "<table border=\"1\" class=\"dataframe\">\n",
              "  <thead>\n",
              "    <tr style=\"text-align: right;\">\n",
              "      <th></th>\n",
              "      <th>9-2X AWD</th>\n",
              "      <th>9_3</th>\n",
              "      <th>9_3 HO</th>\n",
              "      <th>9_5</th>\n",
              "      <th>9_5 HO</th>\n",
              "      <th>AVEO</th>\n",
              "      <th>Bonneville</th>\n",
              "      <th>CST-V</th>\n",
              "      <th>CTS</th>\n",
              "      <th>Cavalier</th>\n",
              "      <th>...</th>\n",
              "      <th>Lacrosse</th>\n",
              "      <th>Lesabre</th>\n",
              "      <th>Malibu</th>\n",
              "      <th>Monte Carlo</th>\n",
              "      <th>Park Avenue</th>\n",
              "      <th>STS-V6</th>\n",
              "      <th>STS-V8</th>\n",
              "      <th>Sunfire</th>\n",
              "      <th>Vibe</th>\n",
              "      <th>XLR-V8</th>\n",
              "    </tr>\n",
              "  </thead>\n",
              "  <tbody>\n",
              "    <tr>\n",
              "      <th>0</th>\n",
              "      <td>0</td>\n",
              "      <td>0</td>\n",
              "      <td>0</td>\n",
              "      <td>0</td>\n",
              "      <td>0</td>\n",
              "      <td>0</td>\n",
              "      <td>0</td>\n",
              "      <td>0</td>\n",
              "      <td>0</td>\n",
              "      <td>0</td>\n",
              "      <td>...</td>\n",
              "      <td>0</td>\n",
              "      <td>0</td>\n",
              "      <td>0</td>\n",
              "      <td>0</td>\n",
              "      <td>0</td>\n",
              "      <td>0</td>\n",
              "      <td>0</td>\n",
              "      <td>0</td>\n",
              "      <td>0</td>\n",
              "      <td>0</td>\n",
              "    </tr>\n",
              "    <tr>\n",
              "      <th>1</th>\n",
              "      <td>0</td>\n",
              "      <td>0</td>\n",
              "      <td>0</td>\n",
              "      <td>0</td>\n",
              "      <td>0</td>\n",
              "      <td>0</td>\n",
              "      <td>0</td>\n",
              "      <td>0</td>\n",
              "      <td>0</td>\n",
              "      <td>0</td>\n",
              "      <td>...</td>\n",
              "      <td>0</td>\n",
              "      <td>0</td>\n",
              "      <td>0</td>\n",
              "      <td>0</td>\n",
              "      <td>0</td>\n",
              "      <td>0</td>\n",
              "      <td>0</td>\n",
              "      <td>0</td>\n",
              "      <td>0</td>\n",
              "      <td>0</td>\n",
              "    </tr>\n",
              "    <tr>\n",
              "      <th>2</th>\n",
              "      <td>0</td>\n",
              "      <td>0</td>\n",
              "      <td>0</td>\n",
              "      <td>0</td>\n",
              "      <td>0</td>\n",
              "      <td>0</td>\n",
              "      <td>0</td>\n",
              "      <td>0</td>\n",
              "      <td>0</td>\n",
              "      <td>0</td>\n",
              "      <td>...</td>\n",
              "      <td>0</td>\n",
              "      <td>0</td>\n",
              "      <td>0</td>\n",
              "      <td>0</td>\n",
              "      <td>0</td>\n",
              "      <td>0</td>\n",
              "      <td>0</td>\n",
              "      <td>0</td>\n",
              "      <td>0</td>\n",
              "      <td>0</td>\n",
              "    </tr>\n",
              "    <tr>\n",
              "      <th>3</th>\n",
              "      <td>0</td>\n",
              "      <td>0</td>\n",
              "      <td>0</td>\n",
              "      <td>0</td>\n",
              "      <td>0</td>\n",
              "      <td>0</td>\n",
              "      <td>0</td>\n",
              "      <td>0</td>\n",
              "      <td>0</td>\n",
              "      <td>0</td>\n",
              "      <td>...</td>\n",
              "      <td>0</td>\n",
              "      <td>0</td>\n",
              "      <td>0</td>\n",
              "      <td>0</td>\n",
              "      <td>0</td>\n",
              "      <td>0</td>\n",
              "      <td>0</td>\n",
              "      <td>0</td>\n",
              "      <td>0</td>\n",
              "      <td>0</td>\n",
              "    </tr>\n",
              "    <tr>\n",
              "      <th>4</th>\n",
              "      <td>0</td>\n",
              "      <td>0</td>\n",
              "      <td>0</td>\n",
              "      <td>0</td>\n",
              "      <td>0</td>\n",
              "      <td>0</td>\n",
              "      <td>0</td>\n",
              "      <td>0</td>\n",
              "      <td>0</td>\n",
              "      <td>0</td>\n",
              "      <td>...</td>\n",
              "      <td>0</td>\n",
              "      <td>0</td>\n",
              "      <td>0</td>\n",
              "      <td>0</td>\n",
              "      <td>0</td>\n",
              "      <td>0</td>\n",
              "      <td>0</td>\n",
              "      <td>0</td>\n",
              "      <td>0</td>\n",
              "      <td>0</td>\n",
              "    </tr>\n",
              "  </tbody>\n",
              "</table>\n",
              "<p>5 rows × 32 columns</p>\n",
              "</div>\n",
              "      <button class=\"colab-df-convert\" onclick=\"convertToInteractive('df-291e329f-28fb-4bfb-9bb8-0c5e949b362d')\"\n",
              "              title=\"Convert this dataframe to an interactive table.\"\n",
              "              style=\"display:none;\">\n",
              "        \n",
              "  <svg xmlns=\"http://www.w3.org/2000/svg\" height=\"24px\"viewBox=\"0 0 24 24\"\n",
              "       width=\"24px\">\n",
              "    <path d=\"M0 0h24v24H0V0z\" fill=\"none\"/>\n",
              "    <path d=\"M18.56 5.44l.94 2.06.94-2.06 2.06-.94-2.06-.94-.94-2.06-.94 2.06-2.06.94zm-11 1L8.5 8.5l.94-2.06 2.06-.94-2.06-.94L8.5 2.5l-.94 2.06-2.06.94zm10 10l.94 2.06.94-2.06 2.06-.94-2.06-.94-.94-2.06-.94 2.06-2.06.94z\"/><path d=\"M17.41 7.96l-1.37-1.37c-.4-.4-.92-.59-1.43-.59-.52 0-1.04.2-1.43.59L10.3 9.45l-7.72 7.72c-.78.78-.78 2.05 0 2.83L4 21.41c.39.39.9.59 1.41.59.51 0 1.02-.2 1.41-.59l7.78-7.78 2.81-2.81c.8-.78.8-2.07 0-2.86zM5.41 20L4 18.59l7.72-7.72 1.47 1.35L5.41 20z\"/>\n",
              "  </svg>\n",
              "      </button>\n",
              "      \n",
              "  <style>\n",
              "    .colab-df-container {\n",
              "      display:flex;\n",
              "      flex-wrap:wrap;\n",
              "      gap: 12px;\n",
              "    }\n",
              "\n",
              "    .colab-df-convert {\n",
              "      background-color: #E8F0FE;\n",
              "      border: none;\n",
              "      border-radius: 50%;\n",
              "      cursor: pointer;\n",
              "      display: none;\n",
              "      fill: #1967D2;\n",
              "      height: 32px;\n",
              "      padding: 0 0 0 0;\n",
              "      width: 32px;\n",
              "    }\n",
              "\n",
              "    .colab-df-convert:hover {\n",
              "      background-color: #E2EBFA;\n",
              "      box-shadow: 0px 1px 2px rgba(60, 64, 67, 0.3), 0px 1px 3px 1px rgba(60, 64, 67, 0.15);\n",
              "      fill: #174EA6;\n",
              "    }\n",
              "\n",
              "    [theme=dark] .colab-df-convert {\n",
              "      background-color: #3B4455;\n",
              "      fill: #D2E3FC;\n",
              "    }\n",
              "\n",
              "    [theme=dark] .colab-df-convert:hover {\n",
              "      background-color: #434B5C;\n",
              "      box-shadow: 0px 1px 3px 1px rgba(0, 0, 0, 0.15);\n",
              "      filter: drop-shadow(0px 1px 2px rgba(0, 0, 0, 0.3));\n",
              "      fill: #FFFFFF;\n",
              "    }\n",
              "  </style>\n",
              "\n",
              "      <script>\n",
              "        const buttonEl =\n",
              "          document.querySelector('#df-291e329f-28fb-4bfb-9bb8-0c5e949b362d button.colab-df-convert');\n",
              "        buttonEl.style.display =\n",
              "          google.colab.kernel.accessAllowed ? 'block' : 'none';\n",
              "\n",
              "        async function convertToInteractive(key) {\n",
              "          const element = document.querySelector('#df-291e329f-28fb-4bfb-9bb8-0c5e949b362d');\n",
              "          const dataTable =\n",
              "            await google.colab.kernel.invokeFunction('convertToInteractive',\n",
              "                                                     [key], {});\n",
              "          if (!dataTable) return;\n",
              "\n",
              "          const docLinkHtml = 'Like what you see? Visit the ' +\n",
              "            '<a target=\"_blank\" href=https://colab.research.google.com/notebooks/data_table.ipynb>data table notebook</a>'\n",
              "            + ' to learn more about interactive tables.';\n",
              "          element.innerHTML = '';\n",
              "          dataTable['output_type'] = 'display_data';\n",
              "          await google.colab.output.renderOutput(dataTable, element);\n",
              "          const docLink = document.createElement('div');\n",
              "          docLink.innerHTML = docLinkHtml;\n",
              "          element.appendChild(docLink);\n",
              "        }\n",
              "      </script>\n",
              "    </div>\n",
              "  </div>\n",
              "  "
            ]
          },
          "metadata": {},
          "execution_count": 96
        }
      ]
    },
    {
      "cell_type": "code",
      "source": [
        "for i in list(combinations(['Malibu', 'AVEO', 'Cavalier', 'Ion', 'Cobalt', '9_3 HO', 'Vibe', 'Bonneville', 'Monte Carlo', 'Lacrosse', 'Impala', 'Grand Prix', '9_5', 'Deville', 'Lesabre', 'Corvette', '9_3', '9_5 HO', 'G6', 'Grand Am', 'Park Avenue', 'Sunfire', 'Century', 'GTO', 'Classic', 'XLR-V8', 'STS-V8', 'STS-V6', 'CTS', 'CST-V', 'L Series', '9-2X AWD'],2)):\n",
        "  # feature and target\n",
        "  X = df2[list(i)].values\n",
        "  y = df['Price'].values\n",
        "  \n",
        "  # split\n",
        "  X_train, X_test, y_train, y_test = train_test_split(X, y, test_size=0.3, random_state = 285)\n",
        "  \n",
        "  # scale\n",
        "  scaler = StandardScaler()\n",
        "  scaler.fit(X_train)\n",
        "  X_train_scaled = scaler.transform(X_train)\n",
        "  X_test_scaled = scaler.transform(X_test)\n",
        "  \n",
        "  # model\n",
        "  regressor = LinearRegression() \n",
        "  regressor.fit(X_train_scaled, y_train)\n",
        "  \n",
        "  # print('Co-efficient :', regressor.coef_ , 'Intercept :', regressor.intercept_)\n",
        "  \n",
        "  # Predict\n",
        "  y_pred = regressor.predict(X_test_scaled)\n",
        "  \n",
        "  # Evaluation\n",
        "  print(i, 'R2 score : ', regressor.score(X_test_scaled,y_test))"
      ],
      "metadata": {
        "colab": {
          "base_uri": "https://localhost:8080/"
        },
        "id": "232wHhB7ytQg",
        "outputId": "d10520c5-c39c-4a57-9ca5-4ec925397fc7"
      },
      "execution_count": 97,
      "outputs": [
        {
          "output_type": "stream",
          "name": "stdout",
          "text": [
            "('Malibu', 'AVEO') R2 score :  0.14156694017493776\n",
            "('Malibu', 'Cavalier') R2 score :  0.07911311240497343\n",
            "('Malibu', 'Ion') R2 score :  0.023723952335371057\n",
            "('Malibu', 'Cobalt') R2 score :  0.01730031166583179\n",
            "('Malibu', '9_3 HO') R2 score :  0.031051562414045164\n",
            "('Malibu', 'Vibe') R2 score :  -0.006976480221908554\n",
            "('Malibu', 'Bonneville') R2 score :  -0.013995114297820965\n",
            "('Malibu', 'Monte Carlo') R2 score :  -0.00977530111022551\n",
            "('Malibu', 'Lacrosse') R2 score :  -0.013982248954217402\n",
            "('Malibu', 'Impala') R2 score :  -0.013279818606951377\n",
            "('Malibu', 'Grand Prix') R2 score :  -0.016320199432755533\n",
            "('Malibu', '9_5') R2 score :  0.03783417213387086\n",
            "('Malibu', 'Deville') R2 score :  0.06913300964134594\n",
            "('Malibu', 'Lesabre') R2 score :  -0.01296711691550767\n",
            "('Malibu', 'Corvette') R2 score :  0.026238144983879663\n",
            "('Malibu', '9_3') R2 score :  0.005959591822903509\n",
            "('Malibu', '9_5 HO') R2 score :  0.006979722751680129\n",
            "('Malibu', 'G6') R2 score :  -0.010682973236889381\n",
            "('Malibu', 'Grand Am') R2 score :  -0.0008068046002935869\n",
            "('Malibu', 'Park Avenue') R2 score :  -0.009841112523544027\n",
            "('Malibu', 'Sunfire') R2 score :  -0.013182417565744675\n",
            "('Malibu', 'Century') R2 score :  -0.012056169353748203\n",
            "('Malibu', 'GTO') R2 score :  -0.002791928777415631\n",
            "('Malibu', 'Classic') R2 score :  -0.004702218861095231\n",
            "('Malibu', 'XLR-V8') R2 score :  0.15693168986270822\n",
            "('Malibu', 'STS-V8') R2 score :  0.0954981313024249\n",
            "('Malibu', 'STS-V6') R2 score :  0.01770115941043726\n",
            "('Malibu', 'CTS') R2 score :  0.004618638185498458\n",
            "('Malibu', 'CST-V') R2 score :  0.05925353272350009\n",
            "('Malibu', 'L Series') R2 score :  -0.00551746331020686\n",
            "('Malibu', '9-2X AWD') R2 score :  -0.010843554019864587\n",
            "('AVEO', 'Cavalier') R2 score :  0.23021389877489173\n",
            "('AVEO', 'Ion') R2 score :  0.17021024680026686\n",
            "('AVEO', 'Cobalt') R2 score :  0.1630805365872552\n",
            "('AVEO', '9_3 HO') R2 score :  0.15688738746504438\n",
            "('AVEO', 'Vibe') R2 score :  0.13252947942261728\n",
            "('AVEO', 'Bonneville') R2 score :  0.12156528986508774\n",
            "('AVEO', 'Monte Carlo') R2 score :  0.1268969405904441\n",
            "('AVEO', 'Lacrosse') R2 score :  0.12130533343152838\n",
            "('AVEO', 'Impala') R2 score :  0.12314793300418869\n",
            "('AVEO', 'Grand Prix') R2 score :  0.12131951247732531\n",
            "('AVEO', '9_5') R2 score :  0.16565511320411952\n",
            "('AVEO', 'Deville') R2 score :  0.19278145447747597\n",
            "('AVEO', 'Lesabre') R2 score :  0.12308895818115007\n",
            "('AVEO', 'Corvette') R2 score :  0.1529745115452541\n",
            "('AVEO', '9_3') R2 score :  0.13707108588044914\n",
            "('AVEO', '9_5 HO') R2 score :  0.13838467431347057\n",
            "('AVEO', 'G6') R2 score :  0.12544342128629604\n",
            "('AVEO', 'Grand Am') R2 score :  0.13754486771448282\n",
            "('AVEO', 'Park Avenue') R2 score :  0.12390707058433026\n",
            "('AVEO', 'Sunfire') R2 score :  0.12382783022022836\n",
            "('AVEO', 'Century') R2 score :  0.12423970356367198\n",
            "('AVEO', 'GTO') R2 score :  0.1301817557514614\n",
            "('AVEO', 'Classic') R2 score :  0.13234525003381759\n",
            "('AVEO', 'XLR-V8') R2 score :  0.2817086695954458\n",
            "('AVEO', 'STS-V8') R2 score :  0.22444236713737054\n",
            "('AVEO', 'STS-V6') R2 score :  0.14869451997867833\n",
            "('AVEO', 'CTS') R2 score :  0.13713116740758458\n",
            "('AVEO', 'CST-V') R2 score :  0.18814254689768573\n",
            "('AVEO', 'L Series') R2 score :  0.13100364806448261\n",
            "('AVEO', '9-2X AWD') R2 score :  0.12368197473825526\n",
            "('Cavalier', 'Ion') R2 score :  0.10660764205574358\n",
            "('Cavalier', 'Cobalt') R2 score :  0.09970977035139272\n",
            "('Cavalier', '9_3 HO') R2 score :  0.10013726975253001\n",
            "('Cavalier', 'Vibe') R2 score :  0.07125991295887169\n",
            "('Cavalier', 'Bonneville') R2 score :  0.06160025304086936\n",
            "('Cavalier', 'Monte Carlo') R2 score :  0.0665693717403778\n",
            "('Cavalier', 'Lacrosse') R2 score :  0.06142762507411137\n",
            "('Cavalier', 'Impala') R2 score :  0.06289793863646786\n",
            "('Cavalier', 'Grand Prix') R2 score :  0.06066144517853034\n",
            "('Cavalier', '9_5') R2 score :  0.10824258141475707\n",
            "('Cavalier', 'Deville') R2 score :  0.13677940250273268\n",
            "('Cavalier', 'Lesabre') R2 score :  0.06298009370788693\n",
            "('Cavalier', 'Corvette') R2 score :  0.09598569180530037\n",
            "('Cavalier', '9_3') R2 score :  0.07859966566972942\n",
            "('Cavalier', '9_5 HO') R2 score :  0.07981207956528746\n",
            "('Cavalier', 'G6') R2 score :  0.06531271942409944\n",
            "('Cavalier', 'Grand Am') R2 score :  0.07668009342564186\n",
            "('Cavalier', 'Park Avenue') R2 score :  0.06456159358522562\n",
            "('Cavalier', 'Sunfire') R2 score :  0.06341587893159573\n",
            "('Cavalier', 'Century') R2 score :  0.06406681817437754\n",
            "('Cavalier', 'GTO') R2 score :  0.07111010354449321\n",
            "('Cavalier', 'Classic') R2 score :  0.07192642205911637\n",
            "('Cavalier', 'XLR-V8') R2 score :  0.22537649486963163\n",
            "('Cavalier', 'STS-V8') R2 score :  0.16669543454893987\n",
            "('Cavalier', 'STS-V6') R2 score :  0.09028319855568712\n",
            "('Cavalier', 'CTS') R2 score :  0.07820964843276124\n",
            "('Cavalier', 'CST-V') R2 score :  0.1304263573256581\n",
            "('Cavalier', 'L Series') R2 score :  0.07076395410807645\n",
            "('Cavalier', '9-2X AWD') R2 score :  0.0641066025985787\n",
            "('Ion', 'Cobalt') R2 score :  0.04246522211794046\n",
            "('Ion', '9_3 HO') R2 score :  0.05414255867624396\n",
            "('Ion', 'Vibe') R2 score :  0.017419579738971458\n",
            "('Ion', 'Bonneville') R2 score :  0.010028947581260939\n",
            "('Ion', 'Monte Carlo') R2 score :  0.014818968423238488\n",
            "('Ion', 'Lacrosse') R2 score :  0.00989109585127479\n",
            "('Ion', 'Impala') R2 score :  0.010970878966054198\n",
            "('Ion', 'Grand Prix') R2 score :  0.007521558439512632\n",
            "('Ion', '9_5') R2 score :  0.06003029627893053\n",
            "('Ion', 'Deville') R2 score :  0.09195364196234823\n",
            "('Ion', 'Lesabre') R2 score :  0.011309630495333511\n",
            "('Ion', 'Corvette') R2 score :  0.05061625196595598\n",
            "('Ion', '9_3') R2 score :  0.029639460037641063\n",
            "('Ion', '9_5 HO') R2 score :  0.030435224678981188\n",
            "('Ion', 'G6') R2 score :  0.013753148480723065\n",
            "('Ion', 'Grand Am') R2 score :  0.024007596328794234\n",
            "('Ion', 'Park Avenue') R2 score :  0.014201259442639835\n",
            "('Ion', 'Sunfire') R2 score :  0.010864931705888758\n",
            "('Ion', 'Century') R2 score :  0.01216511343007598\n",
            "('Ion', 'GTO') R2 score :  0.02112996779166121\n",
            "('Ion', 'Classic') R2 score :  0.01980120975158184\n",
            "('Ion', 'XLR-V8') R2 score :  0.18043838307176852\n",
            "('Ion', 'STS-V8') R2 score :  0.11817160092387935\n",
            "('Ion', 'STS-V6') R2 score :  0.04160824035080246\n",
            "('Ion', 'CTS') R2 score :  0.028275110611401533\n",
            "('Ion', 'CST-V') R2 score :  0.08265265999912619\n",
            "('Ion', 'L Series') R2 score :  0.019258247069055323\n",
            "('Ion', '9-2X AWD') R2 score :  0.013273729794440414\n",
            "('Cobalt', '9_3 HO') R2 score :  0.04837970690188864\n",
            "('Cobalt', 'Vibe') R2 score :  0.011160410276584654\n",
            "('Cobalt', 'Bonneville') R2 score :  0.003913672571733251\n",
            "('Cobalt', 'Monte Carlo') R2 score :  0.008616280727776648\n",
            "('Cobalt', 'Lacrosse') R2 score :  0.0038000126920511024\n",
            "('Cobalt', 'Impala') R2 score :  0.004808940306342602\n",
            "('Cobalt', 'Grand Prix') R2 score :  0.0013705719451175824\n",
            "('Cobalt', '9_5') R2 score :  0.054302077763954903\n",
            "('Cobalt', 'Deville') R2 score :  0.08627309472892386\n",
            "('Cobalt', 'Lesabre') R2 score :  0.005154266719879286\n",
            "('Cobalt', 'Corvette') R2 score :  0.04470168395516627\n",
            "('Cobalt', '9_3') R2 score :  0.023677346589273673\n",
            "('Cobalt', '9_5 HO') R2 score :  0.02448741877426941\n",
            "('Cobalt', 'G6') R2 score :  0.0075802672137819105\n",
            "('Cobalt', 'Grand Am') R2 score :  0.017735696128612144\n",
            "('Cobalt', 'Park Avenue') R2 score :  0.00813284373129941\n",
            "('Cobalt', 'Sunfire') R2 score :  0.004707134018501979\n",
            "('Cobalt', 'Century') R2 score :  0.006008761815858632\n",
            "('Cobalt', 'GTO') R2 score :  0.015092779236199783\n",
            "('Cobalt', 'Classic') R2 score :  0.013595679204424949\n",
            "('Cobalt', 'XLR-V8') R2 score :  0.17465923949319506\n",
            "('Cobalt', 'STS-V8') R2 score :  0.11236610026496252\n",
            "('Cobalt', 'STS-V6') R2 score :  0.035625765094309925\n",
            "('Cobalt', 'CTS') R2 score :  0.022276489954403678\n",
            "('Cobalt', 'CST-V') R2 score :  0.07677622440995702\n",
            "('Cobalt', 'L Series') R2 score :  0.013038576631681842\n",
            "('Cobalt', '9-2X AWD') R2 score :  0.007174479766983488\n",
            "('9_3 HO', 'Vibe') R2 score :  0.028486245008365385\n",
            "('9_3 HO', 'Bonneville') R2 score :  0.023916458622574743\n",
            "('9_3 HO', 'Monte Carlo') R2 score :  0.025694262572589666\n",
            "('9_3 HO', 'Lacrosse') R2 score :  0.02433624646547794\n",
            "('9_3 HO', 'Impala') R2 score :  0.023626754729250687\n",
            "('9_3 HO', 'Grand Prix') R2 score :  0.021550598778190322\n",
            "('9_3 HO', '9_5') R2 score :  0.08450089593904508\n",
            "('9_3 HO', 'Deville') R2 score :  0.11353463723876478\n",
            "('9_3 HO', 'Lesabre') R2 score :  0.02382151292762591\n",
            "('9_3 HO', 'Corvette') R2 score :  0.06399790930496674\n",
            "('9_3 HO', '9_3') R2 score :  0.04590576846851868\n",
            "('9_3 HO', '9_5 HO') R2 score :  0.047800860641816434\n",
            "('9_3 HO', 'G6') R2 score :  0.025419408415331635\n",
            "('9_3 HO', 'Grand Am') R2 score :  0.033389750698523124\n",
            "('9_3 HO', 'Park Avenue') R2 score :  0.028159991917084515\n",
            "('9_3 HO', 'Sunfire') R2 score :  0.024025350976683457\n",
            "('9_3 HO', 'Century') R2 score :  0.02469113123760025\n",
            "('9_3 HO', 'GTO') R2 score :  0.03584585177306587\n",
            "('9_3 HO', 'Classic') R2 score :  0.03084304499596291\n",
            "('9_3 HO', 'XLR-V8') R2 score :  0.19838366890885417\n",
            "('9_3 HO', 'STS-V8') R2 score :  0.13973221312599438\n",
            "('9_3 HO', 'STS-V6') R2 score :  0.05670112265081462\n",
            "('9_3 HO', 'CTS') R2 score :  0.04442514135047759\n",
            "('9_3 HO', 'CST-V') R2 score :  0.10061839928838201\n",
            "('9_3 HO', 'L Series') R2 score :  0.02925632240734144\n",
            "('9_3 HO', '9-2X AWD') R2 score :  0.02672186701370194\n",
            "('Vibe', 'Bonneville') R2 score :  -0.018153901962594476\n",
            "('Vibe', 'Monte Carlo') R2 score :  -0.014263116608868254\n",
            "('Vibe', 'Lacrosse') R2 score :  -0.018061321258853624\n",
            "('Vibe', 'Impala') R2 score :  -0.017633349324790437\n",
            "('Vibe', 'Grand Prix') R2 score :  -0.02074350241628764\n",
            "('Vibe', '9_5') R2 score :  0.0352428268112871\n",
            "('Vibe', 'Deville') R2 score :  0.06688539322527831\n",
            "('Vibe', 'Lesabre') R2 score :  -0.01728800174191436\n",
            "('Vibe', 'Corvette') R2 score :  0.02325753384980822\n",
            "('Vibe', '9_3') R2 score :  0.0025214237996946665\n",
            "('Vibe', '9_5 HO') R2 score :  0.003560227597295129\n",
            "('Vibe', 'G6') R2 score :  -0.015059668409727944\n",
            "('Vibe', 'Grand Am') R2 score :  -0.0056396094632955585\n",
            "('Vibe', 'Park Avenue') R2 score :  -0.013753777213627583\n",
            "('Vibe', 'Sunfire') R2 score :  -0.017602405198859472\n",
            "('Vibe', 'Century') R2 score :  -0.016416387000317778\n",
            "('Vibe', 'GTO') R2 score :  -0.006573091366012251\n",
            "('Vibe', 'Classic') R2 score :  -0.009257889774798578\n",
            "('Vibe', 'XLR-V8') R2 score :  0.1543733348711086\n",
            "('Vibe', 'STS-V8') R2 score :  0.0926040371831115\n",
            "('Vibe', 'STS-V6') R2 score :  0.014207707607019726\n",
            "('Vibe', 'CTS') R2 score :  0.0009756564907076326\n",
            "('Vibe', 'CST-V') R2 score :  0.05617699145277011\n",
            "('Vibe', 'L Series') R2 score :  -0.010062099739387653\n",
            "('Vibe', '9-2X AWD') R2 score :  -0.014914671156245785\n",
            "('Bonneville', 'Monte Carlo') R2 score :  -0.020624306239407586\n",
            "('Bonneville', 'Lacrosse') R2 score :  -0.023717758880917206\n",
            "('Bonneville', 'Impala') R2 score :  -0.023651661541710833\n",
            "('Bonneville', 'Grand Prix') R2 score :  -0.026462916153881633\n",
            "('Bonneville', '9_5') R2 score :  0.031485531482772555\n",
            "('Bonneville', 'Deville') R2 score :  0.0626242538389834\n",
            "('Bonneville', 'Lesabre') R2 score :  -0.023335149074110495\n",
            "('Bonneville', 'Corvette') R2 score :  0.017424268118889197\n",
            "('Bonneville', '9_3') R2 score :  -0.0027994507007758074\n",
            "('Bonneville', '9_5 HO') R2 score :  -0.0015520536969568788\n",
            "('Bonneville', 'G6') R2 score :  -0.02126805164433687\n",
            "('Bonneville', 'Grand Am') R2 score :  -0.01228571756151653\n",
            "('Bonneville', 'Park Avenue') R2 score :  -0.01951646725792644\n",
            "('Bonneville', 'Sunfire') R2 score :  -0.023505314190438886\n",
            "('Bonneville', 'Century') R2 score :  -0.022451505786538872\n",
            "('Bonneville', 'GTO') R2 score :  -0.012196683440002243\n",
            "('Bonneville', 'Classic') R2 score :  -0.015582508990905408\n",
            "('Bonneville', 'XLR-V8') R2 score :  0.14941107844933998\n",
            "('Bonneville', 'STS-V8') R2 score :  0.08830018065367096\n",
            "('Bonneville', 'STS-V6') R2 score :  0.00866098123460568\n",
            "('Bonneville', 'CTS') R2 score :  -0.004373896270138511\n",
            "('Bonneville', 'CST-V') R2 score :  0.05118484294274406\n",
            "('Bonneville', 'L Series') R2 score :  -0.01660354126936414\n",
            "('Bonneville', '9-2X AWD') R2 score :  -0.020783236209932276\n",
            "('Monte Carlo', 'Lacrosse') R2 score :  -0.020425754923686146\n",
            "('Monte Carlo', 'Impala') R2 score :  -0.020251075730632673\n",
            "('Monte Carlo', 'Grand Prix') R2 score :  -0.022751802885059735\n",
            "('Monte Carlo', '9_5') R2 score :  0.0339350896666647\n",
            "('Monte Carlo', 'Deville') R2 score :  0.06409943017248143\n",
            "('Monte Carlo', 'Lesabre') R2 score :  -0.0199820094459906\n",
            "('Monte Carlo', 'Corvette') R2 score :  0.01903465186420994\n",
            "('Monte Carlo', '9_3') R2 score :  -0.00016782779656154823\n",
            "('Monte Carlo', '9_5 HO') R2 score :  0.0011994622509760022\n",
            "('Monte Carlo', 'G6') R2 score :  -0.017949524080155488\n",
            "('Monte Carlo', 'Grand Am') R2 score :  -0.008678102688798761\n",
            "('Monte Carlo', 'Park Avenue') R2 score :  -0.016515358744813913\n",
            "('Monte Carlo', 'Sunfire') R2 score :  -0.019902573010875058\n",
            "('Monte Carlo', 'Century') R2 score :  -0.019020463580651015\n",
            "('Monte Carlo', 'GTO') R2 score :  -0.009270716395899603\n",
            "('Monte Carlo', 'Classic') R2 score :  -0.012095226528226144\n",
            "('Monte Carlo', 'XLR-V8') R2 score :  0.15094365177958946\n",
            "('Monte Carlo', 'STS-V8') R2 score :  0.0908568553035266\n",
            "('Monte Carlo', 'STS-V6') R2 score :  0.0112304444042719\n",
            "('Monte Carlo', 'CTS') R2 score :  -0.0014529591885723558\n",
            "('Monte Carlo', 'CST-V') R2 score :  0.0535187761330399\n",
            "('Monte Carlo', 'L Series') R2 score :  -0.013278296147994029\n",
            "('Monte Carlo', '9-2X AWD') R2 score :  -0.017618299546936722\n",
            "('Lacrosse', 'Impala') R2 score :  -0.02345718206061842\n",
            "('Lacrosse', 'Grand Prix') R2 score :  -0.02632607495443251\n",
            "('Lacrosse', '9_5') R2 score :  0.03187685000120466\n",
            "('Lacrosse', 'Deville') R2 score :  0.0630677239670886\n",
            "('Lacrosse', 'Lesabre') R2 score :  -0.023132836001532153\n",
            "('Lacrosse', 'Corvette') R2 score :  0.017792165158968087\n",
            "('Lacrosse', '9_3') R2 score :  -0.002475742496533151\n",
            "('Lacrosse', '9_5 HO') R2 score :  -0.0012376559552034205\n",
            "('Lacrosse', 'G6') R2 score :  -0.021062519656722234\n",
            "('Lacrosse', 'Grand Am') R2 score :  -0.01213843924287028\n",
            "('Lacrosse', 'Park Avenue') R2 score :  -0.01925239579264848\n",
            "('Lacrosse', 'Sunfire') R2 score :  -0.023348121456132853\n",
            "('Lacrosse', 'Century') R2 score :  -0.022263122575746586\n",
            "('Lacrosse', 'GTO') R2 score :  -0.011918747521215245\n",
            "('Lacrosse', 'Classic') R2 score :  -0.01540862876392346\n",
            "('Lacrosse', 'XLR-V8') R2 score :  0.14982037065929232\n",
            "('Lacrosse', 'STS-V8') R2 score :  0.08866154266675197\n",
            "('Lacrosse', 'STS-V6') R2 score :  0.008985049450485172\n",
            "('Lacrosse', 'CTS') R2 score :  -0.00408886290132604\n",
            "('Lacrosse', 'CST-V') R2 score :  0.05154978368661334\n",
            "('Lacrosse', 'L Series') R2 score :  -0.01640487206646557\n",
            "('Lacrosse', '9-2X AWD') R2 score :  -0.02054645512461084\n",
            "('Impala', 'Grand Prix') R2 score :  -0.02607365062139433\n",
            "('Impala', '9_5') R2 score :  0.031242900391725836\n",
            "('Impala', 'Deville') R2 score :  0.06221731241342199\n",
            "('Impala', 'Lesabre') R2 score :  -0.023004149163016407\n",
            "('Impala', 'Corvette') R2 score :  0.017285748136144474\n",
            "('Impala', '9_3') R2 score :  -0.0027658775439296512\n",
            "('Impala', '9_5 HO') R2 score :  -0.0015173440344595779\n",
            "('Impala', 'G6') R2 score :  -0.02092359949283429\n",
            "('Impala', 'Grand Am') R2 score :  -0.01179926948794674\n",
            "('Impala', 'Park Avenue') R2 score :  -0.019321200200273836\n",
            "('Impala', 'Sunfire') R2 score :  -0.02312273402009568\n",
            "('Impala', 'Century') R2 score :  -0.022099538128629748\n",
            "('Impala', 'GTO') R2 score :  -0.0120419871753068\n",
            "('Impala', 'Classic') R2 score :  -0.01517447483572032\n",
            "('Impala', 'XLR-V8') R2 score :  0.14912324976569258\n",
            "('Impala', 'STS-V8') R2 score :  0.08816670433969742\n",
            "('Impala', 'STS-V6') R2 score :  0.008711312325276221\n",
            "('Impala', 'CTS') R2 score :  -0.004260050938632354\n",
            "('Impala', 'CST-V') R2 score :  0.05109407901039864\n",
            "('Impala', 'L Series') R2 score :  -0.016211109109405708\n",
            "('Impala', '9-2X AWD') R2 score :  -0.020529103322631137\n",
            "('Grand Prix', '9_5') R2 score :  0.02809085722937199\n",
            "('Grand Prix', 'Deville') R2 score :  0.06022837028920325\n",
            "('Grand Prix', 'Lesabre') R2 score :  -0.025695949913870697\n",
            "('Grand Prix', 'Corvette') R2 score :  0.01607202334508473\n",
            "('Grand Prix', '9_3') R2 score :  -0.005176910456458961\n",
            "('Grand Prix', '9_5 HO') R2 score :  -0.004165394202831019\n",
            "('Grand Prix', 'G6') R2 score :  -0.02348412960318158\n",
            "('Grand Prix', 'Grand Am') R2 score :  -0.014393024612927796\n",
            "('Grand Prix', 'Park Avenue') R2 score :  -0.021830253679594014\n",
            "('Grand Prix', 'Sunfire') R2 score :  -0.02615602702955866\n",
            "('Grand Prix', 'Century') R2 score :  -0.024874536356638055\n",
            "('Grand Prix', 'GTO') R2 score :  -0.014554816952943916\n",
            "('Grand Prix', 'Classic') R2 score :  -0.017833291707325394\n",
            "('Grand Prix', 'XLR-V8') R2 score :  0.14748767291172848\n",
            "('Grand Prix', 'STS-V8') R2 score :  0.0852376291305027\n",
            "('Grand Prix', 'STS-V6') R2 score :  0.006494779833837394\n",
            "('Grand Prix', 'CTS') R2 score :  -0.006929417304219587\n",
            "('Grand Prix', 'CST-V') R2 score :  0.04877474887422717\n",
            "('Grand Prix', 'L Series') R2 score :  -0.018574452287823506\n",
            "('Grand Prix', '9-2X AWD') R2 score :  -0.023130620311589523\n",
            "('9_5', 'Deville') R2 score :  0.12429390782371796\n",
            "('9_5', 'Lesabre') R2 score :  0.031592933446658034\n",
            "('9_5', 'Corvette') R2 score :  0.07665915988129646\n",
            "('9_5', '9_3') R2 score :  0.05473571446682457\n",
            "('9_5', '9_5 HO') R2 score :  0.055987933615709196\n",
            "('9_5', 'G6') R2 score :  0.03351932259968371\n",
            "('9_5', 'Grand Am') R2 score :  0.04126714861130154\n",
            "('9_5', 'Park Avenue') R2 score :  0.03657786380743289\n",
            "('9_5', 'Sunfire') R2 score :  0.030997000818026255\n",
            "('9_5', 'Century') R2 score :  0.032269630600299526\n",
            "('9_5', 'GTO') R2 score :  0.044229618343855304\n",
            "('9_5', 'Classic') R2 score :  0.03863103089916775\n",
            "('9_5', 'XLR-V8') R2 score :  0.20995094969389483\n",
            "('9_5', 'STS-V8') R2 score :  0.14732780565028447\n",
            "('9_5', 'STS-V6') R2 score :  0.0660055498281008\n",
            "('9_5', 'CTS') R2 score :  0.05243226835728598\n",
            "('9_5', 'CST-V') R2 score :  0.10981283063593483\n",
            "('9_5', 'L Series') R2 score :  0.03770609658355217\n",
            "('9_5', '9-2X AWD') R2 score :  0.03475419336871377\n",
            "('Deville', 'Lesabre') R2 score :  0.06238693760374703\n",
            "('Deville', 'Corvette') R2 score :  0.10271867974646587\n",
            "('Deville', '9_3') R2 score :  0.08484706384841223\n",
            "('Deville', '9_5 HO') R2 score :  0.08685283378377318\n",
            "('Deville', 'G6') R2 score :  0.06389305931541556\n",
            "('Deville', 'Grand Am') R2 score :  0.07163332672350642\n",
            "('Deville', 'Park Avenue') R2 score :  0.06685545641771662\n",
            "('Deville', 'Sunfire') R2 score :  0.06261902899693972\n",
            "('Deville', 'Century') R2 score :  0.06323013300399216\n",
            "('Deville', 'GTO') R2 score :  0.07462246564285113\n",
            "('Deville', 'Classic') R2 score :  0.0692385717394105\n",
            "('Deville', 'XLR-V8') R2 score :  0.23753714289890204\n",
            "('Deville', 'STS-V8') R2 score :  0.17919260852385\n",
            "('Deville', 'STS-V6') R2 score :  0.09552064332906396\n",
            "('Deville', 'CTS') R2 score :  0.08335053200932241\n",
            "('Deville', 'CST-V') R2 score :  0.1397313427389132\n",
            "('Deville', 'L Series') R2 score :  0.06757341207505563\n",
            "('Deville', '9-2X AWD') R2 score :  0.06536581842136846\n",
            "('Lesabre', 'Corvette') R2 score :  0.017394071338580175\n",
            "('Lesabre', '9_3') R2 score :  -0.0025042804444597166\n",
            "('Lesabre', '9_5 HO') R2 score :  -0.0012230343880257344\n",
            "('Lesabre', 'G6') R2 score :  -0.020644315510781608\n",
            "('Lesabre', 'Grand Am') R2 score :  -0.011524177647685319\n",
            "('Lesabre', 'Park Avenue') R2 score :  -0.019045122592226793\n",
            "('Lesabre', 'Sunfire') R2 score :  -0.022777750669926267\n",
            "('Lesabre', 'Century') R2 score :  -0.02179017837912922\n",
            "('Lesabre', 'GTO') R2 score :  -0.011764251611196874\n",
            "('Lesabre', 'Classic') R2 score :  -0.014884400789994423\n",
            "('Lesabre', 'XLR-V8') R2 score :  0.1492658417819982\n",
            "('Lesabre', 'STS-V8') R2 score :  0.08849319332648398\n",
            "('Lesabre', 'STS-V6') R2 score :  0.00894795030611295\n",
            "('Lesabre', 'CTS') R2 score :  -0.003960580370496958\n",
            "('Lesabre', 'CST-V') R2 score :  0.05133853695886337\n",
            "('Lesabre', 'L Series') R2 score :  -0.015960196780434144\n",
            "('Lesabre', '9-2X AWD') R2 score :  -0.020239936277783643\n",
            "('Corvette', '9_3') R2 score :  0.03784820507635822\n",
            "('Corvette', '9_5 HO') R2 score :  0.040171445584573195\n",
            "('Corvette', 'G6') R2 score :  0.01881138007870875\n",
            "('Corvette', 'Grand Am') R2 score :  0.027355103891866017\n",
            "('Corvette', 'Park Avenue') R2 score :  0.020880784043452505\n",
            "('Corvette', 'Sunfire') R2 score :  0.018329469332632797\n",
            "('Corvette', 'Century') R2 score :  0.01849564611840504\n",
            "('Corvette', 'GTO') R2 score :  0.028510815028124026\n",
            "('Corvette', 'Classic') R2 score :  0.024677242314542935\n",
            "('Corvette', 'XLR-V8') R2 score :  0.187559748444315\n",
            "('Corvette', 'STS-V8') R2 score :  0.13199454231832242\n",
            "('Corvette', 'STS-V6') R2 score :  0.048432187049002096\n",
            "('Corvette', 'CTS') R2 score :  0.03721316510192263\n",
            "('Corvette', 'CST-V') R2 score :  0.09196709801929537\n",
            "('Corvette', 'L Series') R2 score :  0.022609837170113778\n",
            "('Corvette', '9-2X AWD') R2 score :  0.019955109203514843\n",
            "('9_3', '9_5 HO') R2 score :  0.020175439142716134\n",
            "('9_3', 'G6') R2 score :  -0.0006454929666075415\n",
            "('9_3', 'Grand Am') R2 score :  0.007912484237639905\n",
            "('9_3', 'Park Avenue') R2 score :  0.0015161094644605688\n",
            "('9_3', 'Sunfire') R2 score :  -0.0024561298290330935\n",
            "('9_3', 'Century') R2 score :  -0.0016028864871751036\n",
            "('9_3', 'GTO') R2 score :  0.008983156803621606\n",
            "('9_3', 'Classic') R2 score :  0.0049476921991704614\n",
            "('9_3', 'XLR-V8') R2 score :  0.17083103324619275\n",
            "('9_3', 'STS-V8') R2 score :  0.11090865610069267\n",
            "('9_3', 'STS-V6') R2 score :  0.0298007358043455\n",
            "('9_3', 'CTS') R2 score :  0.017133918946052762\n",
            "('9_3', 'CST-V') R2 score :  0.0728956721743722\n",
            "('9_3', 'L Series') R2 score :  0.003642471481942411\n",
            "('9_3', '9-2X AWD') R2 score :  0.00018825670774957892\n",
            "('9_5 HO', 'G6') R2 score :  0.000698105071572086\n",
            "('9_5 HO', 'Grand Am') R2 score :  0.009189374552437735\n",
            "('9_5 HO', 'Park Avenue') R2 score :  0.002945563932829298\n",
            "('9_5 HO', 'Sunfire') R2 score :  -0.0013507710960465324\n",
            "('9_5 HO', 'Century') R2 score :  -0.0003676433035517679\n",
            "('9_5 HO', 'GTO') R2 score :  0.010416142694454233\n",
            "('9_5 HO', 'Classic') R2 score :  0.006217598066276198\n",
            "('9_5 HO', 'XLR-V8') R2 score :  0.17297314081742832\n",
            "('9_5 HO', 'STS-V8') R2 score :  0.11223710956934219\n",
            "('9_5 HO', 'STS-V6') R2 score :  0.03143447824237344\n",
            "('9_5 HO', 'CTS') R2 score :  0.018500038353779447\n",
            "('9_5 HO', 'CST-V') R2 score :  0.07453445142317261\n",
            "('9_5 HO', 'L Series') R2 score :  0.0050534058604135845\n",
            "('9_5 HO', '9-2X AWD') R2 score :  0.0015346206861797107\n",
            "('G6', 'Grand Am') R2 score :  -0.009421480641833568\n",
            "('G6', 'Park Avenue') R2 score :  -0.01708780254699671\n",
            "('G6', 'Sunfire') R2 score :  -0.020617304903125966\n",
            "('G6', 'Century') R2 score :  -0.01970059946529701\n",
            "('G6', 'GTO') R2 score :  -0.00982219001688489\n",
            "('G6', 'Classic') R2 score :  -0.012798277951066028\n",
            "('G6', 'XLR-V8') R2 score :  0.15073122447619391\n",
            "('G6', 'STS-V8') R2 score :  0.09041144453066918\n",
            "('G6', 'STS-V6') R2 score :  0.010764196970021622\n",
            "('G6', 'CTS') R2 score :  -0.0019971078439815493\n",
            "('G6', 'CST-V') R2 score :  0.05311398489614083\n",
            "('G6', 'L Series') R2 score :  -0.013948924102058724\n",
            "('G6', '9-2X AWD') R2 score :  -0.018231300033958675\n",
            "('Grand Am', 'Park Avenue') R2 score :  -0.008208013195480923\n",
            "('Grand Am', 'Sunfire') R2 score :  -0.01148515107854231\n",
            "('Grand Am', 'Century') R2 score :  -0.010562135020333319\n",
            "('Grand Am', 'GTO') R2 score :  -0.0010367794028167676\n",
            "('Grand Am', 'Classic') R2 score :  -0.003505478535972495\n",
            "('Grand Am', 'XLR-V8') R2 score :  0.158823491339235\n",
            "('Grand Am', 'STS-V8') R2 score :  0.09845254477318066\n",
            "('Grand Am', 'STS-V6') R2 score :  0.019410461266042622\n",
            "('Grand Am', 'CTS') R2 score :  0.006654256695299732\n",
            "('Grand Am', 'CST-V') R2 score :  0.06142553292452224\n",
            "('Grand Am', 'L Series') R2 score :  -0.004607080791807272\n",
            "('Grand Am', '9-2X AWD') R2 score :  -0.009259058663374953\n",
            "('Park Avenue', 'Sunfire') R2 score :  -0.019020997075010593\n",
            "('Park Avenue', 'Century') R2 score :  -0.01812233622127013\n",
            "('Park Avenue', 'GTO') R2 score :  -0.007890904198389226\n",
            "('Park Avenue', 'Classic') R2 score :  -0.011385590280637459\n",
            "('Park Avenue', 'XLR-V8') R2 score :  0.15329773713380068\n",
            "('Park Avenue', 'STS-V8') R2 score :  0.09313981879069677\n",
            "('Park Avenue', 'STS-V6') R2 score :  0.012817912061891312\n",
            "('Park Avenue', 'CTS') R2 score :  8.373479063228384e-05\n",
            "('Park Avenue', 'CST-V') R2 score :  0.055519819685419636\n",
            "('Park Avenue', 'L Series') R2 score :  -0.012599411509226499\n",
            "('Park Avenue', '9-2X AWD') R2 score :  -0.016489528999328318\n",
            "('Sunfire', 'Century') R2 score :  -0.02191672050758009\n",
            "('Sunfire', 'GTO') R2 score :  -0.011757052113629873\n",
            "('Sunfire', 'Classic') R2 score :  -0.014912956789428167\n",
            "('Sunfire', 'XLR-V8') R2 score :  0.14981639592223495\n",
            "('Sunfire', 'STS-V8') R2 score :  0.08809987773906114\n",
            "('Sunfire', 'STS-V6') R2 score :  0.009145736190117937\n",
            "('Sunfire', 'CTS') R2 score :  -0.004081084709491423\n",
            "('Sunfire', 'CST-V') R2 score :  0.05141510338151356\n",
            "('Sunfire', 'L Series') R2 score :  -0.015780211148811674\n",
            "('Sunfire', '9-2X AWD') R2 score :  -0.02027022306068882\n",
            "('Century', 'GTO') R2 score :  -0.010853002108375476\n",
            "('Century', 'Classic') R2 score :  -0.013948568226106461\n",
            "('Century', 'XLR-V8') R2 score :  0.15022492522020292\n",
            "('Century', 'STS-V8') R2 score :  0.0892457487379924\n",
            "('Century', 'STS-V6') R2 score :  0.009891649835156224\n",
            "('Century', 'CTS') R2 score :  -0.0030898287070288966\n",
            "('Century', 'CST-V') R2 score :  0.052221648000199794\n",
            "('Century', 'L Series') R2 score :  -0.014970542056743419\n",
            "('Century', '9-2X AWD') R2 score :  -0.019323972285011815\n",
            "('GTO', 'Classic') R2 score :  -0.0041590825031609935\n",
            "('GTO', 'XLR-V8') R2 score :  0.1610036531843192\n",
            "('GTO', 'STS-V8') R2 score :  0.1007196871005267\n",
            "('GTO', 'STS-V6') R2 score :  0.020271707363192726\n",
            "('GTO', 'CTS') R2 score :  0.007504020129869282\n",
            "('GTO', 'CST-V') R2 score :  0.06306680969272827\n",
            "('GTO', 'L Series') R2 score :  -0.005373938947528023\n",
            "('GTO', '9-2X AWD') R2 score :  -0.009163246815738546\n",
            "('Classic', 'XLR-V8') R2 score :  0.1563076375021092\n",
            "('Classic', 'STS-V8') R2 score :  0.09569027824460108\n",
            "('Classic', 'STS-V6') R2 score :  0.01643198068587315\n",
            "('Classic', 'CTS') R2 score :  0.003582311399690008\n",
            "('Classic', 'CST-V') R2 score :  0.0586247582316991\n",
            "('Classic', 'L Series') R2 score :  -0.008043712438185135\n",
            "('Classic', '9-2X AWD') R2 score :  -0.012512398489903598\n",
            "('XLR-V8', 'STS-V8') R2 score :  0.26506588690879396\n",
            "('XLR-V8', 'STS-V6') R2 score :  0.18147192421626424\n",
            "('XLR-V8', 'CTS') R2 score :  0.16971776034871788\n",
            "('XLR-V8', 'CST-V') R2 score :  0.22537086702980158\n",
            "('XLR-V8', 'L Series') R2 score :  0.15446319231105754\n",
            "('XLR-V8', '9-2X AWD') R2 score :  0.15205999583148644\n",
            "('STS-V8', 'STS-V6') R2 score :  0.12217085985197729\n",
            "('STS-V8', 'CTS') R2 score :  0.10887916862029923\n",
            "('STS-V8', 'CST-V') R2 score :  0.16567896507182067\n",
            "('STS-V8', 'L Series') R2 score :  0.09465969233814331\n",
            "('STS-V8', '9-2X AWD') R2 score :  0.09149142503806007\n",
            "('STS-V6', 'CTS') R2 score :  0.028457827953766723\n",
            "('STS-V6', 'CST-V') R2 score :  0.08395202651523492\n",
            "('STS-V6', 'L Series') R2 score :  0.015018443039904295\n",
            "('STS-V6', '9-2X AWD') R2 score :  0.011572657819047594\n",
            "('CTS', 'CST-V') R2 score :  0.0713591910737239\n",
            "('CTS', 'L Series') R2 score :  0.002451751901857979\n",
            "('CTS', '9-2X AWD') R2 score :  -0.0012735266729020367\n",
            "('CST-V', 'L Series') R2 score :  0.05724122842894297\n",
            "('CST-V', '9-2X AWD') R2 score :  0.05412705172690302\n",
            "('L Series', '9-2X AWD') R2 score :  -0.013651569378302586\n"
          ]
        }
      ]
    },
    {
      "cell_type": "markdown",
      "source": [
        "TYPE"
      ],
      "metadata": {
        "id": "DN-8mxkm5SSs"
      }
    },
    {
      "cell_type": "code",
      "source": [
        "df3 = pd.get_dummies(df['Type'])"
      ],
      "metadata": {
        "id": "PInaeMbsytOe"
      },
      "execution_count": 98,
      "outputs": []
    },
    {
      "cell_type": "code",
      "source": [
        "df3.head()"
      ],
      "metadata": {
        "colab": {
          "base_uri": "https://localhost:8080/",
          "height": 206
        },
        "id": "uGwBthNY6-en",
        "outputId": "4a0a4a60-6f40-45c0-9034-2e78a442bc31"
      },
      "execution_count": 99,
      "outputs": [
        {
          "output_type": "execute_result",
          "data": {
            "text/plain": [
              "   Convertible  Coupe  Hatchback  Sedan  Wagon\n",
              "0            0      0          0      1      0\n",
              "1            0      0          0      1      0\n",
              "2            0      0          0      1      0\n",
              "3            0      0          0      1      0\n",
              "4            0      0          0      1      0"
            ],
            "text/html": [
              "\n",
              "  <div id=\"df-05772426-20b0-4a26-bd9d-ac59a072f248\">\n",
              "    <div class=\"colab-df-container\">\n",
              "      <div>\n",
              "<style scoped>\n",
              "    .dataframe tbody tr th:only-of-type {\n",
              "        vertical-align: middle;\n",
              "    }\n",
              "\n",
              "    .dataframe tbody tr th {\n",
              "        vertical-align: top;\n",
              "    }\n",
              "\n",
              "    .dataframe thead th {\n",
              "        text-align: right;\n",
              "    }\n",
              "</style>\n",
              "<table border=\"1\" class=\"dataframe\">\n",
              "  <thead>\n",
              "    <tr style=\"text-align: right;\">\n",
              "      <th></th>\n",
              "      <th>Convertible</th>\n",
              "      <th>Coupe</th>\n",
              "      <th>Hatchback</th>\n",
              "      <th>Sedan</th>\n",
              "      <th>Wagon</th>\n",
              "    </tr>\n",
              "  </thead>\n",
              "  <tbody>\n",
              "    <tr>\n",
              "      <th>0</th>\n",
              "      <td>0</td>\n",
              "      <td>0</td>\n",
              "      <td>0</td>\n",
              "      <td>1</td>\n",
              "      <td>0</td>\n",
              "    </tr>\n",
              "    <tr>\n",
              "      <th>1</th>\n",
              "      <td>0</td>\n",
              "      <td>0</td>\n",
              "      <td>0</td>\n",
              "      <td>1</td>\n",
              "      <td>0</td>\n",
              "    </tr>\n",
              "    <tr>\n",
              "      <th>2</th>\n",
              "      <td>0</td>\n",
              "      <td>0</td>\n",
              "      <td>0</td>\n",
              "      <td>1</td>\n",
              "      <td>0</td>\n",
              "    </tr>\n",
              "    <tr>\n",
              "      <th>3</th>\n",
              "      <td>0</td>\n",
              "      <td>0</td>\n",
              "      <td>0</td>\n",
              "      <td>1</td>\n",
              "      <td>0</td>\n",
              "    </tr>\n",
              "    <tr>\n",
              "      <th>4</th>\n",
              "      <td>0</td>\n",
              "      <td>0</td>\n",
              "      <td>0</td>\n",
              "      <td>1</td>\n",
              "      <td>0</td>\n",
              "    </tr>\n",
              "  </tbody>\n",
              "</table>\n",
              "</div>\n",
              "      <button class=\"colab-df-convert\" onclick=\"convertToInteractive('df-05772426-20b0-4a26-bd9d-ac59a072f248')\"\n",
              "              title=\"Convert this dataframe to an interactive table.\"\n",
              "              style=\"display:none;\">\n",
              "        \n",
              "  <svg xmlns=\"http://www.w3.org/2000/svg\" height=\"24px\"viewBox=\"0 0 24 24\"\n",
              "       width=\"24px\">\n",
              "    <path d=\"M0 0h24v24H0V0z\" fill=\"none\"/>\n",
              "    <path d=\"M18.56 5.44l.94 2.06.94-2.06 2.06-.94-2.06-.94-.94-2.06-.94 2.06-2.06.94zm-11 1L8.5 8.5l.94-2.06 2.06-.94-2.06-.94L8.5 2.5l-.94 2.06-2.06.94zm10 10l.94 2.06.94-2.06 2.06-.94-2.06-.94-.94-2.06-.94 2.06-2.06.94z\"/><path d=\"M17.41 7.96l-1.37-1.37c-.4-.4-.92-.59-1.43-.59-.52 0-1.04.2-1.43.59L10.3 9.45l-7.72 7.72c-.78.78-.78 2.05 0 2.83L4 21.41c.39.39.9.59 1.41.59.51 0 1.02-.2 1.41-.59l7.78-7.78 2.81-2.81c.8-.78.8-2.07 0-2.86zM5.41 20L4 18.59l7.72-7.72 1.47 1.35L5.41 20z\"/>\n",
              "  </svg>\n",
              "      </button>\n",
              "      \n",
              "  <style>\n",
              "    .colab-df-container {\n",
              "      display:flex;\n",
              "      flex-wrap:wrap;\n",
              "      gap: 12px;\n",
              "    }\n",
              "\n",
              "    .colab-df-convert {\n",
              "      background-color: #E8F0FE;\n",
              "      border: none;\n",
              "      border-radius: 50%;\n",
              "      cursor: pointer;\n",
              "      display: none;\n",
              "      fill: #1967D2;\n",
              "      height: 32px;\n",
              "      padding: 0 0 0 0;\n",
              "      width: 32px;\n",
              "    }\n",
              "\n",
              "    .colab-df-convert:hover {\n",
              "      background-color: #E2EBFA;\n",
              "      box-shadow: 0px 1px 2px rgba(60, 64, 67, 0.3), 0px 1px 3px 1px rgba(60, 64, 67, 0.15);\n",
              "      fill: #174EA6;\n",
              "    }\n",
              "\n",
              "    [theme=dark] .colab-df-convert {\n",
              "      background-color: #3B4455;\n",
              "      fill: #D2E3FC;\n",
              "    }\n",
              "\n",
              "    [theme=dark] .colab-df-convert:hover {\n",
              "      background-color: #434B5C;\n",
              "      box-shadow: 0px 1px 3px 1px rgba(0, 0, 0, 0.15);\n",
              "      filter: drop-shadow(0px 1px 2px rgba(0, 0, 0, 0.3));\n",
              "      fill: #FFFFFF;\n",
              "    }\n",
              "  </style>\n",
              "\n",
              "      <script>\n",
              "        const buttonEl =\n",
              "          document.querySelector('#df-05772426-20b0-4a26-bd9d-ac59a072f248 button.colab-df-convert');\n",
              "        buttonEl.style.display =\n",
              "          google.colab.kernel.accessAllowed ? 'block' : 'none';\n",
              "\n",
              "        async function convertToInteractive(key) {\n",
              "          const element = document.querySelector('#df-05772426-20b0-4a26-bd9d-ac59a072f248');\n",
              "          const dataTable =\n",
              "            await google.colab.kernel.invokeFunction('convertToInteractive',\n",
              "                                                     [key], {});\n",
              "          if (!dataTable) return;\n",
              "\n",
              "          const docLinkHtml = 'Like what you see? Visit the ' +\n",
              "            '<a target=\"_blank\" href=https://colab.research.google.com/notebooks/data_table.ipynb>data table notebook</a>'\n",
              "            + ' to learn more about interactive tables.';\n",
              "          element.innerHTML = '';\n",
              "          dataTable['output_type'] = 'display_data';\n",
              "          await google.colab.output.renderOutput(dataTable, element);\n",
              "          const docLink = document.createElement('div');\n",
              "          docLink.innerHTML = docLinkHtml;\n",
              "          element.appendChild(docLink);\n",
              "        }\n",
              "      </script>\n",
              "    </div>\n",
              "  </div>\n",
              "  "
            ]
          },
          "metadata": {},
          "execution_count": 99
        }
      ]
    },
    {
      "cell_type": "code",
      "source": [
        "for i in list(combinations(['Sedan', 'Coupe', 'Wagon', 'Hatchback', 'Convertible'],2)):\n",
        "  # feature and target\n",
        "  X = df3[list(i)].values\n",
        "  y = df['Price'].values\n",
        " \n",
        "  # split\n",
        "  X_train, X_test, y_train, y_test = train_test_split(X, y, test_size=0.3, random_state = 285)\n",
        "  \n",
        "  # scale\n",
        "  scaler = StandardScaler()\n",
        "  scaler.fit(X_train)\n",
        "  X_train_scaled = scaler.transform(X_train)\n",
        "  X_test_scaled = scaler.transform(X_test)\n",
        "  \n",
        "  # model\n",
        "  regressor = LinearRegression() \n",
        "  regressor.fit(X_train_scaled, y_train)\n",
        " \n",
        "  # print('Co-efficient :', regressor.coef_ , 'Intercept :', regressor.intercept_)\n",
        " \n",
        "  # Predict\n",
        "  y_pred = regressor.predict(X_test_scaled)\n",
        " \n",
        "  # Evaluation\n",
        "  print(i, 'R2 score : ', regressor.score(X_test_scaled,y_test))"
      ],
      "metadata": {
        "colab": {
          "base_uri": "https://localhost:8080/"
        },
        "id": "hez46vOe6-bs",
        "outputId": "715743fa-e7b2-46c7-bc58-4a01a621faa1"
      },
      "execution_count": 100,
      "outputs": [
        {
          "output_type": "stream",
          "name": "stdout",
          "text": [
            "('Sedan', 'Coupe') R2 score :  0.0032568308187311823\n",
            "('Sedan', 'Wagon') R2 score :  -0.040634210790170266\n",
            "('Sedan', 'Hatchback') R2 score :  0.03242786390352581\n",
            "('Sedan', 'Convertible') R2 score :  0.18128501072328496\n",
            "('Coupe', 'Wagon') R2 score :  0.008266930756849922\n",
            "('Coupe', 'Hatchback') R2 score :  0.08573155086434281\n",
            "('Coupe', 'Convertible') R2 score :  0.18250733764317162\n",
            "('Wagon', 'Hatchback') R2 score :  0.03065840529342656\n",
            "('Wagon', 'Convertible') R2 score :  0.17810921716359562\n",
            "('Hatchback', 'Convertible') R2 score :  0.2023927033491879\n"
          ]
        }
      ]
    },
    {
      "cell_type": "code",
      "source": [
        "# A combination of hatchback and Convertible has the highest R2 score of 0.202"
      ],
      "metadata": {
        "id": "A9xWwmUB6-X6"
      },
      "execution_count": 101,
      "outputs": []
    },
    {
      "cell_type": "code",
      "source": [
        "for i in list(combinations(['Sedan', 'Coupe', 'Wagon', 'Hatchback', 'Convertible'],3)):\n",
        "  # feature and target\n",
        "  X = df3[list(i)].values\n",
        "  y = df['Price'].values\n",
        " \n",
        "  # split\n",
        "  X_train, X_test, y_train, y_test = train_test_split(X, y, test_size=0.3, random_state = 285)\n",
        " \n",
        "  # scale\n",
        "  scaler = StandardScaler()\n",
        "  scaler.fit(X_train)\n",
        "  X_train_scaled = scaler.transform(X_train)\n",
        "  X_test_scaled = scaler.transform(X_test)\n",
        " \n",
        "  # model\n",
        "  regressor = LinearRegression() \n",
        "  regressor.fit(X_train_scaled, y_train)\n",
        " \n",
        "  # print('Co-efficient :', regressor.coef_ , 'Intercept :', regressor.intercept_)\n",
        " \n",
        "  # Predict\n",
        "  y_pred = regressor.predict(X_test_scaled)\n",
        " \n",
        "  # Evaluation\n",
        "  print(i, 'R2 score : ', regressor.score(X_test_scaled,y_test))"
      ],
      "metadata": {
        "colab": {
          "base_uri": "https://localhost:8080/"
        },
        "id": "BF1sQwjZ6-Vb",
        "outputId": "6ad65e29-0982-4dda-e819-fbb44f66237d"
      },
      "execution_count": 102,
      "outputs": [
        {
          "output_type": "stream",
          "name": "stdout",
          "text": [
            "('Sedan', 'Coupe', 'Wagon') R2 score :  -0.052438337365560805\n",
            "('Sedan', 'Coupe', 'Hatchback') R2 score :  0.1748431296749844\n",
            "('Sedan', 'Coupe', 'Convertible') R2 score :  0.18158304765057198\n",
            "('Sedan', 'Wagon', 'Hatchback') R2 score :  0.008238410740529556\n",
            "('Sedan', 'Wagon', 'Convertible') R2 score :  0.2324502621166542\n",
            "('Sedan', 'Hatchback', 'Convertible') R2 score :  0.20446870446272591\n",
            "('Coupe', 'Wagon', 'Hatchback') R2 score :  0.07504832676172146\n",
            "('Coupe', 'Wagon', 'Convertible') R2 score :  0.1929457773029315\n",
            "('Coupe', 'Hatchback', 'Convertible') R2 score :  0.23327131443799898\n",
            "('Wagon', 'Hatchback', 'Convertible') R2 score :  0.21288512049826214\n"
          ]
        }
      ]
    },
    {
      "cell_type": "code",
      "source": [
        "# A combination of 'Coupe', 'Hatchback' and 'Convertible' has the highest R2 score of 0.233"
      ],
      "metadata": {
        "id": "xjGs5d4l8R0J"
      },
      "execution_count": 103,
      "outputs": []
    },
    {
      "cell_type": "code",
      "source": [
        "for i in list(combinations(['Sedan', 'Coupe', 'Wagon', 'Hatchback', 'Convertible'],4)):\n",
        "  # feature and target\n",
        "  X = df3[list(i)].values\n",
        "  y = df['Price'].values\n",
        " \n",
        "  # split\n",
        "  X_train, X_test, y_train, y_test = train_test_split(X, y, test_size=0.3, random_state = 285)\n",
        "  \n",
        "  # scale\n",
        "  scaler = StandardScaler()\n",
        "  scaler.fit(X_train)\n",
        "  X_train_scaled = scaler.transform(X_train)\n",
        "  X_test_scaled = scaler.transform(X_test)\n",
        "  \n",
        "  # model\n",
        "  regressor = LinearRegression() \n",
        "  regressor.fit(X_train_scaled, y_train)\n",
        " \n",
        "  # print('Co-efficient :', regressor.coef_ , 'Intercept :', regressor.intercept_)\n",
        " \n",
        "  # Predict\n",
        "  y_pred = regressor.predict(X_test_scaled)\n",
        " \n",
        "  # Evaluation\n",
        "  print(i, 'R2 score : ', regressor.score(X_test_scaled,y_test))"
      ],
      "metadata": {
        "colab": {
          "base_uri": "https://localhost:8080/"
        },
        "id": "2mN7VFqyytK8",
        "outputId": "3bb725ab-8b73-48c9-a548-a8c5a9b0d0c0"
      },
      "execution_count": 104,
      "outputs": [
        {
          "output_type": "stream",
          "name": "stdout",
          "text": [
            "('Sedan', 'Coupe', 'Wagon', 'Hatchback') R2 score :  0.23735109062479076\n",
            "('Sedan', 'Coupe', 'Wagon', 'Convertible') R2 score :  0.2373510906247912\n",
            "('Sedan', 'Coupe', 'Hatchback', 'Convertible') R2 score :  0.23735109062479098\n",
            "('Sedan', 'Wagon', 'Hatchback', 'Convertible') R2 score :  0.23735109062479076\n",
            "('Coupe', 'Wagon', 'Hatchback', 'Convertible') R2 score :  0.23735109062479076\n"
          ]
        }
      ]
    },
    {
      "cell_type": "code",
      "source": [
        "# All combinations of 4 features show the same R2 score of 0.2373"
      ],
      "metadata": {
        "id": "f9hnzG0o84hw"
      },
      "execution_count": 105,
      "outputs": []
    },
    {
      "cell_type": "markdown",
      "source": [
        "**2. Find the best combination of factors to predict price.**"
      ],
      "metadata": {
        "id": "Wl9UR_FfsoNA"
      }
    },
    {
      "cell_type": "markdown",
      "source": [
        "After trying One hot encoding for Make, Model and Body Type and finding the combination of factors to predict the price, we may say that by the combinations in Make feature predicts the price the best."
      ],
      "metadata": {
        "id": "2qnoczjR_NhF"
      }
    },
    {
      "cell_type": "code",
      "source": [],
      "metadata": {
        "id": "-5MkGzCnssLl"
      },
      "execution_count": 105,
      "outputs": []
    }
  ]
}